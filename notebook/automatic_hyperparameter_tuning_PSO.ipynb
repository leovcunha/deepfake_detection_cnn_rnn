{
  "cells": [
    {
      "cell_type": "markdown",
      "metadata": {
        "id": "vT0ZeOGYfnYR"
      },
      "source": [
        "##***DeepFake Detection Using Deep Learning***\n",
        "\n",
        "\n"
      ]
    },
    {
      "cell_type": "markdown",
      "metadata": {
        "id": "hXpkNPub7U3e"
      },
      "source": [
        "## **Setup and Library Imports**"
      ]
    },
    {
      "cell_type": "code",
      "execution_count": 8,
      "metadata": {
        "id": "OsUJoBpV1QRl"
      },
      "outputs": [],
      "source": [
        "import os\n",
        "import torch\n",
        "from torch import nn\n",
        "import random\n",
        "from torch.utils.data import DataLoader\n",
        "import numpy as np\n",
        "import pandas as pd\n",
        "from sklearn.metrics import confusion_matrix\n",
        "from tqdm.notebook import tqdm"
      ]
    },
    {
      "cell_type": "code",
      "execution_count": 2,
      "metadata": {},
      "outputs": [],
      "source": [
        "seed=40302\n",
        "random.seed(seed)\n",
        "os.environ['PYTHONHASHSEED'] = str(seed)\n",
        "np.random.seed(seed)\n",
        "torch.manual_seed(seed)\n",
        "torch.cuda.manual_seed(seed)\n",
        "torch.backends.cudnn.deterministic = True\n",
        "torch.backends.cudnn.benchmark = True"
      ]
    },
    {
      "cell_type": "code",
      "execution_count": 3,
      "metadata": {},
      "outputs": [],
      "source": [
        "import os\n",
        "os.chdir('../')"
      ]
    },
    {
      "cell_type": "code",
      "execution_count": 4,
      "metadata": {},
      "outputs": [
        {
          "data": {
            "text/plain": [
              "'h:\\\\project'"
            ]
          },
          "execution_count": 4,
          "metadata": {},
          "output_type": "execute_result"
        }
      ],
      "source": [
        "os.getcwd()"
      ]
    },
    {
      "cell_type": "markdown",
      "metadata": {
        "id": "HoWTTdC39_H8"
      },
      "source": [
        "## **Helper Functions**"
      ]
    },
    {
      "cell_type": "code",
      "execution_count": 5,
      "metadata": {},
      "outputs": [],
      "source": [
        "from src.utils import *"
      ]
    },
    {
      "cell_type": "markdown",
      "metadata": {
        "id": "-HvqqUTM-gTT"
      },
      "source": [
        "## **Data Reading, Splitting and Loading**"
      ]
    },
    {
      "cell_type": "code",
      "execution_count": 6,
      "metadata": {},
      "outputs": [],
      "source": [
        "from src.dataset import *"
      ]
    },
    {
      "cell_type": "code",
      "execution_count": 7,
      "metadata": {},
      "outputs": [],
      "source": [
        "train_df, valid_df, _, _ = load_data()"
      ]
    },
    {
      "cell_type": "code",
      "execution_count": 8,
      "metadata": {},
      "outputs": [
        {
          "data": {
            "text/plain": [
              "FAKE    187\n",
              "REAL    185\n",
              "Name: label, dtype: int64"
            ]
          },
          "execution_count": 8,
          "metadata": {},
          "output_type": "execute_result"
        }
      ],
      "source": [
        "_, pso_index = get_split(train_df, size=0.05)\n",
        "train_pso = train_df.loc[pso_index, :]\n",
        "train_pso.reset_index(drop=True, inplace=True)\n",
        "train_pso.label.value_counts()"
      ]
    },
    {
      "cell_type": "code",
      "execution_count": 9,
      "metadata": {},
      "outputs": [
        {
          "data": {
            "text/plain": [
              "FAKE    216\n",
              "REAL    120\n",
              "Name: label, dtype: int64"
            ]
          },
          "execution_count": 9,
          "metadata": {},
          "output_type": "execute_result"
        }
      ],
      "source": [
        "_, pso_index = get_split(valid_df, size=0.25)\n",
        "valid_pso = valid_df.loc[pso_index, :]\n",
        "valid_pso.reset_index(drop=True, inplace=True)\n",
        "valid_pso.label.value_counts()"
      ]
    },
    {
      "cell_type": "code",
      "execution_count": 10,
      "metadata": {},
      "outputs": [
        {
          "data": {
            "text/html": [
              "<div>\n",
              "<style scoped>\n",
              "    .dataframe tbody tr th:only-of-type {\n",
              "        vertical-align: middle;\n",
              "    }\n",
              "\n",
              "    .dataframe tbody tr th {\n",
              "        vertical-align: top;\n",
              "    }\n",
              "\n",
              "    .dataframe thead th {\n",
              "        text-align: right;\n",
              "    }\n",
              "</style>\n",
              "<table border=\"1\" class=\"dataframe\">\n",
              "  <thead>\n",
              "    <tr style=\"text-align: right;\">\n",
              "      <th></th>\n",
              "      <th>filename</th>\n",
              "      <th>label</th>\n",
              "      <th>path</th>\n",
              "      <th>origin</th>\n",
              "      <th>frames</th>\n",
              "      <th>inv_frame</th>\n",
              "    </tr>\n",
              "  </thead>\n",
              "  <tbody>\n",
              "    <tr>\n",
              "      <th>0</th>\n",
              "      <td>xjzmkuxskq.mp4</td>\n",
              "      <td>REAL</td>\n",
              "      <td>h:\\project\\dfdc\\dfdc_part_1_1\\xjzmkuxskq</td>\n",
              "      <td>dfdc</td>\n",
              "      <td>1</td>\n",
              "      <td>0</td>\n",
              "    </tr>\n",
              "    <tr>\n",
              "      <th>1</th>\n",
              "      <td>id42_id48_0002.mp4</td>\n",
              "      <td>FAKE</td>\n",
              "      <td>h:\\project\\CelebDF-v2\\faces\\id42_id48_0002</td>\n",
              "      <td>CelebDF-v2</td>\n",
              "      <td>1</td>\n",
              "      <td>0</td>\n",
              "    </tr>\n",
              "    <tr>\n",
              "      <th>2</th>\n",
              "      <td>jkonwkrhqp.mp4</td>\n",
              "      <td>REAL</td>\n",
              "      <td>h:\\project\\dfdc\\dfdc_part_2_2\\jkonwkrhqp</td>\n",
              "      <td>dfdc</td>\n",
              "      <td>3</td>\n",
              "      <td>1</td>\n",
              "    </tr>\n",
              "    <tr>\n",
              "      <th>3</th>\n",
              "      <td>Sally_Kirkland_2</td>\n",
              "      <td>REAL</td>\n",
              "      <td>./youtube_faces_dataset/faces\\Sally_Kirkland_2</td>\n",
              "      <td>ytf</td>\n",
              "      <td>1</td>\n",
              "      <td>0</td>\n",
              "    </tr>\n",
              "    <tr>\n",
              "      <th>4</th>\n",
              "      <td>vejylrlysf.mp4</td>\n",
              "      <td>FAKE</td>\n",
              "      <td>h:\\project\\dfdc\\dfdc_part_2_1\\vejylrlysf</td>\n",
              "      <td>dfdc</td>\n",
              "      <td>1</td>\n",
              "      <td>0</td>\n",
              "    </tr>\n",
              "  </tbody>\n",
              "</table>\n",
              "</div>"
            ],
            "text/plain": [
              "             filename label                                            path  \\\n",
              "0      xjzmkuxskq.mp4  REAL        h:\\project\\dfdc\\dfdc_part_1_1\\xjzmkuxskq   \n",
              "1  id42_id48_0002.mp4  FAKE      h:\\project\\CelebDF-v2\\faces\\id42_id48_0002   \n",
              "2      jkonwkrhqp.mp4  REAL        h:\\project\\dfdc\\dfdc_part_2_2\\jkonwkrhqp   \n",
              "3    Sally_Kirkland_2  REAL  ./youtube_faces_dataset/faces\\Sally_Kirkland_2   \n",
              "4      vejylrlysf.mp4  FAKE        h:\\project\\dfdc\\dfdc_part_2_1\\vejylrlysf   \n",
              "\n",
              "       origin  frames  inv_frame  \n",
              "0        dfdc       1          0  \n",
              "1  CelebDF-v2       1          0  \n",
              "2        dfdc       3          1  \n",
              "3         ytf       1          0  \n",
              "4        dfdc       1          0  "
            ]
          },
          "execution_count": 10,
          "metadata": {},
          "output_type": "execute_result"
        }
      ],
      "source": [
        "train_pso.head()"
      ]
    },
    {
      "cell_type": "markdown",
      "metadata": {},
      "source": [
        "## **Run PSO optimization loop**"
      ]
    },
    {
      "cell_type": "code",
      "execution_count": 11,
      "metadata": {
        "id": "pgnylhHX9Og_"
      },
      "outputs": [],
      "source": [
        "from src.models.deepfake_detectors import Efficientnet\n",
        "from src.train_val_funcs import train_epoch, run_inference\n",
        "from pso import *"
      ]
    },
    {
      "cell_type": "code",
      "execution_count": 12,
      "metadata": {},
      "outputs": [
        {
          "name": "stderr",
          "output_type": "stream",
          "text": [
            "Clipping input data to the valid range for imshow with RGB data ([0..1] for floats or [0..255] for integers).\n"
          ]
        },
        {
          "data": {
            "image/png": "[encoded data removed]",
            "text/plain": [
              "<Figure size 432x288 with 1 Axes>"
            ]
          },
          "metadata": {
            "needs_background": "light"
          },
          "output_type": "display_data"
        }
      ],
      "source": [
        "#preprocess the data\n",
        "train_data = VideoDataset(train_pso, 50, transform = train_transforms(160))\n",
        "val_data = VideoDataset(valid_pso, 50, transform = test_transforms(160))\n",
        "\n",
        "#load the data into dataloaders\n",
        "train_loader = DataLoader(train_data, batch_size = 4, shuffle = True, num_workers = 0)\n",
        "valid_loader = DataLoader(val_data, batch_size = 4, shuffle = True, num_workers = 0)\n",
        "#plot the data\n",
        "image,label = train_data[1]\n",
        "im_plot(image[1,:,:,:])"
      ]
    },
    {
      "cell_type": "code",
      "execution_count": 13,
      "metadata": {},
      "outputs": [],
      "source": [
        "\n",
        "def train_function(learning_rate=0.001, dropout_rate=0.3, image_size=112, frames_to_use=50, weight_decay=1e-5):\n",
        "    #learning rate\n",
        "    lr = learning_rate\n",
        "    \n",
        "    #preprocess the data\n",
        "    train_data = VideoDataset(train_pso, frames_to_use, image_size, transform = train_transforms(image_size) )\n",
        "    val_data = VideoDataset(valid_pso, frames_to_use, image_size, transform = test_transforms(image_size) )\n",
        "\n",
        "    #load the data into dataloaders\n",
        "    train_loader = DataLoader(train_data, batch_size = 4, shuffle = True, num_workers = 0)\n",
        "    valid_loader = DataLoader(val_data, batch_size = 4, shuffle = True, num_workers = 0)\n",
        "    \n",
        "    #instantiate the model\n",
        "    model1 = Efficientnet(2, dropout_rate).cuda()\n",
        "    #number of epochs \n",
        "    num_epochs = 5\n",
        "\n",
        "    optimizer = torch.optim.Adam(model1.parameters(), lr= lr, weight_decay = weight_decay)\n",
        "\n",
        "    criterion = nn.CrossEntropyLoss().cuda()\n",
        "    train_loss_avg =[]\n",
        "    train_accuracy = []\n",
        "    val_loss_avg = []\n",
        "    val_accuracy = []\n",
        "    best_accuracy = 0\n",
        "    for epoch in range(1,num_epochs+1):\n",
        "        l, acc = train_epoch(epoch,train_loader,model1,criterion,optimizer)\n",
        "        train_loss_avg.append(l)\n",
        "        train_accuracy.append(acc)\n",
        "        #validation step\n",
        "        true,pred,tl,t_acc = run_inference(model1,valid_loader,criterion)\n",
        "        val_loss_avg.append(tl)\n",
        "        val_accuracy.append(t_acc)\n",
        "        if t_acc > best_accuracy:\n",
        "            best_accuracy = t_acc\n",
        "            torch.save(model1.state_dict(),'./effnet_{}.pt'.format(epoch))\n",
        "    return tl\n",
        "    "
      ]
    },
    {
      "cell_type": "code",
      "execution_count": 14,
      "metadata": {},
      "outputs": [],
      "source": [
        "pso = PSO(w=0.5, hyperparam={'learning_rate':[1e-5, 1e-3], 'dropout_rate': [0.1, 0.9], 'image_size': [100, 128], \n",
        "                             'frames_to_use': [10,50] }, c1=1.2, c2=1.2, num_particles=10)"
      ]
    },
    {
      "cell_type": "code",
      "execution_count": 15,
      "metadata": {},
      "outputs": [
        {
          "data": {
            "application/vnd.jupyter.widget-view+json": {
              "model_id": "d11cd9b63e5f4df48cad8199ef7dd81b",
              "version_major": 2,
              "version_minor": 0
            },
            "text/plain": [
              "  0%|          | 0/84 [00:00<?, ?it/s]"
            ]
          },
          "metadata": {},
          "output_type": "display_data"
        },
        {
          "data": {
            "application/vnd.jupyter.widget-view+json": {
              "model_id": "09b5c3b7652a47d7a511e27e95b824d4",
              "version_major": 2,
              "version_minor": 0
            },
            "text/plain": [
              "  0%|          | 0/93 [00:00<?, ?it/s]"
            ]
          },
          "metadata": {},
          "output_type": "display_data"
        },
        {
          "data": {
            "application/vnd.jupyter.widget-view+json": {
              "model_id": "e5d85b287c2948cdbc6c7b9827dfb48a",
              "version_major": 2,
              "version_minor": 0
            },
            "text/plain": [
              "  0%|          | 0/84 [00:00<?, ?it/s]"
            ]
          },
          "metadata": {},
          "output_type": "display_data"
        },
        {
          "data": {
            "application/vnd.jupyter.widget-view+json": {
              "model_id": "b44c96a3859e47a39cdde477405a98eb",
              "version_major": 2,
              "version_minor": 0
            },
            "text/plain": [
              "  0%|          | 0/93 [00:00<?, ?it/s]"
            ]
          },
          "metadata": {},
          "output_type": "display_data"
        },
        {
          "data": {
            "application/vnd.jupyter.widget-view+json": {
              "model_id": "52841f765d0c4b818c531688a07af76a",
              "version_major": 2,
              "version_minor": 0
            },
            "text/plain": [
              "  0%|          | 0/84 [00:00<?, ?it/s]"
            ]
          },
          "metadata": {},
          "output_type": "display_data"
        },
        {
          "data": {
            "application/vnd.jupyter.widget-view+json": {
              "model_id": "81bd989a79d4441383a1df9ee683eb17",
              "version_major": 2,
              "version_minor": 0
            },
            "text/plain": [
              "  0%|          | 0/93 [00:00<?, ?it/s]"
            ]
          },
          "metadata": {},
          "output_type": "display_data"
        },
        {
          "data": {
            "application/vnd.jupyter.widget-view+json": {
              "model_id": "9ae6a7ecc05c444488c11999d046ec9c",
              "version_major": 2,
              "version_minor": 0
            },
            "text/plain": [
              "  0%|          | 0/84 [00:00<?, ?it/s]"
            ]
          },
          "metadata": {},
          "output_type": "display_data"
        },
        {
          "name": "stdout",
          "output_type": "stream",
          "text": [
            "personal best  [array([7.05736117e-04, 1.47053148e-01, 1.06000000e+02, 3.50000000e+01]), array([3.86384573e-04, 2.86634639e-01, 1.03000000e+02, 3.70000000e+01]), array([2.17358482e-04, 4.35151260e-01, 1.01000000e+02, 4.10000000e+01]), array([2.17358482e-04, 4.35151260e-01, 1.01000000e+02, 4.10000000e+01]), array([2.17358482e-04, 4.35151260e-01, 1.01000000e+02, 4.10000000e+01]), array([2.70597153e-04, 2.32790810e-01, 1.01000000e+02, 3.80000000e+01]), array([2.51706785e-04, 2.16479510e-01, 1.01000000e+02, 4.20000000e+01]), array([2.51706785e-04, 2.16479510e-01, 1.01000000e+02, 4.20000000e+01]), array([2.51706785e-04, 2.16479510e-01, 1.01000000e+02, 4.20000000e+01]), array([2.51706785e-04, 2.16479510e-01, 1.01000000e+02, 4.20000000e+01]), array([2.51706785e-04, 2.16479510e-01, 1.01000000e+02, 4.20000000e+01]), array([2.51706785e-04, 2.16479510e-01, 1.01000000e+02, 4.20000000e+01]), array([2.44483289e-04, 2.89744756e-01, 1.00000000e+02, 4.00000000e+01]), array([2.44483289e-04, 2.89744756e-01, 1.00000000e+02, 4.00000000e+01]), array([2.44483289e-04, 2.89744756e-01, 1.00000000e+02, 4.00000000e+01]), array([2.44483289e-04, 2.89744756e-01, 1.00000000e+02, 4.00000000e+01]), array([2.44483289e-04, 2.89744756e-01, 1.00000000e+02, 4.00000000e+01]), array([2.44483289e-04, 2.89744756e-01, 1.00000000e+02, 4.00000000e+01])]\n",
            "global best  [array([7.05736117e-04, 1.47053148e-01, 1.06000000e+02, 3.50000000e+01]), array([3.86384573e-04, 2.86634639e-01, 1.03000000e+02, 3.70000000e+01]), array([2.17358482e-04, 4.35151260e-01, 1.01000000e+02, 4.10000000e+01]), array([2.17358482e-04, 4.35151260e-01, 1.01000000e+02, 4.10000000e+01]), array([2.17358482e-04, 4.35151260e-01, 1.01000000e+02, 4.10000000e+01]), array([2.70597153e-04, 2.32790810e-01, 1.01000000e+02, 3.80000000e+01]), array([2.51706785e-04, 2.16479510e-01, 1.01000000e+02, 4.20000000e+01]), array([2.51706785e-04, 2.16479510e-01, 1.01000000e+02, 4.20000000e+01]), array([2.51706785e-04, 2.16479510e-01, 1.01000000e+02, 4.20000000e+01]), array([2.51706785e-04, 2.16479510e-01, 1.01000000e+02, 4.20000000e+01]), array([2.51706785e-04, 2.16479510e-01, 1.01000000e+02, 4.20000000e+01]), array([2.51706785e-04, 2.16479510e-01, 1.01000000e+02, 4.20000000e+01]), array([2.44483289e-04, 2.89744756e-01, 1.00000000e+02, 4.00000000e+01]), array([2.44483289e-04, 2.89744756e-01, 1.00000000e+02, 4.00000000e+01]), array([2.44483289e-04, 2.89744756e-01, 1.00000000e+02, 4.00000000e+01]), array([2.44483289e-04, 2.89744756e-01, 1.00000000e+02, 4.00000000e+01]), array([2.44483289e-04, 2.89744756e-01, 1.00000000e+02, 4.00000000e+01]), array([2.44483289e-04, 2.89744756e-01, 1.00000000e+02, 4.00000000e+01])]\n",
            "particle params:  [0.0002796555649224502, 0.2771170673740649, 104.0, 34.0]\n"
          ]
        },
        {
          "data": {
            "application/vnd.jupyter.widget-view+json": {
              "model_id": "189cccfdc4404c56860c23f909841f1a",
              "version_major": 2,
              "version_minor": 0
            },
            "text/plain": [
              "  0%|          | 0/93 [00:00<?, ?it/s]"
            ]
          },
          "metadata": {},
          "output_type": "display_data"
        },
        {
          "data": {
            "application/vnd.jupyter.widget-view+json": {
              "model_id": "b7bd2312c1994633808fee58dac3d775",
              "version_major": 2,
              "version_minor": 0
            },
            "text/plain": [
              "  0%|          | 0/84 [00:00<?, ?it/s]"
            ]
          },
          "metadata": {},
          "output_type": "display_data"
        },
        {
          "data": {
            "application/vnd.jupyter.widget-view+json": {
              "model_id": "5263398d164944b2b6efb0e82ed8c887",
              "version_major": 2,
              "version_minor": 0
            },
            "text/plain": [
              "  0%|          | 0/93 [00:00<?, ?it/s]"
            ]
          },
          "metadata": {},
          "output_type": "display_data"
        },
        {
          "data": {
            "application/vnd.jupyter.widget-view+json": {
              "model_id": "8101a0aff5d445d88d81742723ac25ee",
              "version_major": 2,
              "version_minor": 0
            },
            "text/plain": [
              "  0%|          | 0/84 [00:00<?, ?it/s]"
            ]
          },
          "metadata": {},
          "output_type": "display_data"
        },
        {
          "data": {
            "application/vnd.jupyter.widget-view+json": {
              "model_id": "bd290baac39443ac9d9e1f3555ecc46c",
              "version_major": 2,
              "version_minor": 0
            },
            "text/plain": [
              "  0%|          | 0/93 [00:00<?, ?it/s]"
            ]
          },
          "metadata": {},
          "output_type": "display_data"
        },
        {
          "data": {
            "application/vnd.jupyter.widget-view+json": {
              "model_id": "9fb9639bb1504f0ba7c9a3cedb94b13d",
              "version_major": 2,
              "version_minor": 0
            },
            "text/plain": [
              "  0%|          | 0/84 [00:00<?, ?it/s]"
            ]
          },
          "metadata": {},
          "output_type": "display_data"
        },
        {
          "data": {
            "application/vnd.jupyter.widget-view+json": {
              "model_id": "1fce3afeca2f4b908036d1f605e7176c",
              "version_major": 2,
              "version_minor": 0
            },
            "text/plain": [
              "  0%|          | 0/93 [00:00<?, ?it/s]"
            ]
          },
          "metadata": {},
          "output_type": "display_data"
        },
        {
          "data": {
            "application/vnd.jupyter.widget-view+json": {
              "model_id": "1aadc4f99a994513962e54e7a802307d",
              "version_major": 2,
              "version_minor": 0
            },
            "text/plain": [
              "  0%|          | 0/84 [00:00<?, ?it/s]"
            ]
          },
          "metadata": {},
          "output_type": "display_data"
        },
        {
          "data": {
            "application/vnd.jupyter.widget-view+json": {
              "model_id": "788bd607cb774617a51daf88a3f173b1",
              "version_major": 2,
              "version_minor": 0
            },
            "text/plain": [
              "  0%|          | 0/93 [00:00<?, ?it/s]"
            ]
          },
          "metadata": {},
          "output_type": "display_data"
        },
        {
          "data": {
            "application/vnd.jupyter.widget-view+json": {
              "model_id": "f5b1095c8eaa464bb66dadcfee95f065",
              "version_major": 2,
              "version_minor": 0
            },
            "text/plain": [
              "  0%|          | 0/84 [00:00<?, ?it/s]"
            ]
          },
          "metadata": {},
          "output_type": "display_data"
        },
        {
          "name": "stdout",
          "output_type": "stream",
          "text": [
            "personal best  [array([2.44908245e-04, 6.01489829e-01, 1.16000000e+02, 3.20000000e+01]), array([2.36643464e-04, 2.12173567e-01, 1.00000000e+02, 3.30000000e+01]), array([2.36643464e-04, 2.12173567e-01, 1.00000000e+02, 3.30000000e+01]), array([2.36293883e-04, 2.09092478e-01, 1.00000000e+02, 3.30000000e+01]), array([2.36293883e-04, 2.09092478e-01, 1.00000000e+02, 3.30000000e+01]), array([2.36293883e-04, 2.09092478e-01, 1.00000000e+02, 3.30000000e+01]), array([2.36293883e-04, 2.09092478e-01, 1.00000000e+02, 3.30000000e+01]), array([2.33175877e-04, 1.97397447e-01, 1.01000000e+02, 3.80000000e+01]), array([2.33175877e-04, 1.97397447e-01, 1.01000000e+02, 3.80000000e+01]), array([2.81218958e-04, 1.97901006e-01, 1.04000000e+02, 3.60000000e+01]), array([2.81218958e-04, 1.97901006e-01, 1.04000000e+02, 3.60000000e+01]), array([2.81218958e-04, 1.97901006e-01, 1.04000000e+02, 3.60000000e+01]), array([2.81218958e-04, 1.97901006e-01, 1.04000000e+02, 3.60000000e+01]), array([2.81218958e-04, 1.97901006e-01, 1.04000000e+02, 3.60000000e+01]), array([2.81218958e-04, 1.97901006e-01, 1.04000000e+02, 3.60000000e+01]), array([2.81218958e-04, 1.97901006e-01, 1.04000000e+02, 3.60000000e+01]), array([2.81218958e-04, 1.97901006e-01, 1.04000000e+02, 3.60000000e+01]), array([2.81218958e-04, 1.97901006e-01, 1.04000000e+02, 3.60000000e+01])]\n",
            "global best  [array([2.44908245e-04, 6.01489829e-01, 1.16000000e+02, 3.20000000e+01]), array([2.36643464e-04, 2.12173567e-01, 1.00000000e+02, 3.30000000e+01]), array([2.36643464e-04, 2.12173567e-01, 1.00000000e+02, 3.30000000e+01]), array([2.36293883e-04, 2.09092478e-01, 1.00000000e+02, 3.30000000e+01]), array([2.36293883e-04, 2.09092478e-01, 1.00000000e+02, 3.30000000e+01]), array([2.36293883e-04, 2.09092478e-01, 1.00000000e+02, 3.30000000e+01]), array([2.36293883e-04, 2.09092478e-01, 1.00000000e+02, 3.30000000e+01]), array([2.33175877e-04, 1.97397447e-01, 1.01000000e+02, 3.80000000e+01]), array([2.33175877e-04, 1.97397447e-01, 1.01000000e+02, 3.80000000e+01]), array([2.81218958e-04, 1.97901006e-01, 1.04000000e+02, 3.60000000e+01]), array([2.81218958e-04, 1.97901006e-01, 1.04000000e+02, 3.60000000e+01]), array([2.81218958e-04, 1.97901006e-01, 1.04000000e+02, 3.60000000e+01]), array([2.81218958e-04, 1.97901006e-01, 1.04000000e+02, 3.60000000e+01]), array([2.81218958e-04, 1.97901006e-01, 1.04000000e+02, 3.60000000e+01]), array([2.81218958e-04, 1.97901006e-01, 1.04000000e+02, 3.60000000e+01]), array([2.81218958e-04, 1.97901006e-01, 1.04000000e+02, 3.60000000e+01]), array([2.81218958e-04, 1.97901006e-01, 1.04000000e+02, 3.60000000e+01]), array([2.81218958e-04, 1.97901006e-01, 1.04000000e+02, 3.60000000e+01])]\n",
            "particle params:  [0.0002718661922115083, 0.3550973120023781, 104.0, 33.0]\n"
          ]
        },
        {
          "data": {
            "application/vnd.jupyter.widget-view+json": {
              "model_id": "17e41704cbdd40d8ad61e0036043c42c",
              "version_major": 2,
              "version_minor": 0
            },
            "text/plain": [
              "  0%|          | 0/93 [00:00<?, ?it/s]"
            ]
          },
          "metadata": {},
          "output_type": "display_data"
        },
        {
          "data": {
            "application/vnd.jupyter.widget-view+json": {
              "model_id": "a1fb00ebebbb4ce587322c258937d4aa",
              "version_major": 2,
              "version_minor": 0
            },
            "text/plain": [
              "  0%|          | 0/84 [00:00<?, ?it/s]"
            ]
          },
          "metadata": {},
          "output_type": "display_data"
        },
        {
          "data": {
            "application/vnd.jupyter.widget-view+json": {
              "model_id": "368ff4455011443289365196397e1434",
              "version_major": 2,
              "version_minor": 0
            },
            "text/plain": [
              "  0%|          | 0/93 [00:00<?, ?it/s]"
            ]
          },
          "metadata": {},
          "output_type": "display_data"
        },
        {
          "data": {
            "application/vnd.jupyter.widget-view+json": {
              "model_id": "3521253ecaed4aae9368303ee716e91f",
              "version_major": 2,
              "version_minor": 0
            },
            "text/plain": [
              "  0%|          | 0/84 [00:00<?, ?it/s]"
            ]
          },
          "metadata": {},
          "output_type": "display_data"
        },
        {
          "data": {
            "application/vnd.jupyter.widget-view+json": {
              "model_id": "d066ea99c8b647fb9a738a80415f5f97",
              "version_major": 2,
              "version_minor": 0
            },
            "text/plain": [
              "  0%|          | 0/93 [00:00<?, ?it/s]"
            ]
          },
          "metadata": {},
          "output_type": "display_data"
        },
        {
          "data": {
            "application/vnd.jupyter.widget-view+json": {
              "model_id": "dcdfb4c9fe034614b4a02dcbcef1fc9a",
              "version_major": 2,
              "version_minor": 0
            },
            "text/plain": [
              "  0%|          | 0/84 [00:00<?, ?it/s]"
            ]
          },
          "metadata": {},
          "output_type": "display_data"
        },
        {
          "data": {
            "application/vnd.jupyter.widget-view+json": {
              "model_id": "49bcbb7da65f4a47abe87bc88d6e4028",
              "version_major": 2,
              "version_minor": 0
            },
            "text/plain": [
              "  0%|          | 0/93 [00:00<?, ?it/s]"
            ]
          },
          "metadata": {},
          "output_type": "display_data"
        },
        {
          "data": {
            "application/vnd.jupyter.widget-view+json": {
              "model_id": "57d6887dbb9043f39381e97815dec155",
              "version_major": 2,
              "version_minor": 0
            },
            "text/plain": [
              "  0%|          | 0/84 [00:00<?, ?it/s]"
            ]
          },
          "metadata": {},
          "output_type": "display_data"
        },
        {
          "data": {
            "application/vnd.jupyter.widget-view+json": {
              "model_id": "6cead343506049958137c776451af92b",
              "version_major": 2,
              "version_minor": 0
            },
            "text/plain": [
              "  0%|          | 0/93 [00:00<?, ?it/s]"
            ]
          },
          "metadata": {},
          "output_type": "display_data"
        },
        {
          "data": {
            "application/vnd.jupyter.widget-view+json": {
              "model_id": "dc140fc795ab4957a87c6349d6a50464",
              "version_major": 2,
              "version_minor": 0
            },
            "text/plain": [
              "  0%|          | 0/84 [00:00<?, ?it/s]"
            ]
          },
          "metadata": {},
          "output_type": "display_data"
        },
        {
          "name": "stdout",
          "output_type": "stream",
          "text": [
            "personal best  [array([7.63695015e-05, 5.11396445e-01, 1.09000000e+02, 1.70000000e+01]), array([2.99218928e-04, 6.14941474e-01, 1.03000000e+02, 2.80000000e+01]), array([2.99218928e-04, 6.14941474e-01, 1.03000000e+02, 2.80000000e+01]), array([2.99218928e-04, 6.14941474e-01, 1.03000000e+02, 2.80000000e+01]), array([2.99218928e-04, 6.14941474e-01, 1.03000000e+02, 2.80000000e+01]), array([2.99218928e-04, 6.14941474e-01, 1.03000000e+02, 2.80000000e+01]), array([2.99218928e-04, 6.14941474e-01, 1.03000000e+02, 2.80000000e+01]), array([2.99218928e-04, 6.14941474e-01, 1.03000000e+02, 2.80000000e+01]), array([2.99218928e-04, 6.14941474e-01, 1.03000000e+02, 2.80000000e+01]), array([2.73185298e-04, 3.68418563e-01, 1.04000000e+02, 3.30000000e+01]), array([2.73185298e-04, 3.68418563e-01, 1.04000000e+02, 3.30000000e+01]), array([2.73185298e-04, 3.68418563e-01, 1.04000000e+02, 3.30000000e+01]), array([2.73185298e-04, 3.68418563e-01, 1.04000000e+02, 3.30000000e+01]), array([2.73185298e-04, 3.68418563e-01, 1.04000000e+02, 3.30000000e+01]), array([2.73185298e-04, 3.68418563e-01, 1.04000000e+02, 3.30000000e+01]), array([2.73185298e-04, 3.68418563e-01, 1.04000000e+02, 3.30000000e+01]), array([2.73185298e-04, 3.68418563e-01, 1.04000000e+02, 3.30000000e+01]), array([2.73185298e-04, 3.68418563e-01, 1.04000000e+02, 3.30000000e+01])]\n",
            "global best  [array([7.63695015e-05, 5.11396445e-01, 1.09000000e+02, 1.70000000e+01]), array([2.99218928e-04, 6.14941474e-01, 1.03000000e+02, 2.80000000e+01]), array([2.99218928e-04, 6.14941474e-01, 1.03000000e+02, 2.80000000e+01]), array([2.99218928e-04, 6.14941474e-01, 1.03000000e+02, 2.80000000e+01]), array([2.99218928e-04, 6.14941474e-01, 1.03000000e+02, 2.80000000e+01]), array([2.99218928e-04, 6.14941474e-01, 1.03000000e+02, 2.80000000e+01]), array([2.99218928e-04, 6.14941474e-01, 1.03000000e+02, 2.80000000e+01]), array([2.99218928e-04, 6.14941474e-01, 1.03000000e+02, 2.80000000e+01]), array([2.99218928e-04, 6.14941474e-01, 1.03000000e+02, 2.80000000e+01]), array([2.73185298e-04, 3.68418563e-01, 1.04000000e+02, 3.30000000e+01]), array([2.73185298e-04, 3.68418563e-01, 1.04000000e+02, 3.30000000e+01]), array([2.73185298e-04, 3.68418563e-01, 1.04000000e+02, 3.30000000e+01]), array([2.73185298e-04, 3.68418563e-01, 1.04000000e+02, 3.30000000e+01]), array([2.73185298e-04, 3.68418563e-01, 1.04000000e+02, 3.30000000e+01]), array([2.73185298e-04, 3.68418563e-01, 1.04000000e+02, 3.30000000e+01]), array([2.73185298e-04, 3.68418563e-01, 1.04000000e+02, 3.30000000e+01]), array([2.73185298e-04, 3.68418563e-01, 1.04000000e+02, 3.30000000e+01]), array([2.73185298e-04, 3.68418563e-01, 1.04000000e+02, 3.30000000e+01])]\n",
            "particle params:  [0.0003195017726868057, 0.2307861524348398, 106.0, 32.0]\n"
          ]
        },
        {
          "data": {
            "application/vnd.jupyter.widget-view+json": {
              "model_id": "8479b48fd2d24baba9fd0605352a7a25",
              "version_major": 2,
              "version_minor": 0
            },
            "text/plain": [
              "  0%|          | 0/93 [00:00<?, ?it/s]"
            ]
          },
          "metadata": {},
          "output_type": "display_data"
        },
        {
          "data": {
            "application/vnd.jupyter.widget-view+json": {
              "model_id": "ef2d33f159e245378ca10c114e3e020f",
              "version_major": 2,
              "version_minor": 0
            },
            "text/plain": [
              "  0%|          | 0/84 [00:00<?, ?it/s]"
            ]
          },
          "metadata": {},
          "output_type": "display_data"
        },
        {
          "data": {
            "application/vnd.jupyter.widget-view+json": {
              "model_id": "27f5b6b3091a4758ab642aefd5ef7b70",
              "version_major": 2,
              "version_minor": 0
            },
            "text/plain": [
              "  0%|          | 0/93 [00:00<?, ?it/s]"
            ]
          },
          "metadata": {},
          "output_type": "display_data"
        },
        {
          "data": {
            "application/vnd.jupyter.widget-view+json": {
              "model_id": "c096872e68f34b998729c4ca15dcc3ed",
              "version_major": 2,
              "version_minor": 0
            },
            "text/plain": [
              "  0%|          | 0/84 [00:00<?, ?it/s]"
            ]
          },
          "metadata": {},
          "output_type": "display_data"
        },
        {
          "data": {
            "application/vnd.jupyter.widget-view+json": {
              "model_id": "a57eef2ee59348ad9fabb3d7439e1491",
              "version_major": 2,
              "version_minor": 0
            },
            "text/plain": [
              "  0%|          | 0/93 [00:00<?, ?it/s]"
            ]
          },
          "metadata": {},
          "output_type": "display_data"
        },
        {
          "data": {
            "application/vnd.jupyter.widget-view+json": {
              "model_id": "fa941aa8f25e4c3aa1e972cb8550870f",
              "version_major": 2,
              "version_minor": 0
            },
            "text/plain": [
              "  0%|          | 0/84 [00:00<?, ?it/s]"
            ]
          },
          "metadata": {},
          "output_type": "display_data"
        },
        {
          "data": {
            "application/vnd.jupyter.widget-view+json": {
              "model_id": "7bebef12d8ea48599531b8ff563465cc",
              "version_major": 2,
              "version_minor": 0
            },
            "text/plain": [
              "  0%|          | 0/93 [00:00<?, ?it/s]"
            ]
          },
          "metadata": {},
          "output_type": "display_data"
        },
        {
          "data": {
            "application/vnd.jupyter.widget-view+json": {
              "model_id": "f2973283b556465b9956f3e6e2d03c3c",
              "version_major": 2,
              "version_minor": 0
            },
            "text/plain": [
              "  0%|          | 0/84 [00:00<?, ?it/s]"
            ]
          },
          "metadata": {},
          "output_type": "display_data"
        },
        {
          "data": {
            "application/vnd.jupyter.widget-view+json": {
              "model_id": "81a052dd2dd64ac8b2d293facdb73ee9",
              "version_major": 2,
              "version_minor": 0
            },
            "text/plain": [
              "  0%|          | 0/93 [00:00<?, ?it/s]"
            ]
          },
          "metadata": {},
          "output_type": "display_data"
        },
        {
          "data": {
            "application/vnd.jupyter.widget-view+json": {
              "model_id": "7fc4565300a5465ebaac5cf6a7a4d1ce",
              "version_major": 2,
              "version_minor": 0
            },
            "text/plain": [
              "  0%|          | 0/84 [00:00<?, ?it/s]"
            ]
          },
          "metadata": {},
          "output_type": "display_data"
        },
        {
          "name": "stdout",
          "output_type": "stream",
          "text": [
            "personal best  [array([6.96088433e-04, 3.69036300e-01, 1.21000000e+02, 4.80000000e+01]), array([6.93445998e-04, 5.52352815e-01, 1.08000000e+02, 3.50000000e+01]), array([6.93445998e-04, 5.52352815e-01, 1.08000000e+02, 3.50000000e+01]), array([6.93445998e-04, 5.52352815e-01, 1.08000000e+02, 3.50000000e+01]), array([6.93445998e-04, 5.52352815e-01, 1.08000000e+02, 3.50000000e+01]), array([6.93445998e-04, 5.52352815e-01, 1.08000000e+02, 3.50000000e+01]), array([6.93445998e-04, 5.52352815e-01, 1.08000000e+02, 3.50000000e+01]), array([3.20876308e-04, 1.97684185e-01, 1.07000000e+02, 3.70000000e+01]), array([3.20876308e-04, 1.97684185e-01, 1.07000000e+02, 3.70000000e+01]), array([3.20876308e-04, 1.97684185e-01, 1.07000000e+02, 3.70000000e+01]), array([3.20876308e-04, 1.97684185e-01, 1.07000000e+02, 3.70000000e+01]), array([3.20876308e-04, 1.97684185e-01, 1.07000000e+02, 3.70000000e+01]), array([3.20876308e-04, 1.97684185e-01, 1.07000000e+02, 3.70000000e+01]), array([3.20876308e-04, 1.97684185e-01, 1.07000000e+02, 3.70000000e+01]), array([3.20876308e-04, 1.97684185e-01, 1.07000000e+02, 3.70000000e+01]), array([3.20876308e-04, 1.97684185e-01, 1.07000000e+02, 3.70000000e+01]), array([3.20876308e-04, 1.97684185e-01, 1.07000000e+02, 3.70000000e+01]), array([3.20876308e-04, 1.97684185e-01, 1.07000000e+02, 3.70000000e+01])]\n",
            "global best  [array([6.96088433e-04, 3.69036300e-01, 1.21000000e+02, 4.80000000e+01]), array([6.93445998e-04, 5.52352815e-01, 1.08000000e+02, 3.50000000e+01]), array([6.93445998e-04, 5.52352815e-01, 1.08000000e+02, 3.50000000e+01]), array([6.93445998e-04, 5.52352815e-01, 1.08000000e+02, 3.50000000e+01]), array([6.93445998e-04, 5.52352815e-01, 1.08000000e+02, 3.50000000e+01]), array([6.93445998e-04, 5.52352815e-01, 1.08000000e+02, 3.50000000e+01]), array([6.93445998e-04, 5.52352815e-01, 1.08000000e+02, 3.50000000e+01]), array([3.20876308e-04, 1.97684185e-01, 1.07000000e+02, 3.70000000e+01]), array([3.20876308e-04, 1.97684185e-01, 1.07000000e+02, 3.70000000e+01]), array([3.20876308e-04, 1.97684185e-01, 1.07000000e+02, 3.70000000e+01]), array([3.20876308e-04, 1.97684185e-01, 1.07000000e+02, 3.70000000e+01]), array([3.20876308e-04, 1.97684185e-01, 1.07000000e+02, 3.70000000e+01]), array([3.20876308e-04, 1.97684185e-01, 1.07000000e+02, 3.70000000e+01]), array([3.20876308e-04, 1.97684185e-01, 1.07000000e+02, 3.70000000e+01]), array([3.20876308e-04, 1.97684185e-01, 1.07000000e+02, 3.70000000e+01]), array([3.20876308e-04, 1.97684185e-01, 1.07000000e+02, 3.70000000e+01]), array([3.20876308e-04, 1.97684185e-01, 1.07000000e+02, 3.70000000e+01]), array([3.20876308e-04, 1.97684185e-01, 1.07000000e+02, 3.70000000e+01])]\n",
            "generation  18 :\n",
            "\n",
            "particle params:  [0.00015942010106676744, 0.32123055698994873, 101.0, 34.0]\n"
          ]
        },
        {
          "data": {
            "application/vnd.jupyter.widget-view+json": {
              "model_id": "4aa5205d906649b2b9760aa0b0382da5",
              "version_major": 2,
              "version_minor": 0
            },
            "text/plain": [
              "  0%|          | 0/93 [00:00<?, ?it/s]"
            ]
          },
          "metadata": {},
          "output_type": "display_data"
        },
        {
          "data": {
            "application/vnd.jupyter.widget-view+json": {
              "model_id": "d954a7f742d34833b635a1a5b55a8522",
              "version_major": 2,
              "version_minor": 0
            },
            "text/plain": [
              "  0%|          | 0/84 [00:00<?, ?it/s]"
            ]
          },
          "metadata": {},
          "output_type": "display_data"
        },
        {
          "data": {
            "application/vnd.jupyter.widget-view+json": {
              "model_id": "5131cb259c5c4918b494f91ec24c6e28",
              "version_major": 2,
              "version_minor": 0
            },
            "text/plain": [
              "  0%|          | 0/93 [00:00<?, ?it/s]"
            ]
          },
          "metadata": {},
          "output_type": "display_data"
        },
        {
          "data": {
            "application/vnd.jupyter.widget-view+json": {
              "model_id": "0300c774c765453fa912993f3a14ff18",
              "version_major": 2,
              "version_minor": 0
            },
            "text/plain": [
              "  0%|          | 0/84 [00:00<?, ?it/s]"
            ]
          },
          "metadata": {},
          "output_type": "display_data"
        },
        {
          "data": {
            "application/vnd.jupyter.widget-view+json": {
              "model_id": "4ce01340b5b942c5ae90f77291ff62c0",
              "version_major": 2,
              "version_minor": 0
            },
            "text/plain": [
              "  0%|          | 0/93 [00:00<?, ?it/s]"
            ]
          },
          "metadata": {},
          "output_type": "display_data"
        },
        {
          "data": {
            "application/vnd.jupyter.widget-view+json": {
              "model_id": "8102cd5108634b2ca532d38cffcc7f79",
              "version_major": 2,
              "version_minor": 0
            },
            "text/plain": [
              "  0%|          | 0/84 [00:00<?, ?it/s]"
            ]
          },
          "metadata": {},
          "output_type": "display_data"
        },
        {
          "data": {
            "application/vnd.jupyter.widget-view+json": {
              "model_id": "99409dd54920431cb8ef5ba461c6e197",
              "version_major": 2,
              "version_minor": 0
            },
            "text/plain": [
              "  0%|          | 0/93 [00:00<?, ?it/s]"
            ]
          },
          "metadata": {},
          "output_type": "display_data"
        },
        {
          "data": {
            "application/vnd.jupyter.widget-view+json": {
              "model_id": "97a4d0d9957b4e31aa34fb88b51bc800",
              "version_major": 2,
              "version_minor": 0
            },
            "text/plain": [
              "  0%|          | 0/84 [00:00<?, ?it/s]"
            ]
          },
          "metadata": {},
          "output_type": "display_data"
        },
        {
          "data": {
            "application/vnd.jupyter.widget-view+json": {
              "model_id": "5590fa97ceab48649e159daf42e4c01c",
              "version_major": 2,
              "version_minor": 0
            },
            "text/plain": [
              "  0%|          | 0/93 [00:00<?, ?it/s]"
            ]
          },
          "metadata": {},
          "output_type": "display_data"
        },
        {
          "data": {
            "application/vnd.jupyter.widget-view+json": {
              "model_id": "fef9673ff12f40e99297313b6172e6c6",
              "version_major": 2,
              "version_minor": 0
            },
            "text/plain": [
              "  0%|          | 0/84 [00:00<?, ?it/s]"
            ]
          },
          "metadata": {},
          "output_type": "display_data"
        },
        {
          "name": "stdout",
          "output_type": "stream",
          "text": [
            "personal best  [array([4.20306856e-04, 3.51159359e-01, 1.09000000e+02, 4.10000000e+01]), array([5.50721832e-04, 3.57552005e-01, 1.09000000e+02, 3.40000000e+01]), array([5.50721832e-04, 3.57552005e-01, 1.09000000e+02, 3.40000000e+01]), array([5.50721832e-04, 3.57552005e-01, 1.09000000e+02, 3.40000000e+01]), array([2.36017888e-04, 1.98008123e-01, 1.01000000e+02, 3.20000000e+01]), array([1.48381613e-04, 1.69611473e-01, 1.00000000e+02, 3.30000000e+01]), array([1.11878604e-04, 1.62576061e-01, 1.00000000e+02, 3.50000000e+01]), array([1.11878604e-04, 1.62576061e-01, 1.00000000e+02, 3.50000000e+01]), array([1.11878604e-04, 1.62576061e-01, 1.00000000e+02, 3.50000000e+01]), array([1.11878604e-04, 1.62576061e-01, 1.00000000e+02, 3.50000000e+01]), array([1.11878604e-04, 1.62576061e-01, 1.00000000e+02, 3.50000000e+01]), array([1.11878604e-04, 1.62576061e-01, 1.00000000e+02, 3.50000000e+01]), array([1.11878604e-04, 1.62576061e-01, 1.00000000e+02, 3.50000000e+01]), array([1.11878604e-04, 1.62576061e-01, 1.00000000e+02, 3.50000000e+01]), array([1.11878604e-04, 1.62576061e-01, 1.00000000e+02, 3.50000000e+01]), array([1.11878604e-04, 1.62576061e-01, 1.00000000e+02, 3.50000000e+01]), array([1.11878604e-04, 1.62576061e-01, 1.00000000e+02, 3.50000000e+01]), array([1.11878604e-04, 1.62576061e-01, 1.00000000e+02, 3.50000000e+01]), array([1.11878604e-04, 1.62576061e-01, 1.00000000e+02, 3.50000000e+01])]\n",
            "global best  [array([4.20306856e-04, 3.51159359e-01, 1.09000000e+02, 4.10000000e+01]), array([5.50721832e-04, 3.57552005e-01, 1.09000000e+02, 3.40000000e+01]), array([5.50721832e-04, 3.57552005e-01, 1.09000000e+02, 3.40000000e+01]), array([5.50721832e-04, 3.57552005e-01, 1.09000000e+02, 3.40000000e+01]), array([2.36017888e-04, 1.98008123e-01, 1.01000000e+02, 3.20000000e+01]), array([1.48381613e-04, 1.69611473e-01, 1.00000000e+02, 3.30000000e+01]), array([1.11878604e-04, 1.62576061e-01, 1.00000000e+02, 3.50000000e+01]), array([1.11878604e-04, 1.62576061e-01, 1.00000000e+02, 3.50000000e+01]), array([1.11878604e-04, 1.62576061e-01, 1.00000000e+02, 3.50000000e+01]), array([1.11878604e-04, 1.62576061e-01, 1.00000000e+02, 3.50000000e+01]), array([1.11878604e-04, 1.62576061e-01, 1.00000000e+02, 3.50000000e+01]), array([1.11878604e-04, 1.62576061e-01, 1.00000000e+02, 3.50000000e+01]), array([1.11878604e-04, 1.62576061e-01, 1.00000000e+02, 3.50000000e+01]), array([1.11878604e-04, 1.62576061e-01, 1.00000000e+02, 3.50000000e+01]), array([1.11878604e-04, 1.62576061e-01, 1.00000000e+02, 3.50000000e+01]), array([1.11878604e-04, 1.62576061e-01, 1.00000000e+02, 3.50000000e+01]), array([1.11878604e-04, 1.62576061e-01, 1.00000000e+02, 3.50000000e+01]), array([1.11878604e-04, 1.62576061e-01, 1.00000000e+02, 3.50000000e+01]), array([1.11878604e-04, 1.62576061e-01, 1.00000000e+02, 3.50000000e+01])]\n",
            "particle params:  [0.0002692065263254254, 0.37092916671585313, 101.0, 33.0]\n"
          ]
        },
        {
          "data": {
            "application/vnd.jupyter.widget-view+json": {
              "model_id": "8f1d883673a240d6a45fede8d57dc428",
              "version_major": 2,
              "version_minor": 0
            },
            "text/plain": [
              "  0%|          | 0/93 [00:00<?, ?it/s]"
            ]
          },
          "metadata": {},
          "output_type": "display_data"
        },
        {
          "data": {
            "application/vnd.jupyter.widget-view+json": {
              "model_id": "9a07e5144e7240fbbb0de3a182d3ca39",
              "version_major": 2,
              "version_minor": 0
            },
            "text/plain": [
              "  0%|          | 0/84 [00:00<?, ?it/s]"
            ]
          },
          "metadata": {},
          "output_type": "display_data"
        },
        {
          "data": {
            "application/vnd.jupyter.widget-view+json": {
              "model_id": "561582995a254b849c63688f6b60697c",
              "version_major": 2,
              "version_minor": 0
            },
            "text/plain": [
              "  0%|          | 0/93 [00:00<?, ?it/s]"
            ]
          },
          "metadata": {},
          "output_type": "display_data"
        },
        {
          "data": {
            "application/vnd.jupyter.widget-view+json": {
              "model_id": "eaea639f077347a4a6a10d188d54b0fa",
              "version_major": 2,
              "version_minor": 0
            },
            "text/plain": [
              "  0%|          | 0/84 [00:00<?, ?it/s]"
            ]
          },
          "metadata": {},
          "output_type": "display_data"
        },
        {
          "data": {
            "application/vnd.jupyter.widget-view+json": {
              "model_id": "6ccf4818f67f48309af96dcf6326e45f",
              "version_major": 2,
              "version_minor": 0
            },
            "text/plain": [
              "  0%|          | 0/93 [00:00<?, ?it/s]"
            ]
          },
          "metadata": {},
          "output_type": "display_data"
        },
        {
          "data": {
            "application/vnd.jupyter.widget-view+json": {
              "model_id": "c126625259f144049ac84c7371952487",
              "version_major": 2,
              "version_minor": 0
            },
            "text/plain": [
              "  0%|          | 0/84 [00:00<?, ?it/s]"
            ]
          },
          "metadata": {},
          "output_type": "display_data"
        },
        {
          "data": {
            "application/vnd.jupyter.widget-view+json": {
              "model_id": "26efd4cc40d148de81286236d21ce704",
              "version_major": 2,
              "version_minor": 0
            },
            "text/plain": [
              "  0%|          | 0/93 [00:00<?, ?it/s]"
            ]
          },
          "metadata": {},
          "output_type": "display_data"
        },
        {
          "data": {
            "application/vnd.jupyter.widget-view+json": {
              "model_id": "58fcc016a7534e66ad4831c1325dedc8",
              "version_major": 2,
              "version_minor": 0
            },
            "text/plain": [
              "  0%|          | 0/84 [00:00<?, ?it/s]"
            ]
          },
          "metadata": {},
          "output_type": "display_data"
        },
        {
          "data": {
            "application/vnd.jupyter.widget-view+json": {
              "model_id": "5fd2cd05f4aa433abe02e57ed52cf8c6",
              "version_major": 2,
              "version_minor": 0
            },
            "text/plain": [
              "  0%|          | 0/93 [00:00<?, ?it/s]"
            ]
          },
          "metadata": {},
          "output_type": "display_data"
        },
        {
          "data": {
            "application/vnd.jupyter.widget-view+json": {
              "model_id": "6a22a0656cc7457fb2bc1467fb3372dd",
              "version_major": 2,
              "version_minor": 0
            },
            "text/plain": [
              "  0%|          | 0/84 [00:00<?, ?it/s]"
            ]
          },
          "metadata": {},
          "output_type": "display_data"
        },
        {
          "name": "stdout",
          "output_type": "stream",
          "text": [
            "personal best  [array([2.75496862e-04, 4.50449172e-01, 1.10000000e+02, 2.80000000e+01]), array([2.83657417e-04, 5.64738237e-01, 1.08000000e+02, 1.70000000e+01]), array([2.83657417e-04, 5.64738237e-01, 1.08000000e+02, 1.70000000e+01]), array([2.83657417e-04, 5.64738237e-01, 1.08000000e+02, 1.70000000e+01]), array([2.83657417e-04, 5.64738237e-01, 1.08000000e+02, 1.70000000e+01]), array([2.46755243e-04, 4.25774957e-01, 1.06000000e+02, 1.90000000e+01]), array([2.09809717e-04, 4.19396114e-01, 1.02000000e+02, 2.90000000e+01]), array([1.93689095e-04, 2.85859081e-01, 1.00000000e+02, 4.50000000e+01]), array([1.98481105e-04, 2.08616215e-01, 1.01000000e+02, 4.80000000e+01]), array([1.98481105e-04, 2.08616215e-01, 1.01000000e+02, 4.80000000e+01]), array([1.98481105e-04, 2.08616215e-01, 1.01000000e+02, 4.80000000e+01]), array([1.98481105e-04, 2.08616215e-01, 1.01000000e+02, 4.80000000e+01]), array([2.36682679e-04, 3.77994658e-01, 1.01000000e+02, 3.40000000e+01]), array([2.36682679e-04, 3.77994658e-01, 1.01000000e+02, 3.40000000e+01]), array([2.36682679e-04, 3.77994658e-01, 1.01000000e+02, 3.40000000e+01]), array([2.36682679e-04, 3.77994658e-01, 1.01000000e+02, 3.40000000e+01]), array([2.36682679e-04, 3.77994658e-01, 1.01000000e+02, 3.40000000e+01]), array([2.36682679e-04, 3.77994658e-01, 1.01000000e+02, 3.40000000e+01]), array([2.36682679e-04, 3.77994658e-01, 1.01000000e+02, 3.40000000e+01])]\n",
            "global best  [array([2.75496862e-04, 4.50449172e-01, 1.10000000e+02, 2.80000000e+01]), array([2.83657417e-04, 5.64738237e-01, 1.08000000e+02, 1.70000000e+01]), array([2.83657417e-04, 5.64738237e-01, 1.08000000e+02, 1.70000000e+01]), array([2.83657417e-04, 5.64738237e-01, 1.08000000e+02, 1.70000000e+01]), array([2.83657417e-04, 5.64738237e-01, 1.08000000e+02, 1.70000000e+01]), array([2.46755243e-04, 4.25774957e-01, 1.06000000e+02, 1.90000000e+01]), array([2.09809717e-04, 4.19396114e-01, 1.02000000e+02, 2.90000000e+01]), array([1.93689095e-04, 2.85859081e-01, 1.00000000e+02, 4.50000000e+01]), array([1.98481105e-04, 2.08616215e-01, 1.01000000e+02, 4.80000000e+01]), array([1.98481105e-04, 2.08616215e-01, 1.01000000e+02, 4.80000000e+01]), array([1.98481105e-04, 2.08616215e-01, 1.01000000e+02, 4.80000000e+01]), array([1.98481105e-04, 2.08616215e-01, 1.01000000e+02, 4.80000000e+01]), array([2.36682679e-04, 3.77994658e-01, 1.01000000e+02, 3.40000000e+01]), array([2.36682679e-04, 3.77994658e-01, 1.01000000e+02, 3.40000000e+01]), array([2.36682679e-04, 3.77994658e-01, 1.01000000e+02, 3.40000000e+01]), array([2.36682679e-04, 3.77994658e-01, 1.01000000e+02, 3.40000000e+01]), array([2.36682679e-04, 3.77994658e-01, 1.01000000e+02, 3.40000000e+01]), array([2.36682679e-04, 3.77994658e-01, 1.01000000e+02, 3.40000000e+01]), array([2.36682679e-04, 3.77994658e-01, 1.01000000e+02, 3.40000000e+01])]\n",
            "particle params:  [0.000286138237843777, 0.19937191998943052, 105.0, 33.0]\n"
          ]
        },
        {
          "data": {
            "application/vnd.jupyter.widget-view+json": {
              "model_id": "0d163a94cea048efb9efe4ef9354f188",
              "version_major": 2,
              "version_minor": 0
            },
            "text/plain": [
              "  0%|          | 0/93 [00:00<?, ?it/s]"
            ]
          },
          "metadata": {},
          "output_type": "display_data"
        },
        {
          "data": {
            "application/vnd.jupyter.widget-view+json": {
              "model_id": "762ece43a0f84c23b938aae0eb5be401",
              "version_major": 2,
              "version_minor": 0
            },
            "text/plain": [
              "  0%|          | 0/84 [00:00<?, ?it/s]"
            ]
          },
          "metadata": {},
          "output_type": "display_data"
        },
        {
          "data": {
            "application/vnd.jupyter.widget-view+json": {
              "model_id": "976bda27bb9f4788b4a23e4c01ff8335",
              "version_major": 2,
              "version_minor": 0
            },
            "text/plain": [
              "  0%|          | 0/93 [00:00<?, ?it/s]"
            ]
          },
          "metadata": {},
          "output_type": "display_data"
        },
        {
          "data": {
            "application/vnd.jupyter.widget-view+json": {
              "model_id": "d6ae22ec13ee47788d5e4c04795fb359",
              "version_major": 2,
              "version_minor": 0
            },
            "text/plain": [
              "  0%|          | 0/84 [00:00<?, ?it/s]"
            ]
          },
          "metadata": {},
          "output_type": "display_data"
        },
        {
          "data": {
            "application/vnd.jupyter.widget-view+json": {
              "model_id": "aba8bf91a4f04b7aa24d8f8cdac6663a",
              "version_major": 2,
              "version_minor": 0
            },
            "text/plain": [
              "  0%|          | 0/93 [00:00<?, ?it/s]"
            ]
          },
          "metadata": {},
          "output_type": "display_data"
        },
        {
          "data": {
            "application/vnd.jupyter.widget-view+json": {
              "model_id": "27dae78767e24bb38606e20bb6b4eb2e",
              "version_major": 2,
              "version_minor": 0
            },
            "text/plain": [
              "  0%|          | 0/84 [00:00<?, ?it/s]"
            ]
          },
          "metadata": {},
          "output_type": "display_data"
        },
        {
          "data": {
            "application/vnd.jupyter.widget-view+json": {
              "model_id": "47ae8de39b2447ea9b8cb7850d00672b",
              "version_major": 2,
              "version_minor": 0
            },
            "text/plain": [
              "  0%|          | 0/93 [00:00<?, ?it/s]"
            ]
          },
          "metadata": {},
          "output_type": "display_data"
        },
        {
          "data": {
            "application/vnd.jupyter.widget-view+json": {
              "model_id": "95f934dd9b59450e9cfee14c1bcb7bff",
              "version_major": 2,
              "version_minor": 0
            },
            "text/plain": [
              "  0%|          | 0/84 [00:00<?, ?it/s]"
            ]
          },
          "metadata": {},
          "output_type": "display_data"
        },
        {
          "data": {
            "application/vnd.jupyter.widget-view+json": {
              "model_id": "1b6db5818a4d4533a38688733125b064",
              "version_major": 2,
              "version_minor": 0
            },
            "text/plain": [
              "  0%|          | 0/93 [00:00<?, ?it/s]"
            ]
          },
          "metadata": {},
          "output_type": "display_data"
        },
        {
          "data": {
            "application/vnd.jupyter.widget-view+json": {
              "model_id": "086a5b0f68c342dd8425254c1247ebee",
              "version_major": 2,
              "version_minor": 0
            },
            "text/plain": [
              "  0%|          | 0/84 [00:00<?, ?it/s]"
            ]
          },
          "metadata": {},
          "output_type": "display_data"
        },
        {
          "name": "stdout",
          "output_type": "stream",
          "text": [
            "personal best  [array([1.29044722e-04, 7.78489807e-01, 1.07000000e+02, 2.50000000e+01]), array([1.29044722e-04, 7.78489807e-01, 1.07000000e+02, 2.50000000e+01]), array([6.18717922e-05, 6.78094135e-01, 1.12000000e+02, 3.60000000e+01]), array([6.18717922e-05, 6.78094135e-01, 1.12000000e+02, 3.60000000e+01]), array([6.18717922e-05, 6.78094135e-01, 1.12000000e+02, 3.60000000e+01]), array([6.50400707e-05, 4.62069056e-01, 1.05000000e+02, 3.40000000e+01]), array([1.13920598e-04, 3.39113923e-01, 1.01000000e+02, 3.80000000e+01]), array([1.84343060e-04, 1.58540292e-01, 1.00000000e+02, 4.10000000e+01]), array([2.33857670e-04, 1.44673118e-01, 1.00000000e+02, 4.20000000e+01]), array([2.90705237e-04, 1.75078674e-01, 1.05000000e+02, 3.70000000e+01]), array([3.24801432e-04, 1.97589046e-01, 1.08000000e+02, 3.40000000e+01]), array([3.24801432e-04, 1.97589046e-01, 1.08000000e+02, 3.40000000e+01]), array([3.24801432e-04, 1.97589046e-01, 1.08000000e+02, 3.40000000e+01]), array([3.24801432e-04, 1.97589046e-01, 1.08000000e+02, 3.40000000e+01]), array([3.24801432e-04, 1.97589046e-01, 1.08000000e+02, 3.40000000e+01]), array([3.24801432e-04, 1.97589046e-01, 1.08000000e+02, 3.40000000e+01]), array([3.24801432e-04, 1.97589046e-01, 1.08000000e+02, 3.40000000e+01]), array([3.24801432e-04, 1.97589046e-01, 1.08000000e+02, 3.40000000e+01]), array([3.24801432e-04, 1.97589046e-01, 1.08000000e+02, 3.40000000e+01])]\n",
            "global best  [array([1.29044722e-04, 7.78489807e-01, 1.07000000e+02, 2.50000000e+01]), array([1.29044722e-04, 7.78489807e-01, 1.07000000e+02, 2.50000000e+01]), array([6.18717922e-05, 6.78094135e-01, 1.12000000e+02, 3.60000000e+01]), array([6.18717922e-05, 6.78094135e-01, 1.12000000e+02, 3.60000000e+01]), array([6.18717922e-05, 6.78094135e-01, 1.12000000e+02, 3.60000000e+01]), array([6.50400707e-05, 4.62069056e-01, 1.05000000e+02, 3.40000000e+01]), array([1.13920598e-04, 3.39113923e-01, 1.01000000e+02, 3.80000000e+01]), array([1.84343060e-04, 1.58540292e-01, 1.00000000e+02, 4.10000000e+01]), array([2.33857670e-04, 1.44673118e-01, 1.00000000e+02, 4.20000000e+01]), array([2.90705237e-04, 1.75078674e-01, 1.05000000e+02, 3.70000000e+01]), array([3.24801432e-04, 1.97589046e-01, 1.08000000e+02, 3.40000000e+01]), array([3.24801432e-04, 1.97589046e-01, 1.08000000e+02, 3.40000000e+01]), array([3.24801432e-04, 1.97589046e-01, 1.08000000e+02, 3.40000000e+01]), array([3.24801432e-04, 1.97589046e-01, 1.08000000e+02, 3.40000000e+01]), array([3.24801432e-04, 1.97589046e-01, 1.08000000e+02, 3.40000000e+01]), array([3.24801432e-04, 1.97589046e-01, 1.08000000e+02, 3.40000000e+01]), array([3.24801432e-04, 1.97589046e-01, 1.08000000e+02, 3.40000000e+01]), array([3.24801432e-04, 1.97589046e-01, 1.08000000e+02, 3.40000000e+01]), array([3.24801432e-04, 1.97589046e-01, 1.08000000e+02, 3.40000000e+01])]\n",
            "particle params:  [0.00026000856218986334, 0.18183552733161268, 104.0, 34.0]\n"
          ]
        },
        {
          "data": {
            "application/vnd.jupyter.widget-view+json": {
              "model_id": "653bc7b78c64446f8d2b8bbeb2984bfc",
              "version_major": 2,
              "version_minor": 0
            },
            "text/plain": [
              "  0%|          | 0/93 [00:00<?, ?it/s]"
            ]
          },
          "metadata": {},
          "output_type": "display_data"
        },
        {
          "data": {
            "application/vnd.jupyter.widget-view+json": {
              "model_id": "057e170fc3aa4cdd82c9ee6b9f5717ef",
              "version_major": 2,
              "version_minor": 0
            },
            "text/plain": [
              "  0%|          | 0/84 [00:00<?, ?it/s]"
            ]
          },
          "metadata": {},
          "output_type": "display_data"
        },
        {
          "data": {
            "application/vnd.jupyter.widget-view+json": {
              "model_id": "6931144cb6744f2dba3ed6cfe59a3c47",
              "version_major": 2,
              "version_minor": 0
            },
            "text/plain": [
              "  0%|          | 0/93 [00:00<?, ?it/s]"
            ]
          },
          "metadata": {},
          "output_type": "display_data"
        },
        {
          "data": {
            "application/vnd.jupyter.widget-view+json": {
              "model_id": "5f770f85ae874dc2a4baeeb2d134c647",
              "version_major": 2,
              "version_minor": 0
            },
            "text/plain": [
              "  0%|          | 0/84 [00:00<?, ?it/s]"
            ]
          },
          "metadata": {},
          "output_type": "display_data"
        },
        {
          "data": {
            "application/vnd.jupyter.widget-view+json": {
              "model_id": "b709fa4c940046baabe4a69c10e50eaa",
              "version_major": 2,
              "version_minor": 0
            },
            "text/plain": [
              "  0%|          | 0/93 [00:00<?, ?it/s]"
            ]
          },
          "metadata": {},
          "output_type": "display_data"
        },
        {
          "data": {
            "application/vnd.jupyter.widget-view+json": {
              "model_id": "e413237ac7ce4fcca09834d3eee461e5",
              "version_major": 2,
              "version_minor": 0
            },
            "text/plain": [
              "  0%|          | 0/84 [00:00<?, ?it/s]"
            ]
          },
          "metadata": {},
          "output_type": "display_data"
        },
        {
          "data": {
            "application/vnd.jupyter.widget-view+json": {
              "model_id": "3ad63541db2448318b6584d4ae1158a4",
              "version_major": 2,
              "version_minor": 0
            },
            "text/plain": [
              "  0%|          | 0/93 [00:00<?, ?it/s]"
            ]
          },
          "metadata": {},
          "output_type": "display_data"
        },
        {
          "data": {
            "application/vnd.jupyter.widget-view+json": {
              "model_id": "aadd545fc7f240a093fd516765414039",
              "version_major": 2,
              "version_minor": 0
            },
            "text/plain": [
              "  0%|          | 0/84 [00:00<?, ?it/s]"
            ]
          },
          "metadata": {},
          "output_type": "display_data"
        },
        {
          "data": {
            "application/vnd.jupyter.widget-view+json": {
              "model_id": "e75b71c586e446c6aa940173a5d2b96f",
              "version_major": 2,
              "version_minor": 0
            },
            "text/plain": [
              "  0%|          | 0/93 [00:00<?, ?it/s]"
            ]
          },
          "metadata": {},
          "output_type": "display_data"
        },
        {
          "data": {
            "application/vnd.jupyter.widget-view+json": {
              "model_id": "8477a81931a9497fb262709c145eb6a0",
              "version_major": 2,
              "version_minor": 0
            },
            "text/plain": [
              "  0%|          | 0/84 [00:00<?, ?it/s]"
            ]
          },
          "metadata": {},
          "output_type": "display_data"
        },
        {
          "name": "stdout",
          "output_type": "stream",
          "text": [
            "personal best  [array([3.40137516e-04, 4.63241630e-01, 1.02000000e+02, 4.20000000e+01]), array([3.40137516e-04, 4.63241630e-01, 1.02000000e+02, 4.20000000e+01]), array([3.40137516e-04, 4.63241630e-01, 1.02000000e+02, 4.20000000e+01]), array([3.40137516e-04, 4.63241630e-01, 1.02000000e+02, 4.20000000e+01]), array([2.15016098e-04, 2.25545053e-01, 1.02000000e+02, 3.90000000e+01]), array([2.15016098e-04, 2.25545053e-01, 1.02000000e+02, 3.90000000e+01]), array([2.15016098e-04, 2.25545053e-01, 1.02000000e+02, 3.90000000e+01]), array([2.15016098e-04, 2.25545053e-01, 1.02000000e+02, 3.90000000e+01]), array([2.15016098e-04, 2.25545053e-01, 1.02000000e+02, 3.90000000e+01]), array([2.15016098e-04, 2.25545053e-01, 1.02000000e+02, 3.90000000e+01]), array([2.15016098e-04, 2.25545053e-01, 1.02000000e+02, 3.90000000e+01]), array([2.15016098e-04, 2.25545053e-01, 1.02000000e+02, 3.90000000e+01]), array([2.15016098e-04, 2.25545053e-01, 1.02000000e+02, 3.90000000e+01]), array([2.15016098e-04, 2.25545053e-01, 1.02000000e+02, 3.90000000e+01]), array([2.15016098e-04, 2.25545053e-01, 1.02000000e+02, 3.90000000e+01]), array([2.15016098e-04, 2.25545053e-01, 1.02000000e+02, 3.90000000e+01]), array([2.15016098e-04, 2.25545053e-01, 1.02000000e+02, 3.90000000e+01]), array([2.15016098e-04, 2.25545053e-01, 1.02000000e+02, 3.90000000e+01]), array([2.15016098e-04, 2.25545053e-01, 1.02000000e+02, 3.90000000e+01])]\n",
            "global best  [array([3.40137516e-04, 4.63241630e-01, 1.02000000e+02, 4.20000000e+01]), array([3.40137516e-04, 4.63241630e-01, 1.02000000e+02, 4.20000000e+01]), array([3.40137516e-04, 4.63241630e-01, 1.02000000e+02, 4.20000000e+01]), array([3.40137516e-04, 4.63241630e-01, 1.02000000e+02, 4.20000000e+01]), array([2.15016098e-04, 2.25545053e-01, 1.02000000e+02, 3.90000000e+01]), array([2.15016098e-04, 2.25545053e-01, 1.02000000e+02, 3.90000000e+01]), array([2.15016098e-04, 2.25545053e-01, 1.02000000e+02, 3.90000000e+01]), array([2.15016098e-04, 2.25545053e-01, 1.02000000e+02, 3.90000000e+01]), array([2.15016098e-04, 2.25545053e-01, 1.02000000e+02, 3.90000000e+01]), array([2.15016098e-04, 2.25545053e-01, 1.02000000e+02, 3.90000000e+01]), array([2.15016098e-04, 2.25545053e-01, 1.02000000e+02, 3.90000000e+01]), array([2.15016098e-04, 2.25545053e-01, 1.02000000e+02, 3.90000000e+01]), array([2.15016098e-04, 2.25545053e-01, 1.02000000e+02, 3.90000000e+01]), array([2.15016098e-04, 2.25545053e-01, 1.02000000e+02, 3.90000000e+01]), array([2.15016098e-04, 2.25545053e-01, 1.02000000e+02, 3.90000000e+01]), array([2.15016098e-04, 2.25545053e-01, 1.02000000e+02, 3.90000000e+01]), array([2.15016098e-04, 2.25545053e-01, 1.02000000e+02, 3.90000000e+01]), array([2.15016098e-04, 2.25545053e-01, 1.02000000e+02, 3.90000000e+01]), array([2.15016098e-04, 2.25545053e-01, 1.02000000e+02, 3.90000000e+01])]\n",
            "particle params:  [0.0002403250799666843, 0.36276214498428333, 103.0, 32.0]\n"
          ]
        },
        {
          "data": {
            "application/vnd.jupyter.widget-view+json": {
              "model_id": "cfa126375a9a43f4bd9c3b55f2013ee1",
              "version_major": 2,
              "version_minor": 0
            },
            "text/plain": [
              "  0%|          | 0/93 [00:00<?, ?it/s]"
            ]
          },
          "metadata": {},
          "output_type": "display_data"
        },
        {
          "data": {
            "application/vnd.jupyter.widget-view+json": {
              "model_id": "7392fa52dbf4423f8ba6ed01ff48d000",
              "version_major": 2,
              "version_minor": 0
            },
            "text/plain": [
              "  0%|          | 0/84 [00:00<?, ?it/s]"
            ]
          },
          "metadata": {},
          "output_type": "display_data"
        },
        {
          "data": {
            "application/vnd.jupyter.widget-view+json": {
              "model_id": "978cabab4b394519b949204f3d008224",
              "version_major": 2,
              "version_minor": 0
            },
            "text/plain": [
              "  0%|          | 0/93 [00:00<?, ?it/s]"
            ]
          },
          "metadata": {},
          "output_type": "display_data"
        },
        {
          "data": {
            "application/vnd.jupyter.widget-view+json": {
              "model_id": "87864f4c22fb473cb4207db5cb0dd03b",
              "version_major": 2,
              "version_minor": 0
            },
            "text/plain": [
              "  0%|          | 0/84 [00:00<?, ?it/s]"
            ]
          },
          "metadata": {},
          "output_type": "display_data"
        },
        {
          "data": {
            "application/vnd.jupyter.widget-view+json": {
              "model_id": "f65e13a0780e4ecc8b7abf82e4710dae",
              "version_major": 2,
              "version_minor": 0
            },
            "text/plain": [
              "  0%|          | 0/93 [00:00<?, ?it/s]"
            ]
          },
          "metadata": {},
          "output_type": "display_data"
        },
        {
          "data": {
            "application/vnd.jupyter.widget-view+json": {
              "model_id": "da354c352b2044309a9d13d44a882936",
              "version_major": 2,
              "version_minor": 0
            },
            "text/plain": [
              "  0%|          | 0/84 [00:00<?, ?it/s]"
            ]
          },
          "metadata": {},
          "output_type": "display_data"
        },
        {
          "data": {
            "application/vnd.jupyter.widget-view+json": {
              "model_id": "e45393126fed4e55afdf387ff97b31a1",
              "version_major": 2,
              "version_minor": 0
            },
            "text/plain": [
              "  0%|          | 0/93 [00:00<?, ?it/s]"
            ]
          },
          "metadata": {},
          "output_type": "display_data"
        },
        {
          "data": {
            "application/vnd.jupyter.widget-view+json": {
              "model_id": "5f18e52c03514dccb60bebe63358c7ab",
              "version_major": 2,
              "version_minor": 0
            },
            "text/plain": [
              "  0%|          | 0/84 [00:00<?, ?it/s]"
            ]
          },
          "metadata": {},
          "output_type": "display_data"
        },
        {
          "data": {
            "application/vnd.jupyter.widget-view+json": {
              "model_id": "c1f95b2e398d4264a5d2b33dbad31050",
              "version_major": 2,
              "version_minor": 0
            },
            "text/plain": [
              "  0%|          | 0/93 [00:00<?, ?it/s]"
            ]
          },
          "metadata": {},
          "output_type": "display_data"
        },
        {
          "data": {
            "application/vnd.jupyter.widget-view+json": {
              "model_id": "e95ac263de29471aac36ebd14f9e2c40",
              "version_major": 2,
              "version_minor": 0
            },
            "text/plain": [
              "  0%|          | 0/84 [00:00<?, ?it/s]"
            ]
          },
          "metadata": {},
          "output_type": "display_data"
        },
        {
          "name": "stdout",
          "output_type": "stream",
          "text": [
            "personal best  [array([7.49841801e-04, 6.74450274e-01, 1.00000000e+02, 2.00000000e+01]), array([7.08454869e-04, 4.35989451e-01, 1.05000000e+02, 2.30000000e+01]), array([2.75370458e-04, 3.19271604e-01, 1.06000000e+02, 4.00000000e+01]), array([2.75370458e-04, 3.19271604e-01, 1.06000000e+02, 4.00000000e+01]), array([2.75370458e-04, 3.19271604e-01, 1.06000000e+02, 4.00000000e+01]), array([2.75370458e-04, 3.19271604e-01, 1.06000000e+02, 4.00000000e+01]), array([3.07126403e-04, 2.83968040e-01, 1.04000000e+02, 4.20000000e+01]), array([3.07126403e-04, 2.83968040e-01, 1.04000000e+02, 4.20000000e+01]), array([3.07126403e-04, 2.83968040e-01, 1.04000000e+02, 4.20000000e+01]), array([3.07126403e-04, 2.83968040e-01, 1.04000000e+02, 4.20000000e+01]), array([3.07126403e-04, 2.83968040e-01, 1.04000000e+02, 4.20000000e+01]), array([2.48213593e-04, 2.97007662e-01, 1.05000000e+02, 4.00000000e+01]), array([2.32671752e-04, 3.49445648e-01, 1.03000000e+02, 3.40000000e+01]), array([2.32671752e-04, 3.49445648e-01, 1.03000000e+02, 3.40000000e+01]), array([2.32671752e-04, 3.49445648e-01, 1.03000000e+02, 3.40000000e+01]), array([2.32671752e-04, 3.49445648e-01, 1.03000000e+02, 3.40000000e+01]), array([2.32671752e-04, 3.49445648e-01, 1.03000000e+02, 3.40000000e+01]), array([2.32671752e-04, 3.49445648e-01, 1.03000000e+02, 3.40000000e+01]), array([2.32671752e-04, 3.49445648e-01, 1.03000000e+02, 3.40000000e+01])]\n",
            "global best  [array([7.49841801e-04, 6.74450274e-01, 1.00000000e+02, 2.00000000e+01]), array([7.08454869e-04, 4.35989451e-01, 1.05000000e+02, 2.30000000e+01]), array([2.75370458e-04, 3.19271604e-01, 1.06000000e+02, 4.00000000e+01]), array([2.75370458e-04, 3.19271604e-01, 1.06000000e+02, 4.00000000e+01]), array([2.75370458e-04, 3.19271604e-01, 1.06000000e+02, 4.00000000e+01]), array([2.75370458e-04, 3.19271604e-01, 1.06000000e+02, 4.00000000e+01]), array([3.07126403e-04, 2.83968040e-01, 1.04000000e+02, 4.20000000e+01]), array([3.07126403e-04, 2.83968040e-01, 1.04000000e+02, 4.20000000e+01]), array([3.07126403e-04, 2.83968040e-01, 1.04000000e+02, 4.20000000e+01]), array([3.07126403e-04, 2.83968040e-01, 1.04000000e+02, 4.20000000e+01]), array([3.07126403e-04, 2.83968040e-01, 1.04000000e+02, 4.20000000e+01]), array([2.48213593e-04, 2.97007662e-01, 1.05000000e+02, 4.00000000e+01]), array([2.32671752e-04, 3.49445648e-01, 1.03000000e+02, 3.40000000e+01]), array([2.32671752e-04, 3.49445648e-01, 1.03000000e+02, 3.40000000e+01]), array([2.32671752e-04, 3.49445648e-01, 1.03000000e+02, 3.40000000e+01]), array([2.32671752e-04, 3.49445648e-01, 1.03000000e+02, 3.40000000e+01]), array([2.32671752e-04, 3.49445648e-01, 1.03000000e+02, 3.40000000e+01]), array([2.32671752e-04, 3.49445648e-01, 1.03000000e+02, 3.40000000e+01]), array([2.32671752e-04, 3.49445648e-01, 1.03000000e+02, 3.40000000e+01])]\n",
            "particle params:  [0.00021904402460999693, 0.3310777017863842, 100.0, 26.0]\n"
          ]
        },
        {
          "data": {
            "application/vnd.jupyter.widget-view+json": {
              "model_id": "78f19bc6304d41528f7af3ffa9d36365",
              "version_major": 2,
              "version_minor": 0
            },
            "text/plain": [
              "  0%|          | 0/93 [00:00<?, ?it/s]"
            ]
          },
          "metadata": {},
          "output_type": "display_data"
        },
        {
          "data": {
            "application/vnd.jupyter.widget-view+json": {
              "model_id": "671e28b855a74ae99f2a6a9b1ccc9c10",
              "version_major": 2,
              "version_minor": 0
            },
            "text/plain": [
              "  0%|          | 0/84 [00:00<?, ?it/s]"
            ]
          },
          "metadata": {},
          "output_type": "display_data"
        },
        {
          "data": {
            "application/vnd.jupyter.widget-view+json": {
              "model_id": "28d38564572347bdbf8529992e43f7b8",
              "version_major": 2,
              "version_minor": 0
            },
            "text/plain": [
              "  0%|          | 0/93 [00:00<?, ?it/s]"
            ]
          },
          "metadata": {},
          "output_type": "display_data"
        },
        {
          "data": {
            "application/vnd.jupyter.widget-view+json": {
              "model_id": "94519f510d974eb6b4fd088ca980733b",
              "version_major": 2,
              "version_minor": 0
            },
            "text/plain": [
              "  0%|          | 0/84 [00:00<?, ?it/s]"
            ]
          },
          "metadata": {},
          "output_type": "display_data"
        },
        {
          "data": {
            "application/vnd.jupyter.widget-view+json": {
              "model_id": "6b888aebe66a48e788c7ac0aea993e08",
              "version_major": 2,
              "version_minor": 0
            },
            "text/plain": [
              "  0%|          | 0/93 [00:00<?, ?it/s]"
            ]
          },
          "metadata": {},
          "output_type": "display_data"
        },
        {
          "data": {
            "application/vnd.jupyter.widget-view+json": {
              "model_id": "217b088bb7a9467b91d57c48e0513430",
              "version_major": 2,
              "version_minor": 0
            },
            "text/plain": [
              "  0%|          | 0/84 [00:00<?, ?it/s]"
            ]
          },
          "metadata": {},
          "output_type": "display_data"
        },
        {
          "data": {
            "application/vnd.jupyter.widget-view+json": {
              "model_id": "2e6a1f2d6b8b4ee8b8cbc9909236fe75",
              "version_major": 2,
              "version_minor": 0
            },
            "text/plain": [
              "  0%|          | 0/93 [00:00<?, ?it/s]"
            ]
          },
          "metadata": {},
          "output_type": "display_data"
        },
        {
          "data": {
            "application/vnd.jupyter.widget-view+json": {
              "model_id": "cb7f7bbf0f9c4e569114af5728dbd833",
              "version_major": 2,
              "version_minor": 0
            },
            "text/plain": [
              "  0%|          | 0/84 [00:00<?, ?it/s]"
            ]
          },
          "metadata": {},
          "output_type": "display_data"
        },
        {
          "data": {
            "application/vnd.jupyter.widget-view+json": {
              "model_id": "3d49f22972d2454c8d1d2bcacbe2b32e",
              "version_major": 2,
              "version_minor": 0
            },
            "text/plain": [
              "  0%|          | 0/93 [00:00<?, ?it/s]"
            ]
          },
          "metadata": {},
          "output_type": "display_data"
        },
        {
          "data": {
            "application/vnd.jupyter.widget-view+json": {
              "model_id": "7a204be0db8f4024898e9306b3783c00",
              "version_major": 2,
              "version_minor": 0
            },
            "text/plain": [
              "  0%|          | 0/84 [00:00<?, ?it/s]"
            ]
          },
          "metadata": {},
          "output_type": "display_data"
        },
        {
          "name": "stdout",
          "output_type": "stream",
          "text": [
            "personal best  [array([5.87129720e-04, 8.55067083e-01, 1.06000000e+02, 1.00000000e+01]), array([3.82507046e-04, 7.80062843e-01, 1.00000000e+02, 3.40000000e+01]), array([3.82507046e-04, 7.80062843e-01, 1.00000000e+02, 3.40000000e+01]), array([3.82507046e-04, 7.80062843e-01, 1.00000000e+02, 3.40000000e+01]), array([2.08328216e-04, 2.39779914e-01, 1.00000000e+02, 1.00000000e+01]), array([2.08328216e-04, 2.39779914e-01, 1.00000000e+02, 1.00000000e+01]), array([2.08328216e-04, 2.39779914e-01, 1.00000000e+02, 1.00000000e+01]), array([2.08328216e-04, 2.39779914e-01, 1.00000000e+02, 1.00000000e+01]), array([2.08328216e-04, 2.39779914e-01, 1.00000000e+02, 1.00000000e+01]), array([2.08328216e-04, 2.39779914e-01, 1.00000000e+02, 1.00000000e+01]), array([2.08328216e-04, 2.39779914e-01, 1.00000000e+02, 1.00000000e+01]), array([2.08328216e-04, 2.39779914e-01, 1.00000000e+02, 1.00000000e+01]), array([2.08328216e-04, 2.39779914e-01, 1.00000000e+02, 1.00000000e+01]), array([2.08328216e-04, 2.39779914e-01, 1.00000000e+02, 1.00000000e+01]), array([2.08328216e-04, 2.39779914e-01, 1.00000000e+02, 1.00000000e+01]), array([2.08328216e-04, 2.39779914e-01, 1.00000000e+02, 1.00000000e+01]), array([2.08328216e-04, 2.39779914e-01, 1.00000000e+02, 1.00000000e+01]), array([2.08328216e-04, 2.39779914e-01, 1.00000000e+02, 1.00000000e+01]), array([2.08328216e-04, 2.39779914e-01, 1.00000000e+02, 1.00000000e+01])]\n",
            "global best  [array([5.87129720e-04, 8.55067083e-01, 1.06000000e+02, 1.00000000e+01]), array([3.82507046e-04, 7.80062843e-01, 1.00000000e+02, 3.40000000e+01]), array([3.82507046e-04, 7.80062843e-01, 1.00000000e+02, 3.40000000e+01]), array([3.82507046e-04, 7.80062843e-01, 1.00000000e+02, 3.40000000e+01]), array([2.08328216e-04, 2.39779914e-01, 1.00000000e+02, 1.00000000e+01]), array([2.08328216e-04, 2.39779914e-01, 1.00000000e+02, 1.00000000e+01]), array([2.08328216e-04, 2.39779914e-01, 1.00000000e+02, 1.00000000e+01]), array([2.08328216e-04, 2.39779914e-01, 1.00000000e+02, 1.00000000e+01]), array([2.08328216e-04, 2.39779914e-01, 1.00000000e+02, 1.00000000e+01]), array([2.08328216e-04, 2.39779914e-01, 1.00000000e+02, 1.00000000e+01]), array([2.08328216e-04, 2.39779914e-01, 1.00000000e+02, 1.00000000e+01]), array([2.08328216e-04, 2.39779914e-01, 1.00000000e+02, 1.00000000e+01]), array([2.08328216e-04, 2.39779914e-01, 1.00000000e+02, 1.00000000e+01]), array([2.08328216e-04, 2.39779914e-01, 1.00000000e+02, 1.00000000e+01]), array([2.08328216e-04, 2.39779914e-01, 1.00000000e+02, 1.00000000e+01]), array([2.08328216e-04, 2.39779914e-01, 1.00000000e+02, 1.00000000e+01]), array([2.08328216e-04, 2.39779914e-01, 1.00000000e+02, 1.00000000e+01]), array([2.08328216e-04, 2.39779914e-01, 1.00000000e+02, 1.00000000e+01]), array([2.08328216e-04, 2.39779914e-01, 1.00000000e+02, 1.00000000e+01])]\n",
            "particle params:  [0.00022398817447365975, 0.3567221932891022, 102.0, 39.0]\n"
          ]
        },
        {
          "data": {
            "application/vnd.jupyter.widget-view+json": {
              "model_id": "ad85c6fafb4e4b31a5cd12a857a372eb",
              "version_major": 2,
              "version_minor": 0
            },
            "text/plain": [
              "  0%|          | 0/93 [00:00<?, ?it/s]"
            ]
          },
          "metadata": {},
          "output_type": "display_data"
        },
        {
          "data": {
            "application/vnd.jupyter.widget-view+json": {
              "model_id": "425a35ffb6864f1ebd0846799d4181fd",
              "version_major": 2,
              "version_minor": 0
            },
            "text/plain": [
              "  0%|          | 0/84 [00:00<?, ?it/s]"
            ]
          },
          "metadata": {},
          "output_type": "display_data"
        },
        {
          "data": {
            "application/vnd.jupyter.widget-view+json": {
              "model_id": "aaf156f53f9644789a4198c302210160",
              "version_major": 2,
              "version_minor": 0
            },
            "text/plain": [
              "  0%|          | 0/93 [00:00<?, ?it/s]"
            ]
          },
          "metadata": {},
          "output_type": "display_data"
        },
        {
          "data": {
            "application/vnd.jupyter.widget-view+json": {
              "model_id": "52188aa032b5424f9bc6d594df571dcc",
              "version_major": 2,
              "version_minor": 0
            },
            "text/plain": [
              "  0%|          | 0/84 [00:00<?, ?it/s]"
            ]
          },
          "metadata": {},
          "output_type": "display_data"
        },
        {
          "data": {
            "application/vnd.jupyter.widget-view+json": {
              "model_id": "7985e9e2e01a4ddbb1e48eb60714aa4d",
              "version_major": 2,
              "version_minor": 0
            },
            "text/plain": [
              "  0%|          | 0/93 [00:00<?, ?it/s]"
            ]
          },
          "metadata": {},
          "output_type": "display_data"
        },
        {
          "data": {
            "application/vnd.jupyter.widget-view+json": {
              "model_id": "1f202142381d48d5a03bd648e20c90c3",
              "version_major": 2,
              "version_minor": 0
            },
            "text/plain": [
              "  0%|          | 0/84 [00:00<?, ?it/s]"
            ]
          },
          "metadata": {},
          "output_type": "display_data"
        },
        {
          "data": {
            "application/vnd.jupyter.widget-view+json": {
              "model_id": "d489f166f55b49588b652d05da1fe860",
              "version_major": 2,
              "version_minor": 0
            },
            "text/plain": [
              "  0%|          | 0/93 [00:00<?, ?it/s]"
            ]
          },
          "metadata": {},
          "output_type": "display_data"
        },
        {
          "data": {
            "application/vnd.jupyter.widget-view+json": {
              "model_id": "3496a8fe5f524ecf859880efa6041201",
              "version_major": 2,
              "version_minor": 0
            },
            "text/plain": [
              "  0%|          | 0/84 [00:00<?, ?it/s]"
            ]
          },
          "metadata": {},
          "output_type": "display_data"
        },
        {
          "data": {
            "application/vnd.jupyter.widget-view+json": {
              "model_id": "f27029801adc4f06b611d4040459d9ca",
              "version_major": 2,
              "version_minor": 0
            },
            "text/plain": [
              "  0%|          | 0/93 [00:00<?, ?it/s]"
            ]
          },
          "metadata": {},
          "output_type": "display_data"
        },
        {
          "data": {
            "application/vnd.jupyter.widget-view+json": {
              "model_id": "41a20a58c1124f11a94110eae823dec4",
              "version_major": 2,
              "version_minor": 0
            },
            "text/plain": [
              "  0%|          | 0/84 [00:00<?, ?it/s]"
            ]
          },
          "metadata": {},
          "output_type": "display_data"
        },
        {
          "name": "stdout",
          "output_type": "stream",
          "text": [
            "personal best  [array([7.05736117e-04, 1.47053148e-01, 1.06000000e+02, 3.50000000e+01]), array([3.86384573e-04, 2.86634639e-01, 1.03000000e+02, 3.70000000e+01]), array([2.17358482e-04, 4.35151260e-01, 1.01000000e+02, 4.10000000e+01]), array([2.17358482e-04, 4.35151260e-01, 1.01000000e+02, 4.10000000e+01]), array([2.17358482e-04, 4.35151260e-01, 1.01000000e+02, 4.10000000e+01]), array([2.70597153e-04, 2.32790810e-01, 1.01000000e+02, 3.80000000e+01]), array([2.51706785e-04, 2.16479510e-01, 1.01000000e+02, 4.20000000e+01]), array([2.51706785e-04, 2.16479510e-01, 1.01000000e+02, 4.20000000e+01]), array([2.51706785e-04, 2.16479510e-01, 1.01000000e+02, 4.20000000e+01]), array([2.51706785e-04, 2.16479510e-01, 1.01000000e+02, 4.20000000e+01]), array([2.51706785e-04, 2.16479510e-01, 1.01000000e+02, 4.20000000e+01]), array([2.51706785e-04, 2.16479510e-01, 1.01000000e+02, 4.20000000e+01]), array([2.44483289e-04, 2.89744756e-01, 1.00000000e+02, 4.00000000e+01]), array([2.44483289e-04, 2.89744756e-01, 1.00000000e+02, 4.00000000e+01]), array([2.44483289e-04, 2.89744756e-01, 1.00000000e+02, 4.00000000e+01]), array([2.44483289e-04, 2.89744756e-01, 1.00000000e+02, 4.00000000e+01]), array([2.44483289e-04, 2.89744756e-01, 1.00000000e+02, 4.00000000e+01]), array([2.44483289e-04, 2.89744756e-01, 1.00000000e+02, 4.00000000e+01]), array([2.44483289e-04, 2.89744756e-01, 1.00000000e+02, 4.00000000e+01])]\n",
            "global best  [array([7.05736117e-04, 1.47053148e-01, 1.06000000e+02, 3.50000000e+01]), array([3.86384573e-04, 2.86634639e-01, 1.03000000e+02, 3.70000000e+01]), array([2.17358482e-04, 4.35151260e-01, 1.01000000e+02, 4.10000000e+01]), array([2.17358482e-04, 4.35151260e-01, 1.01000000e+02, 4.10000000e+01]), array([2.17358482e-04, 4.35151260e-01, 1.01000000e+02, 4.10000000e+01]), array([2.70597153e-04, 2.32790810e-01, 1.01000000e+02, 3.80000000e+01]), array([2.51706785e-04, 2.16479510e-01, 1.01000000e+02, 4.20000000e+01]), array([2.51706785e-04, 2.16479510e-01, 1.01000000e+02, 4.20000000e+01]), array([2.51706785e-04, 2.16479510e-01, 1.01000000e+02, 4.20000000e+01]), array([2.51706785e-04, 2.16479510e-01, 1.01000000e+02, 4.20000000e+01]), array([2.51706785e-04, 2.16479510e-01, 1.01000000e+02, 4.20000000e+01]), array([2.51706785e-04, 2.16479510e-01, 1.01000000e+02, 4.20000000e+01]), array([2.44483289e-04, 2.89744756e-01, 1.00000000e+02, 4.00000000e+01]), array([2.44483289e-04, 2.89744756e-01, 1.00000000e+02, 4.00000000e+01]), array([2.44483289e-04, 2.89744756e-01, 1.00000000e+02, 4.00000000e+01]), array([2.44483289e-04, 2.89744756e-01, 1.00000000e+02, 4.00000000e+01]), array([2.44483289e-04, 2.89744756e-01, 1.00000000e+02, 4.00000000e+01]), array([2.44483289e-04, 2.89744756e-01, 1.00000000e+02, 4.00000000e+01]), array([2.44483289e-04, 2.89744756e-01, 1.00000000e+02, 4.00000000e+01])]\n",
            "particle params:  [0.0002795790169463991, 0.30224668412717315, 104.0, 35.0]\n"
          ]
        },
        {
          "data": {
            "application/vnd.jupyter.widget-view+json": {
              "model_id": "1c7fe701d9d14c01992950eadb862cf7",
              "version_major": 2,
              "version_minor": 0
            },
            "text/plain": [
              "  0%|          | 0/93 [00:00<?, ?it/s]"
            ]
          },
          "metadata": {},
          "output_type": "display_data"
        },
        {
          "data": {
            "application/vnd.jupyter.widget-view+json": {
              "model_id": "139f9cd65e584c8e93f4d96c65431764",
              "version_major": 2,
              "version_minor": 0
            },
            "text/plain": [
              "  0%|          | 0/84 [00:00<?, ?it/s]"
            ]
          },
          "metadata": {},
          "output_type": "display_data"
        },
        {
          "data": {
            "application/vnd.jupyter.widget-view+json": {
              "model_id": "32f906882ece469283e28866b7fa1f24",
              "version_major": 2,
              "version_minor": 0
            },
            "text/plain": [
              "  0%|          | 0/93 [00:00<?, ?it/s]"
            ]
          },
          "metadata": {},
          "output_type": "display_data"
        },
        {
          "data": {
            "application/vnd.jupyter.widget-view+json": {
              "model_id": "dd5baff8b048423ba17eba0ce05577ba",
              "version_major": 2,
              "version_minor": 0
            },
            "text/plain": [
              "  0%|          | 0/84 [00:00<?, ?it/s]"
            ]
          },
          "metadata": {},
          "output_type": "display_data"
        },
        {
          "data": {
            "application/vnd.jupyter.widget-view+json": {
              "model_id": "fb193ef241254acfa6281cb9800b6997",
              "version_major": 2,
              "version_minor": 0
            },
            "text/plain": [
              "  0%|          | 0/93 [00:00<?, ?it/s]"
            ]
          },
          "metadata": {},
          "output_type": "display_data"
        },
        {
          "data": {
            "application/vnd.jupyter.widget-view+json": {
              "model_id": "b58da2ab02ad46978d27a01226102858",
              "version_major": 2,
              "version_minor": 0
            },
            "text/plain": [
              "  0%|          | 0/84 [00:00<?, ?it/s]"
            ]
          },
          "metadata": {},
          "output_type": "display_data"
        },
        {
          "data": {
            "application/vnd.jupyter.widget-view+json": {
              "model_id": "66eeadb24e0f4183ab64ee06bbcc744a",
              "version_major": 2,
              "version_minor": 0
            },
            "text/plain": [
              "  0%|          | 0/93 [00:00<?, ?it/s]"
            ]
          },
          "metadata": {},
          "output_type": "display_data"
        },
        {
          "data": {
            "application/vnd.jupyter.widget-view+json": {
              "model_id": "9b688c6dd61046a8a73e0a7db24ca2da",
              "version_major": 2,
              "version_minor": 0
            },
            "text/plain": [
              "  0%|          | 0/84 [00:00<?, ?it/s]"
            ]
          },
          "metadata": {},
          "output_type": "display_data"
        },
        {
          "data": {
            "application/vnd.jupyter.widget-view+json": {
              "model_id": "4e721fd9b828478ca81bab4fad4d415e",
              "version_major": 2,
              "version_minor": 0
            },
            "text/plain": [
              "  0%|          | 0/93 [00:00<?, ?it/s]"
            ]
          },
          "metadata": {},
          "output_type": "display_data"
        },
        {
          "data": {
            "application/vnd.jupyter.widget-view+json": {
              "model_id": "3876e1f0e86040089b969a949718cf48",
              "version_major": 2,
              "version_minor": 0
            },
            "text/plain": [
              "  0%|          | 0/84 [00:00<?, ?it/s]"
            ]
          },
          "metadata": {},
          "output_type": "display_data"
        },
        {
          "name": "stdout",
          "output_type": "stream",
          "text": [
            "personal best  [array([2.44908245e-04, 6.01489829e-01, 1.16000000e+02, 3.20000000e+01]), array([2.36643464e-04, 2.12173567e-01, 1.00000000e+02, 3.30000000e+01]), array([2.36643464e-04, 2.12173567e-01, 1.00000000e+02, 3.30000000e+01]), array([2.36293883e-04, 2.09092478e-01, 1.00000000e+02, 3.30000000e+01]), array([2.36293883e-04, 2.09092478e-01, 1.00000000e+02, 3.30000000e+01]), array([2.36293883e-04, 2.09092478e-01, 1.00000000e+02, 3.30000000e+01]), array([2.36293883e-04, 2.09092478e-01, 1.00000000e+02, 3.30000000e+01]), array([2.33175877e-04, 1.97397447e-01, 1.01000000e+02, 3.80000000e+01]), array([2.33175877e-04, 1.97397447e-01, 1.01000000e+02, 3.80000000e+01]), array([2.81218958e-04, 1.97901006e-01, 1.04000000e+02, 3.60000000e+01]), array([2.81218958e-04, 1.97901006e-01, 1.04000000e+02, 3.60000000e+01]), array([2.81218958e-04, 1.97901006e-01, 1.04000000e+02, 3.60000000e+01]), array([2.81218958e-04, 1.97901006e-01, 1.04000000e+02, 3.60000000e+01]), array([2.81218958e-04, 1.97901006e-01, 1.04000000e+02, 3.60000000e+01]), array([2.81218958e-04, 1.97901006e-01, 1.04000000e+02, 3.60000000e+01]), array([2.81218958e-04, 1.97901006e-01, 1.04000000e+02, 3.60000000e+01]), array([2.81218958e-04, 1.97901006e-01, 1.04000000e+02, 3.60000000e+01]), array([2.81218958e-04, 1.97901006e-01, 1.04000000e+02, 3.60000000e+01]), array([2.81218958e-04, 1.97901006e-01, 1.04000000e+02, 3.60000000e+01])]\n",
            "global best  [array([2.44908245e-04, 6.01489829e-01, 1.16000000e+02, 3.20000000e+01]), array([2.36643464e-04, 2.12173567e-01, 1.00000000e+02, 3.30000000e+01]), array([2.36643464e-04, 2.12173567e-01, 1.00000000e+02, 3.30000000e+01]), array([2.36293883e-04, 2.09092478e-01, 1.00000000e+02, 3.30000000e+01]), array([2.36293883e-04, 2.09092478e-01, 1.00000000e+02, 3.30000000e+01]), array([2.36293883e-04, 2.09092478e-01, 1.00000000e+02, 3.30000000e+01]), array([2.36293883e-04, 2.09092478e-01, 1.00000000e+02, 3.30000000e+01]), array([2.33175877e-04, 1.97397447e-01, 1.01000000e+02, 3.80000000e+01]), array([2.33175877e-04, 1.97397447e-01, 1.01000000e+02, 3.80000000e+01]), array([2.81218958e-04, 1.97901006e-01, 1.04000000e+02, 3.60000000e+01]), array([2.81218958e-04, 1.97901006e-01, 1.04000000e+02, 3.60000000e+01]), array([2.81218958e-04, 1.97901006e-01, 1.04000000e+02, 3.60000000e+01]), array([2.81218958e-04, 1.97901006e-01, 1.04000000e+02, 3.60000000e+01]), array([2.81218958e-04, 1.97901006e-01, 1.04000000e+02, 3.60000000e+01]), array([2.81218958e-04, 1.97901006e-01, 1.04000000e+02, 3.60000000e+01]), array([2.81218958e-04, 1.97901006e-01, 1.04000000e+02, 3.60000000e+01]), array([2.81218958e-04, 1.97901006e-01, 1.04000000e+02, 3.60000000e+01]), array([2.81218958e-04, 1.97901006e-01, 1.04000000e+02, 3.60000000e+01]), array([2.81218958e-04, 1.97901006e-01, 1.04000000e+02, 3.60000000e+01])]\n",
            "particle params:  [0.0002731286257876299, 0.3629412992113396, 104.0, 33.0]\n"
          ]
        },
        {
          "data": {
            "application/vnd.jupyter.widget-view+json": {
              "model_id": "fc32df6469c5418888dfdba516ca37b4",
              "version_major": 2,
              "version_minor": 0
            },
            "text/plain": [
              "  0%|          | 0/93 [00:00<?, ?it/s]"
            ]
          },
          "metadata": {},
          "output_type": "display_data"
        },
        {
          "data": {
            "application/vnd.jupyter.widget-view+json": {
              "model_id": "040b890667d54795b405c820e55fb5d4",
              "version_major": 2,
              "version_minor": 0
            },
            "text/plain": [
              "  0%|          | 0/84 [00:00<?, ?it/s]"
            ]
          },
          "metadata": {},
          "output_type": "display_data"
        },
        {
          "data": {
            "application/vnd.jupyter.widget-view+json": {
              "model_id": "8cca9d756523464cafcf575fbade286b",
              "version_major": 2,
              "version_minor": 0
            },
            "text/plain": [
              "  0%|          | 0/93 [00:00<?, ?it/s]"
            ]
          },
          "metadata": {},
          "output_type": "display_data"
        },
        {
          "data": {
            "application/vnd.jupyter.widget-view+json": {
              "model_id": "5090478c8ad5432388521878b30b7fc1",
              "version_major": 2,
              "version_minor": 0
            },
            "text/plain": [
              "  0%|          | 0/84 [00:00<?, ?it/s]"
            ]
          },
          "metadata": {},
          "output_type": "display_data"
        },
        {
          "data": {
            "application/vnd.jupyter.widget-view+json": {
              "model_id": "8e19a8bf3fe04b88b0c597870daf01a3",
              "version_major": 2,
              "version_minor": 0
            },
            "text/plain": [
              "  0%|          | 0/93 [00:00<?, ?it/s]"
            ]
          },
          "metadata": {},
          "output_type": "display_data"
        },
        {
          "data": {
            "application/vnd.jupyter.widget-view+json": {
              "model_id": "a923ec11885945df96960f29387f2bc7",
              "version_major": 2,
              "version_minor": 0
            },
            "text/plain": [
              "  0%|          | 0/84 [00:00<?, ?it/s]"
            ]
          },
          "metadata": {},
          "output_type": "display_data"
        },
        {
          "data": {
            "application/vnd.jupyter.widget-view+json": {
              "model_id": "bf9ef734531f480993ec57ca48049236",
              "version_major": 2,
              "version_minor": 0
            },
            "text/plain": [
              "  0%|          | 0/93 [00:00<?, ?it/s]"
            ]
          },
          "metadata": {},
          "output_type": "display_data"
        },
        {
          "data": {
            "application/vnd.jupyter.widget-view+json": {
              "model_id": "a9e040c35a1b43a0baed84e833cfee28",
              "version_major": 2,
              "version_minor": 0
            },
            "text/plain": [
              "  0%|          | 0/84 [00:00<?, ?it/s]"
            ]
          },
          "metadata": {},
          "output_type": "display_data"
        },
        {
          "data": {
            "application/vnd.jupyter.widget-view+json": {
              "model_id": "c10c2ff255264f28a45e2241b2661bec",
              "version_major": 2,
              "version_minor": 0
            },
            "text/plain": [
              "  0%|          | 0/93 [00:00<?, ?it/s]"
            ]
          },
          "metadata": {},
          "output_type": "display_data"
        },
        {
          "data": {
            "application/vnd.jupyter.widget-view+json": {
              "model_id": "6c16d0037b1249b29679af3f2298fd2e",
              "version_major": 2,
              "version_minor": 0
            },
            "text/plain": [
              "  0%|          | 0/84 [00:00<?, ?it/s]"
            ]
          },
          "metadata": {},
          "output_type": "display_data"
        },
        {
          "name": "stdout",
          "output_type": "stream",
          "text": [
            "personal best  [array([7.63695015e-05, 5.11396445e-01, 1.09000000e+02, 1.70000000e+01]), array([2.99218928e-04, 6.14941474e-01, 1.03000000e+02, 2.80000000e+01]), array([2.99218928e-04, 6.14941474e-01, 1.03000000e+02, 2.80000000e+01]), array([2.99218928e-04, 6.14941474e-01, 1.03000000e+02, 2.80000000e+01]), array([2.99218928e-04, 6.14941474e-01, 1.03000000e+02, 2.80000000e+01]), array([2.99218928e-04, 6.14941474e-01, 1.03000000e+02, 2.80000000e+01]), array([2.99218928e-04, 6.14941474e-01, 1.03000000e+02, 2.80000000e+01]), array([2.99218928e-04, 6.14941474e-01, 1.03000000e+02, 2.80000000e+01]), array([2.99218928e-04, 6.14941474e-01, 1.03000000e+02, 2.80000000e+01]), array([2.73185298e-04, 3.68418563e-01, 1.04000000e+02, 3.30000000e+01]), array([2.73185298e-04, 3.68418563e-01, 1.04000000e+02, 3.30000000e+01]), array([2.73185298e-04, 3.68418563e-01, 1.04000000e+02, 3.30000000e+01]), array([2.73185298e-04, 3.68418563e-01, 1.04000000e+02, 3.30000000e+01]), array([2.73185298e-04, 3.68418563e-01, 1.04000000e+02, 3.30000000e+01]), array([2.73185298e-04, 3.68418563e-01, 1.04000000e+02, 3.30000000e+01]), array([2.73185298e-04, 3.68418563e-01, 1.04000000e+02, 3.30000000e+01]), array([2.73185298e-04, 3.68418563e-01, 1.04000000e+02, 3.30000000e+01]), array([2.73185298e-04, 3.68418563e-01, 1.04000000e+02, 3.30000000e+01]), array([2.73185298e-04, 3.68418563e-01, 1.04000000e+02, 3.30000000e+01])]\n",
            "global best  [array([7.63695015e-05, 5.11396445e-01, 1.09000000e+02, 1.70000000e+01]), array([2.99218928e-04, 6.14941474e-01, 1.03000000e+02, 2.80000000e+01]), array([2.99218928e-04, 6.14941474e-01, 1.03000000e+02, 2.80000000e+01]), array([2.99218928e-04, 6.14941474e-01, 1.03000000e+02, 2.80000000e+01]), array([2.99218928e-04, 6.14941474e-01, 1.03000000e+02, 2.80000000e+01]), array([2.99218928e-04, 6.14941474e-01, 1.03000000e+02, 2.80000000e+01]), array([2.99218928e-04, 6.14941474e-01, 1.03000000e+02, 2.80000000e+01]), array([2.99218928e-04, 6.14941474e-01, 1.03000000e+02, 2.80000000e+01]), array([2.99218928e-04, 6.14941474e-01, 1.03000000e+02, 2.80000000e+01]), array([2.73185298e-04, 3.68418563e-01, 1.04000000e+02, 3.30000000e+01]), array([2.73185298e-04, 3.68418563e-01, 1.04000000e+02, 3.30000000e+01]), array([2.73185298e-04, 3.68418563e-01, 1.04000000e+02, 3.30000000e+01]), array([2.73185298e-04, 3.68418563e-01, 1.04000000e+02, 3.30000000e+01]), array([2.73185298e-04, 3.68418563e-01, 1.04000000e+02, 3.30000000e+01]), array([2.73185298e-04, 3.68418563e-01, 1.04000000e+02, 3.30000000e+01]), array([2.73185298e-04, 3.68418563e-01, 1.04000000e+02, 3.30000000e+01]), array([2.73185298e-04, 3.68418563e-01, 1.04000000e+02, 3.30000000e+01]), array([2.73185298e-04, 3.68418563e-01, 1.04000000e+02, 3.30000000e+01]), array([2.73185298e-04, 3.68418563e-01, 1.04000000e+02, 3.30000000e+01])]\n",
            "particle params:  [0.0003189641027796159, 0.22687854671712993, 106.0, 34.0]\n"
          ]
        },
        {
          "data": {
            "application/vnd.jupyter.widget-view+json": {
              "model_id": "8926d9b328a3465e8c1bd3a0ff9fcd62",
              "version_major": 2,
              "version_minor": 0
            },
            "text/plain": [
              "  0%|          | 0/93 [00:00<?, ?it/s]"
            ]
          },
          "metadata": {},
          "output_type": "display_data"
        },
        {
          "data": {
            "application/vnd.jupyter.widget-view+json": {
              "model_id": "7e85316f55b14477900b2944d1917539",
              "version_major": 2,
              "version_minor": 0
            },
            "text/plain": [
              "  0%|          | 0/84 [00:00<?, ?it/s]"
            ]
          },
          "metadata": {},
          "output_type": "display_data"
        },
        {
          "data": {
            "application/vnd.jupyter.widget-view+json": {
              "model_id": "a6257e41d92841b7a9a2a590edffed86",
              "version_major": 2,
              "version_minor": 0
            },
            "text/plain": [
              "  0%|          | 0/93 [00:00<?, ?it/s]"
            ]
          },
          "metadata": {},
          "output_type": "display_data"
        },
        {
          "data": {
            "application/vnd.jupyter.widget-view+json": {
              "model_id": "c03049bf18434200b4628a7ff2586bf5",
              "version_major": 2,
              "version_minor": 0
            },
            "text/plain": [
              "  0%|          | 0/84 [00:00<?, ?it/s]"
            ]
          },
          "metadata": {},
          "output_type": "display_data"
        },
        {
          "data": {
            "application/vnd.jupyter.widget-view+json": {
              "model_id": "708602525fcc453d88834bba53e8be7e",
              "version_major": 2,
              "version_minor": 0
            },
            "text/plain": [
              "  0%|          | 0/93 [00:00<?, ?it/s]"
            ]
          },
          "metadata": {},
          "output_type": "display_data"
        },
        {
          "data": {
            "application/vnd.jupyter.widget-view+json": {
              "model_id": "a1d9fd278ab74029ab9d9205e7ffd255",
              "version_major": 2,
              "version_minor": 0
            },
            "text/plain": [
              "  0%|          | 0/84 [00:00<?, ?it/s]"
            ]
          },
          "metadata": {},
          "output_type": "display_data"
        },
        {
          "data": {
            "application/vnd.jupyter.widget-view+json": {
              "model_id": "f0b4f8f16a5e446eb66a407b243b3cd3",
              "version_major": 2,
              "version_minor": 0
            },
            "text/plain": [
              "  0%|          | 0/93 [00:00<?, ?it/s]"
            ]
          },
          "metadata": {},
          "output_type": "display_data"
        },
        {
          "data": {
            "application/vnd.jupyter.widget-view+json": {
              "model_id": "40c3ba282039487ea36335c7fb1e7b4b",
              "version_major": 2,
              "version_minor": 0
            },
            "text/plain": [
              "  0%|          | 0/84 [00:00<?, ?it/s]"
            ]
          },
          "metadata": {},
          "output_type": "display_data"
        },
        {
          "data": {
            "application/vnd.jupyter.widget-view+json": {
              "model_id": "6de2c29d7efd4d48bebd788f1fcc48b3",
              "version_major": 2,
              "version_minor": 0
            },
            "text/plain": [
              "  0%|          | 0/93 [00:00<?, ?it/s]"
            ]
          },
          "metadata": {},
          "output_type": "display_data"
        },
        {
          "data": {
            "application/vnd.jupyter.widget-view+json": {
              "model_id": "c5eb4be8240f436e9648fe7fa9ad3a98",
              "version_major": 2,
              "version_minor": 0
            },
            "text/plain": [
              "  0%|          | 0/84 [00:00<?, ?it/s]"
            ]
          },
          "metadata": {},
          "output_type": "display_data"
        },
        {
          "name": "stdout",
          "output_type": "stream",
          "text": [
            "personal best  [array([6.96088433e-04, 3.69036300e-01, 1.21000000e+02, 4.80000000e+01]), array([6.93445998e-04, 5.52352815e-01, 1.08000000e+02, 3.50000000e+01]), array([6.93445998e-04, 5.52352815e-01, 1.08000000e+02, 3.50000000e+01]), array([6.93445998e-04, 5.52352815e-01, 1.08000000e+02, 3.50000000e+01]), array([6.93445998e-04, 5.52352815e-01, 1.08000000e+02, 3.50000000e+01]), array([6.93445998e-04, 5.52352815e-01, 1.08000000e+02, 3.50000000e+01]), array([6.93445998e-04, 5.52352815e-01, 1.08000000e+02, 3.50000000e+01]), array([3.20876308e-04, 1.97684185e-01, 1.07000000e+02, 3.70000000e+01]), array([3.20876308e-04, 1.97684185e-01, 1.07000000e+02, 3.70000000e+01]), array([3.20876308e-04, 1.97684185e-01, 1.07000000e+02, 3.70000000e+01]), array([3.20876308e-04, 1.97684185e-01, 1.07000000e+02, 3.70000000e+01]), array([3.20876308e-04, 1.97684185e-01, 1.07000000e+02, 3.70000000e+01]), array([3.20876308e-04, 1.97684185e-01, 1.07000000e+02, 3.70000000e+01]), array([3.20876308e-04, 1.97684185e-01, 1.07000000e+02, 3.70000000e+01]), array([3.20876308e-04, 1.97684185e-01, 1.07000000e+02, 3.70000000e+01]), array([3.20876308e-04, 1.97684185e-01, 1.07000000e+02, 3.70000000e+01]), array([3.20876308e-04, 1.97684185e-01, 1.07000000e+02, 3.70000000e+01]), array([3.20876308e-04, 1.97684185e-01, 1.07000000e+02, 3.70000000e+01]), array([3.20876308e-04, 1.97684185e-01, 1.07000000e+02, 3.70000000e+01])]\n",
            "global best  [array([6.96088433e-04, 3.69036300e-01, 1.21000000e+02, 4.80000000e+01]), array([6.93445998e-04, 5.52352815e-01, 1.08000000e+02, 3.50000000e+01]), array([6.93445998e-04, 5.52352815e-01, 1.08000000e+02, 3.50000000e+01]), array([6.93445998e-04, 5.52352815e-01, 1.08000000e+02, 3.50000000e+01]), array([6.93445998e-04, 5.52352815e-01, 1.08000000e+02, 3.50000000e+01]), array([6.93445998e-04, 5.52352815e-01, 1.08000000e+02, 3.50000000e+01]), array([6.93445998e-04, 5.52352815e-01, 1.08000000e+02, 3.50000000e+01]), array([3.20876308e-04, 1.97684185e-01, 1.07000000e+02, 3.70000000e+01]), array([3.20876308e-04, 1.97684185e-01, 1.07000000e+02, 3.70000000e+01]), array([3.20876308e-04, 1.97684185e-01, 1.07000000e+02, 3.70000000e+01]), array([3.20876308e-04, 1.97684185e-01, 1.07000000e+02, 3.70000000e+01]), array([3.20876308e-04, 1.97684185e-01, 1.07000000e+02, 3.70000000e+01]), array([3.20876308e-04, 1.97684185e-01, 1.07000000e+02, 3.70000000e+01]), array([3.20876308e-04, 1.97684185e-01, 1.07000000e+02, 3.70000000e+01]), array([3.20876308e-04, 1.97684185e-01, 1.07000000e+02, 3.70000000e+01]), array([3.20876308e-04, 1.97684185e-01, 1.07000000e+02, 3.70000000e+01]), array([3.20876308e-04, 1.97684185e-01, 1.07000000e+02, 3.70000000e+01]), array([3.20876308e-04, 1.97684185e-01, 1.07000000e+02, 3.70000000e+01]), array([3.20876308e-04, 1.97684185e-01, 1.07000000e+02, 3.70000000e+01])]\n",
            "generation  19 :\n",
            "\n",
            "particle params:  [0.0002910311041246405, 0.3093629351183352, 100.0, 34.0]\n"
          ]
        },
        {
          "data": {
            "application/vnd.jupyter.widget-view+json": {
              "model_id": "d77f2431054544188a7bca616fc4d1b8",
              "version_major": 2,
              "version_minor": 0
            },
            "text/plain": [
              "  0%|          | 0/93 [00:00<?, ?it/s]"
            ]
          },
          "metadata": {},
          "output_type": "display_data"
        },
        {
          "data": {
            "application/vnd.jupyter.widget-view+json": {
              "model_id": "6e71b105e01c4126b19165b69d2240f6",
              "version_major": 2,
              "version_minor": 0
            },
            "text/plain": [
              "  0%|          | 0/84 [00:00<?, ?it/s]"
            ]
          },
          "metadata": {},
          "output_type": "display_data"
        },
        {
          "data": {
            "application/vnd.jupyter.widget-view+json": {
              "model_id": "83aa7bc7e6904ff3921199761c1e1f49",
              "version_major": 2,
              "version_minor": 0
            },
            "text/plain": [
              "  0%|          | 0/93 [00:00<?, ?it/s]"
            ]
          },
          "metadata": {},
          "output_type": "display_data"
        },
        {
          "data": {
            "application/vnd.jupyter.widget-view+json": {
              "model_id": "257f8d10fc65412b902829558f5ffe1f",
              "version_major": 2,
              "version_minor": 0
            },
            "text/plain": [
              "  0%|          | 0/84 [00:00<?, ?it/s]"
            ]
          },
          "metadata": {},
          "output_type": "display_data"
        },
        {
          "data": {
            "application/vnd.jupyter.widget-view+json": {
              "model_id": "4ef15d87d85041aba2087d6215d3289c",
              "version_major": 2,
              "version_minor": 0
            },
            "text/plain": [
              "  0%|          | 0/93 [00:00<?, ?it/s]"
            ]
          },
          "metadata": {},
          "output_type": "display_data"
        },
        {
          "data": {
            "application/vnd.jupyter.widget-view+json": {
              "model_id": "895d8a5179c443fb91ade636fa939a35",
              "version_major": 2,
              "version_minor": 0
            },
            "text/plain": [
              "  0%|          | 0/84 [00:00<?, ?it/s]"
            ]
          },
          "metadata": {},
          "output_type": "display_data"
        },
        {
          "data": {
            "application/vnd.jupyter.widget-view+json": {
              "model_id": "db4158b07b3340669d988e41be762252",
              "version_major": 2,
              "version_minor": 0
            },
            "text/plain": [
              "  0%|          | 0/93 [00:00<?, ?it/s]"
            ]
          },
          "metadata": {},
          "output_type": "display_data"
        },
        {
          "data": {
            "application/vnd.jupyter.widget-view+json": {
              "model_id": "9a0f361a2d4840ba950efae5c8ec496d",
              "version_major": 2,
              "version_minor": 0
            },
            "text/plain": [
              "  0%|          | 0/84 [00:00<?, ?it/s]"
            ]
          },
          "metadata": {},
          "output_type": "display_data"
        },
        {
          "data": {
            "application/vnd.jupyter.widget-view+json": {
              "model_id": "e5e2018b20964bd9b41d0bfd03132770",
              "version_major": 2,
              "version_minor": 0
            },
            "text/plain": [
              "  0%|          | 0/93 [00:00<?, ?it/s]"
            ]
          },
          "metadata": {},
          "output_type": "display_data"
        },
        {
          "data": {
            "application/vnd.jupyter.widget-view+json": {
              "model_id": "45c76eeac4d7496bb81f9b428405e8f5",
              "version_major": 2,
              "version_minor": 0
            },
            "text/plain": [
              "  0%|          | 0/84 [00:00<?, ?it/s]"
            ]
          },
          "metadata": {},
          "output_type": "display_data"
        },
        {
          "name": "stdout",
          "output_type": "stream",
          "text": [
            "personal best  [array([4.20306856e-04, 3.51159359e-01, 1.09000000e+02, 4.10000000e+01]), array([5.50721832e-04, 3.57552005e-01, 1.09000000e+02, 3.40000000e+01]), array([5.50721832e-04, 3.57552005e-01, 1.09000000e+02, 3.40000000e+01]), array([5.50721832e-04, 3.57552005e-01, 1.09000000e+02, 3.40000000e+01]), array([2.36017888e-04, 1.98008123e-01, 1.01000000e+02, 3.20000000e+01]), array([1.48381613e-04, 1.69611473e-01, 1.00000000e+02, 3.30000000e+01]), array([1.11878604e-04, 1.62576061e-01, 1.00000000e+02, 3.50000000e+01]), array([1.11878604e-04, 1.62576061e-01, 1.00000000e+02, 3.50000000e+01]), array([1.11878604e-04, 1.62576061e-01, 1.00000000e+02, 3.50000000e+01]), array([1.11878604e-04, 1.62576061e-01, 1.00000000e+02, 3.50000000e+01]), array([1.11878604e-04, 1.62576061e-01, 1.00000000e+02, 3.50000000e+01]), array([1.11878604e-04, 1.62576061e-01, 1.00000000e+02, 3.50000000e+01]), array([1.11878604e-04, 1.62576061e-01, 1.00000000e+02, 3.50000000e+01]), array([1.11878604e-04, 1.62576061e-01, 1.00000000e+02, 3.50000000e+01]), array([1.11878604e-04, 1.62576061e-01, 1.00000000e+02, 3.50000000e+01]), array([1.11878604e-04, 1.62576061e-01, 1.00000000e+02, 3.50000000e+01]), array([1.11878604e-04, 1.62576061e-01, 1.00000000e+02, 3.50000000e+01]), array([1.11878604e-04, 1.62576061e-01, 1.00000000e+02, 3.50000000e+01]), array([1.11878604e-04, 1.62576061e-01, 1.00000000e+02, 3.50000000e+01]), array([1.11878604e-04, 1.62576061e-01, 1.00000000e+02, 3.50000000e+01])]\n",
            "global best  [array([4.20306856e-04, 3.51159359e-01, 1.09000000e+02, 4.10000000e+01]), array([5.50721832e-04, 3.57552005e-01, 1.09000000e+02, 3.40000000e+01]), array([5.50721832e-04, 3.57552005e-01, 1.09000000e+02, 3.40000000e+01]), array([5.50721832e-04, 3.57552005e-01, 1.09000000e+02, 3.40000000e+01]), array([2.36017888e-04, 1.98008123e-01, 1.01000000e+02, 3.20000000e+01]), array([1.48381613e-04, 1.69611473e-01, 1.00000000e+02, 3.30000000e+01]), array([1.11878604e-04, 1.62576061e-01, 1.00000000e+02, 3.50000000e+01]), array([1.11878604e-04, 1.62576061e-01, 1.00000000e+02, 3.50000000e+01]), array([1.11878604e-04, 1.62576061e-01, 1.00000000e+02, 3.50000000e+01]), array([1.11878604e-04, 1.62576061e-01, 1.00000000e+02, 3.50000000e+01]), array([1.11878604e-04, 1.62576061e-01, 1.00000000e+02, 3.50000000e+01]), array([1.11878604e-04, 1.62576061e-01, 1.00000000e+02, 3.50000000e+01]), array([1.11878604e-04, 1.62576061e-01, 1.00000000e+02, 3.50000000e+01]), array([1.11878604e-04, 1.62576061e-01, 1.00000000e+02, 3.50000000e+01]), array([1.11878604e-04, 1.62576061e-01, 1.00000000e+02, 3.50000000e+01]), array([1.11878604e-04, 1.62576061e-01, 1.00000000e+02, 3.50000000e+01]), array([1.11878604e-04, 1.62576061e-01, 1.00000000e+02, 3.50000000e+01]), array([1.11878604e-04, 1.62576061e-01, 1.00000000e+02, 3.50000000e+01]), array([1.11878604e-04, 1.62576061e-01, 1.00000000e+02, 3.50000000e+01]), array([1.11878604e-04, 1.62576061e-01, 1.00000000e+02, 3.50000000e+01])]\n",
            "particle params:  [0.0002529792599104891, 0.3723407889634733, 101.0, 34.0]\n"
          ]
        },
        {
          "data": {
            "application/vnd.jupyter.widget-view+json": {
              "model_id": "565d2f06a5e449d9b857bfbf2baccfbe",
              "version_major": 2,
              "version_minor": 0
            },
            "text/plain": [
              "  0%|          | 0/93 [00:00<?, ?it/s]"
            ]
          },
          "metadata": {},
          "output_type": "display_data"
        },
        {
          "data": {
            "application/vnd.jupyter.widget-view+json": {
              "model_id": "57513b23aa924e6b9b094345e7e18d3b",
              "version_major": 2,
              "version_minor": 0
            },
            "text/plain": [
              "  0%|          | 0/84 [00:00<?, ?it/s]"
            ]
          },
          "metadata": {},
          "output_type": "display_data"
        },
        {
          "data": {
            "application/vnd.jupyter.widget-view+json": {
              "model_id": "133040d3707a416f9d0b8caf9e2d4a15",
              "version_major": 2,
              "version_minor": 0
            },
            "text/plain": [
              "  0%|          | 0/93 [00:00<?, ?it/s]"
            ]
          },
          "metadata": {},
          "output_type": "display_data"
        },
        {
          "data": {
            "application/vnd.jupyter.widget-view+json": {
              "model_id": "cb6a4556ad1a4e51b3d5c9c0671f0f3a",
              "version_major": 2,
              "version_minor": 0
            },
            "text/plain": [
              "  0%|          | 0/84 [00:00<?, ?it/s]"
            ]
          },
          "metadata": {},
          "output_type": "display_data"
        },
        {
          "data": {
            "application/vnd.jupyter.widget-view+json": {
              "model_id": "6dde6057f4fb4204841f5e1f995b26b3",
              "version_major": 2,
              "version_minor": 0
            },
            "text/plain": [
              "  0%|          | 0/93 [00:00<?, ?it/s]"
            ]
          },
          "metadata": {},
          "output_type": "display_data"
        },
        {
          "data": {
            "application/vnd.jupyter.widget-view+json": {
              "model_id": "faab9ea4f6d34040b64b2253a5e14490",
              "version_major": 2,
              "version_minor": 0
            },
            "text/plain": [
              "  0%|          | 0/84 [00:00<?, ?it/s]"
            ]
          },
          "metadata": {},
          "output_type": "display_data"
        },
        {
          "data": {
            "application/vnd.jupyter.widget-view+json": {
              "model_id": "be29929890a64c978dcd4ef1adceff77",
              "version_major": 2,
              "version_minor": 0
            },
            "text/plain": [
              "  0%|          | 0/93 [00:00<?, ?it/s]"
            ]
          },
          "metadata": {},
          "output_type": "display_data"
        },
        {
          "data": {
            "application/vnd.jupyter.widget-view+json": {
              "model_id": "529e1e3f3def41e3bf06a0b041b4fcaf",
              "version_major": 2,
              "version_minor": 0
            },
            "text/plain": [
              "  0%|          | 0/84 [00:00<?, ?it/s]"
            ]
          },
          "metadata": {},
          "output_type": "display_data"
        },
        {
          "data": {
            "application/vnd.jupyter.widget-view+json": {
              "model_id": "4c9424c3d56b448da0b5a6395160e6b2",
              "version_major": 2,
              "version_minor": 0
            },
            "text/plain": [
              "  0%|          | 0/93 [00:00<?, ?it/s]"
            ]
          },
          "metadata": {},
          "output_type": "display_data"
        },
        {
          "data": {
            "application/vnd.jupyter.widget-view+json": {
              "model_id": "97638d463c7646af8d67223e05bd2329",
              "version_major": 2,
              "version_minor": 0
            },
            "text/plain": [
              "  0%|          | 0/84 [00:00<?, ?it/s]"
            ]
          },
          "metadata": {},
          "output_type": "display_data"
        },
        {
          "name": "stdout",
          "output_type": "stream",
          "text": [
            "personal best  [array([2.75496862e-04, 4.50449172e-01, 1.10000000e+02, 2.80000000e+01]), array([2.83657417e-04, 5.64738237e-01, 1.08000000e+02, 1.70000000e+01]), array([2.83657417e-04, 5.64738237e-01, 1.08000000e+02, 1.70000000e+01]), array([2.83657417e-04, 5.64738237e-01, 1.08000000e+02, 1.70000000e+01]), array([2.83657417e-04, 5.64738237e-01, 1.08000000e+02, 1.70000000e+01]), array([2.46755243e-04, 4.25774957e-01, 1.06000000e+02, 1.90000000e+01]), array([2.09809717e-04, 4.19396114e-01, 1.02000000e+02, 2.90000000e+01]), array([1.93689095e-04, 2.85859081e-01, 1.00000000e+02, 4.50000000e+01]), array([1.98481105e-04, 2.08616215e-01, 1.01000000e+02, 4.80000000e+01]), array([1.98481105e-04, 2.08616215e-01, 1.01000000e+02, 4.80000000e+01]), array([1.98481105e-04, 2.08616215e-01, 1.01000000e+02, 4.80000000e+01]), array([1.98481105e-04, 2.08616215e-01, 1.01000000e+02, 4.80000000e+01]), array([2.36682679e-04, 3.77994658e-01, 1.01000000e+02, 3.40000000e+01]), array([2.36682679e-04, 3.77994658e-01, 1.01000000e+02, 3.40000000e+01]), array([2.36682679e-04, 3.77994658e-01, 1.01000000e+02, 3.40000000e+01]), array([2.36682679e-04, 3.77994658e-01, 1.01000000e+02, 3.40000000e+01]), array([2.36682679e-04, 3.77994658e-01, 1.01000000e+02, 3.40000000e+01]), array([2.36682679e-04, 3.77994658e-01, 1.01000000e+02, 3.40000000e+01]), array([2.36682679e-04, 3.77994658e-01, 1.01000000e+02, 3.40000000e+01]), array([2.36682679e-04, 3.77994658e-01, 1.01000000e+02, 3.40000000e+01])]\n",
            "global best  [array([2.75496862e-04, 4.50449172e-01, 1.10000000e+02, 2.80000000e+01]), array([2.83657417e-04, 5.64738237e-01, 1.08000000e+02, 1.70000000e+01]), array([2.83657417e-04, 5.64738237e-01, 1.08000000e+02, 1.70000000e+01]), array([2.83657417e-04, 5.64738237e-01, 1.08000000e+02, 1.70000000e+01]), array([2.83657417e-04, 5.64738237e-01, 1.08000000e+02, 1.70000000e+01]), array([2.46755243e-04, 4.25774957e-01, 1.06000000e+02, 1.90000000e+01]), array([2.09809717e-04, 4.19396114e-01, 1.02000000e+02, 2.90000000e+01]), array([1.93689095e-04, 2.85859081e-01, 1.00000000e+02, 4.50000000e+01]), array([1.98481105e-04, 2.08616215e-01, 1.01000000e+02, 4.80000000e+01]), array([1.98481105e-04, 2.08616215e-01, 1.01000000e+02, 4.80000000e+01]), array([1.98481105e-04, 2.08616215e-01, 1.01000000e+02, 4.80000000e+01]), array([1.98481105e-04, 2.08616215e-01, 1.01000000e+02, 4.80000000e+01]), array([2.36682679e-04, 3.77994658e-01, 1.01000000e+02, 3.40000000e+01]), array([2.36682679e-04, 3.77994658e-01, 1.01000000e+02, 3.40000000e+01]), array([2.36682679e-04, 3.77994658e-01, 1.01000000e+02, 3.40000000e+01]), array([2.36682679e-04, 3.77994658e-01, 1.01000000e+02, 3.40000000e+01]), array([2.36682679e-04, 3.77994658e-01, 1.01000000e+02, 3.40000000e+01]), array([2.36682679e-04, 3.77994658e-01, 1.01000000e+02, 3.40000000e+01]), array([2.36682679e-04, 3.77994658e-01, 1.01000000e+02, 3.40000000e+01]), array([2.36682679e-04, 3.77994658e-01, 1.01000000e+02, 3.40000000e+01])]\n",
            "particle params:  [0.0002880728541744351, 0.20092698688502708, 106.0, 34.0]\n"
          ]
        },
        {
          "data": {
            "application/vnd.jupyter.widget-view+json": {
              "model_id": "b7518ec7c26a42519040268ee9b8cffb",
              "version_major": 2,
              "version_minor": 0
            },
            "text/plain": [
              "  0%|          | 0/93 [00:00<?, ?it/s]"
            ]
          },
          "metadata": {},
          "output_type": "display_data"
        },
        {
          "data": {
            "application/vnd.jupyter.widget-view+json": {
              "model_id": "37c195d267e243deac32eda04395bc8a",
              "version_major": 2,
              "version_minor": 0
            },
            "text/plain": [
              "  0%|          | 0/84 [00:00<?, ?it/s]"
            ]
          },
          "metadata": {},
          "output_type": "display_data"
        },
        {
          "data": {
            "application/vnd.jupyter.widget-view+json": {
              "model_id": "161a7e3c35e245a4b24b87e299724dc6",
              "version_major": 2,
              "version_minor": 0
            },
            "text/plain": [
              "  0%|          | 0/93 [00:00<?, ?it/s]"
            ]
          },
          "metadata": {},
          "output_type": "display_data"
        },
        {
          "data": {
            "application/vnd.jupyter.widget-view+json": {
              "model_id": "ed555a2b80184ae39379b14043769687",
              "version_major": 2,
              "version_minor": 0
            },
            "text/plain": [
              "  0%|          | 0/84 [00:00<?, ?it/s]"
            ]
          },
          "metadata": {},
          "output_type": "display_data"
        },
        {
          "data": {
            "application/vnd.jupyter.widget-view+json": {
              "model_id": "0561c9d9960b4dcbb48eb08354c44c9f",
              "version_major": 2,
              "version_minor": 0
            },
            "text/plain": [
              "  0%|          | 0/93 [00:00<?, ?it/s]"
            ]
          },
          "metadata": {},
          "output_type": "display_data"
        },
        {
          "data": {
            "application/vnd.jupyter.widget-view+json": {
              "model_id": "8fcf11d1354447768441cc49a4b16e41",
              "version_major": 2,
              "version_minor": 0
            },
            "text/plain": [
              "  0%|          | 0/84 [00:00<?, ?it/s]"
            ]
          },
          "metadata": {},
          "output_type": "display_data"
        },
        {
          "data": {
            "application/vnd.jupyter.widget-view+json": {
              "model_id": "a26410d02f194006ac040236bbf10dc6",
              "version_major": 2,
              "version_minor": 0
            },
            "text/plain": [
              "  0%|          | 0/93 [00:00<?, ?it/s]"
            ]
          },
          "metadata": {},
          "output_type": "display_data"
        },
        {
          "data": {
            "application/vnd.jupyter.widget-view+json": {
              "model_id": "36f8451312c548369baaf5bc72239794",
              "version_major": 2,
              "version_minor": 0
            },
            "text/plain": [
              "  0%|          | 0/84 [00:00<?, ?it/s]"
            ]
          },
          "metadata": {},
          "output_type": "display_data"
        },
        {
          "data": {
            "application/vnd.jupyter.widget-view+json": {
              "model_id": "fa4c041414d24649877576c72bb1cbd5",
              "version_major": 2,
              "version_minor": 0
            },
            "text/plain": [
              "  0%|          | 0/93 [00:00<?, ?it/s]"
            ]
          },
          "metadata": {},
          "output_type": "display_data"
        },
        {
          "data": {
            "application/vnd.jupyter.widget-view+json": {
              "model_id": "8792ca025eee4a99a06f793f7b77d517",
              "version_major": 2,
              "version_minor": 0
            },
            "text/plain": [
              "  0%|          | 0/84 [00:00<?, ?it/s]"
            ]
          },
          "metadata": {},
          "output_type": "display_data"
        },
        {
          "name": "stdout",
          "output_type": "stream",
          "text": [
            "personal best  [array([1.29044722e-04, 7.78489807e-01, 1.07000000e+02, 2.50000000e+01]), array([1.29044722e-04, 7.78489807e-01, 1.07000000e+02, 2.50000000e+01]), array([6.18717922e-05, 6.78094135e-01, 1.12000000e+02, 3.60000000e+01]), array([6.18717922e-05, 6.78094135e-01, 1.12000000e+02, 3.60000000e+01]), array([6.18717922e-05, 6.78094135e-01, 1.12000000e+02, 3.60000000e+01]), array([6.50400707e-05, 4.62069056e-01, 1.05000000e+02, 3.40000000e+01]), array([1.13920598e-04, 3.39113923e-01, 1.01000000e+02, 3.80000000e+01]), array([1.84343060e-04, 1.58540292e-01, 1.00000000e+02, 4.10000000e+01]), array([2.33857670e-04, 1.44673118e-01, 1.00000000e+02, 4.20000000e+01]), array([2.90705237e-04, 1.75078674e-01, 1.05000000e+02, 3.70000000e+01]), array([3.24801432e-04, 1.97589046e-01, 1.08000000e+02, 3.40000000e+01]), array([3.24801432e-04, 1.97589046e-01, 1.08000000e+02, 3.40000000e+01]), array([3.24801432e-04, 1.97589046e-01, 1.08000000e+02, 3.40000000e+01]), array([3.24801432e-04, 1.97589046e-01, 1.08000000e+02, 3.40000000e+01]), array([3.24801432e-04, 1.97589046e-01, 1.08000000e+02, 3.40000000e+01]), array([3.24801432e-04, 1.97589046e-01, 1.08000000e+02, 3.40000000e+01]), array([3.24801432e-04, 1.97589046e-01, 1.08000000e+02, 3.40000000e+01]), array([3.24801432e-04, 1.97589046e-01, 1.08000000e+02, 3.40000000e+01]), array([3.24801432e-04, 1.97589046e-01, 1.08000000e+02, 3.40000000e+01]), array([3.24801432e-04, 1.97589046e-01, 1.08000000e+02, 3.40000000e+01])]\n",
            "global best  [array([1.29044722e-04, 7.78489807e-01, 1.07000000e+02, 2.50000000e+01]), array([1.29044722e-04, 7.78489807e-01, 1.07000000e+02, 2.50000000e+01]), array([6.18717922e-05, 6.78094135e-01, 1.12000000e+02, 3.60000000e+01]), array([6.18717922e-05, 6.78094135e-01, 1.12000000e+02, 3.60000000e+01]), array([6.18717922e-05, 6.78094135e-01, 1.12000000e+02, 3.60000000e+01]), array([6.50400707e-05, 4.62069056e-01, 1.05000000e+02, 3.40000000e+01]), array([1.13920598e-04, 3.39113923e-01, 1.01000000e+02, 3.80000000e+01]), array([1.84343060e-04, 1.58540292e-01, 1.00000000e+02, 4.10000000e+01]), array([2.33857670e-04, 1.44673118e-01, 1.00000000e+02, 4.20000000e+01]), array([2.90705237e-04, 1.75078674e-01, 1.05000000e+02, 3.70000000e+01]), array([3.24801432e-04, 1.97589046e-01, 1.08000000e+02, 3.40000000e+01]), array([3.24801432e-04, 1.97589046e-01, 1.08000000e+02, 3.40000000e+01]), array([3.24801432e-04, 1.97589046e-01, 1.08000000e+02, 3.40000000e+01]), array([3.24801432e-04, 1.97589046e-01, 1.08000000e+02, 3.40000000e+01]), array([3.24801432e-04, 1.97589046e-01, 1.08000000e+02, 3.40000000e+01]), array([3.24801432e-04, 1.97589046e-01, 1.08000000e+02, 3.40000000e+01]), array([3.24801432e-04, 1.97589046e-01, 1.08000000e+02, 3.40000000e+01]), array([3.24801432e-04, 1.97589046e-01, 1.08000000e+02, 3.40000000e+01]), array([3.24801432e-04, 1.97589046e-01, 1.08000000e+02, 3.40000000e+01]), array([3.24801432e-04, 1.97589046e-01, 1.08000000e+02, 3.40000000e+01])]\n",
            "particle params:  [0.00026627277580849363, 0.20527187698556693, 103.0, 37.0]\n"
          ]
        },
        {
          "data": {
            "application/vnd.jupyter.widget-view+json": {
              "model_id": "59da6aaeff134bd48694d88779acdb3f",
              "version_major": 2,
              "version_minor": 0
            },
            "text/plain": [
              "  0%|          | 0/93 [00:00<?, ?it/s]"
            ]
          },
          "metadata": {},
          "output_type": "display_data"
        },
        {
          "data": {
            "application/vnd.jupyter.widget-view+json": {
              "model_id": "a254cfb742254497b604db4474858557",
              "version_major": 2,
              "version_minor": 0
            },
            "text/plain": [
              "  0%|          | 0/84 [00:00<?, ?it/s]"
            ]
          },
          "metadata": {},
          "output_type": "display_data"
        },
        {
          "data": {
            "application/vnd.jupyter.widget-view+json": {
              "model_id": "783d1395761c4055993e60af8e430e28",
              "version_major": 2,
              "version_minor": 0
            },
            "text/plain": [
              "  0%|          | 0/93 [00:00<?, ?it/s]"
            ]
          },
          "metadata": {},
          "output_type": "display_data"
        },
        {
          "data": {
            "application/vnd.jupyter.widget-view+json": {
              "model_id": "296b2b54564247828b8b53f7b92bf305",
              "version_major": 2,
              "version_minor": 0
            },
            "text/plain": [
              "  0%|          | 0/84 [00:00<?, ?it/s]"
            ]
          },
          "metadata": {},
          "output_type": "display_data"
        },
        {
          "data": {
            "application/vnd.jupyter.widget-view+json": {
              "model_id": "dd61d8ac61dc4b0e9698fcf7a820f24f",
              "version_major": 2,
              "version_minor": 0
            },
            "text/plain": [
              "  0%|          | 0/93 [00:00<?, ?it/s]"
            ]
          },
          "metadata": {},
          "output_type": "display_data"
        },
        {
          "data": {
            "application/vnd.jupyter.widget-view+json": {
              "model_id": "ca54ef9307654a77a717d34145a32487",
              "version_major": 2,
              "version_minor": 0
            },
            "text/plain": [
              "  0%|          | 0/84 [00:00<?, ?it/s]"
            ]
          },
          "metadata": {},
          "output_type": "display_data"
        },
        {
          "data": {
            "application/vnd.jupyter.widget-view+json": {
              "model_id": "96c971e9709145318dfda2338d33c74c",
              "version_major": 2,
              "version_minor": 0
            },
            "text/plain": [
              "  0%|          | 0/93 [00:00<?, ?it/s]"
            ]
          },
          "metadata": {},
          "output_type": "display_data"
        },
        {
          "data": {
            "application/vnd.jupyter.widget-view+json": {
              "model_id": "50d204f9e6f94d0194fcf823d0e1a518",
              "version_major": 2,
              "version_minor": 0
            },
            "text/plain": [
              "  0%|          | 0/84 [00:00<?, ?it/s]"
            ]
          },
          "metadata": {},
          "output_type": "display_data"
        },
        {
          "data": {
            "application/vnd.jupyter.widget-view+json": {
              "model_id": "dc8a65cabd5d4010ac8c02bd03f7febb",
              "version_major": 2,
              "version_minor": 0
            },
            "text/plain": [
              "  0%|          | 0/93 [00:00<?, ?it/s]"
            ]
          },
          "metadata": {},
          "output_type": "display_data"
        },
        {
          "data": {
            "application/vnd.jupyter.widget-view+json": {
              "model_id": "f3f0a7e47ddc4da2837cf4248471ffd5",
              "version_major": 2,
              "version_minor": 0
            },
            "text/plain": [
              "  0%|          | 0/84 [00:00<?, ?it/s]"
            ]
          },
          "metadata": {},
          "output_type": "display_data"
        },
        {
          "name": "stdout",
          "output_type": "stream",
          "text": [
            "personal best  [array([3.40137516e-04, 4.63241630e-01, 1.02000000e+02, 4.20000000e+01]), array([3.40137516e-04, 4.63241630e-01, 1.02000000e+02, 4.20000000e+01]), array([3.40137516e-04, 4.63241630e-01, 1.02000000e+02, 4.20000000e+01]), array([3.40137516e-04, 4.63241630e-01, 1.02000000e+02, 4.20000000e+01]), array([2.15016098e-04, 2.25545053e-01, 1.02000000e+02, 3.90000000e+01]), array([2.15016098e-04, 2.25545053e-01, 1.02000000e+02, 3.90000000e+01]), array([2.15016098e-04, 2.25545053e-01, 1.02000000e+02, 3.90000000e+01]), array([2.15016098e-04, 2.25545053e-01, 1.02000000e+02, 3.90000000e+01]), array([2.15016098e-04, 2.25545053e-01, 1.02000000e+02, 3.90000000e+01]), array([2.15016098e-04, 2.25545053e-01, 1.02000000e+02, 3.90000000e+01]), array([2.15016098e-04, 2.25545053e-01, 1.02000000e+02, 3.90000000e+01]), array([2.15016098e-04, 2.25545053e-01, 1.02000000e+02, 3.90000000e+01]), array([2.15016098e-04, 2.25545053e-01, 1.02000000e+02, 3.90000000e+01]), array([2.15016098e-04, 2.25545053e-01, 1.02000000e+02, 3.90000000e+01]), array([2.15016098e-04, 2.25545053e-01, 1.02000000e+02, 3.90000000e+01]), array([2.15016098e-04, 2.25545053e-01, 1.02000000e+02, 3.90000000e+01]), array([2.15016098e-04, 2.25545053e-01, 1.02000000e+02, 3.90000000e+01]), array([2.15016098e-04, 2.25545053e-01, 1.02000000e+02, 3.90000000e+01]), array([2.15016098e-04, 2.25545053e-01, 1.02000000e+02, 3.90000000e+01]), array([2.15016098e-04, 2.25545053e-01, 1.02000000e+02, 3.90000000e+01])]\n",
            "global best  [array([3.40137516e-04, 4.63241630e-01, 1.02000000e+02, 4.20000000e+01]), array([3.40137516e-04, 4.63241630e-01, 1.02000000e+02, 4.20000000e+01]), array([3.40137516e-04, 4.63241630e-01, 1.02000000e+02, 4.20000000e+01]), array([3.40137516e-04, 4.63241630e-01, 1.02000000e+02, 4.20000000e+01]), array([2.15016098e-04, 2.25545053e-01, 1.02000000e+02, 3.90000000e+01]), array([2.15016098e-04, 2.25545053e-01, 1.02000000e+02, 3.90000000e+01]), array([2.15016098e-04, 2.25545053e-01, 1.02000000e+02, 3.90000000e+01]), array([2.15016098e-04, 2.25545053e-01, 1.02000000e+02, 3.90000000e+01]), array([2.15016098e-04, 2.25545053e-01, 1.02000000e+02, 3.90000000e+01]), array([2.15016098e-04, 2.25545053e-01, 1.02000000e+02, 3.90000000e+01]), array([2.15016098e-04, 2.25545053e-01, 1.02000000e+02, 3.90000000e+01]), array([2.15016098e-04, 2.25545053e-01, 1.02000000e+02, 3.90000000e+01]), array([2.15016098e-04, 2.25545053e-01, 1.02000000e+02, 3.90000000e+01]), array([2.15016098e-04, 2.25545053e-01, 1.02000000e+02, 3.90000000e+01]), array([2.15016098e-04, 2.25545053e-01, 1.02000000e+02, 3.90000000e+01]), array([2.15016098e-04, 2.25545053e-01, 1.02000000e+02, 3.90000000e+01]), array([2.15016098e-04, 2.25545053e-01, 1.02000000e+02, 3.90000000e+01]), array([2.15016098e-04, 2.25545053e-01, 1.02000000e+02, 3.90000000e+01]), array([2.15016098e-04, 2.25545053e-01, 1.02000000e+02, 3.90000000e+01]), array([2.15016098e-04, 2.25545053e-01, 1.02000000e+02, 3.90000000e+01])]\n",
            "particle params:  [0.0002600852182362526, 0.353912684770182, 103.0, 34.0]\n"
          ]
        },
        {
          "data": {
            "application/vnd.jupyter.widget-view+json": {
              "model_id": "e746f9b242ec47dca37c3a5640e392f9",
              "version_major": 2,
              "version_minor": 0
            },
            "text/plain": [
              "  0%|          | 0/93 [00:00<?, ?it/s]"
            ]
          },
          "metadata": {},
          "output_type": "display_data"
        },
        {
          "data": {
            "application/vnd.jupyter.widget-view+json": {
              "model_id": "f0448474217c4b94be270e1788e4d245",
              "version_major": 2,
              "version_minor": 0
            },
            "text/plain": [
              "  0%|          | 0/84 [00:00<?, ?it/s]"
            ]
          },
          "metadata": {},
          "output_type": "display_data"
        },
        {
          "data": {
            "application/vnd.jupyter.widget-view+json": {
              "model_id": "85980b2f40224daab5abec488b3c1c3c",
              "version_major": 2,
              "version_minor": 0
            },
            "text/plain": [
              "  0%|          | 0/93 [00:00<?, ?it/s]"
            ]
          },
          "metadata": {},
          "output_type": "display_data"
        },
        {
          "data": {
            "application/vnd.jupyter.widget-view+json": {
              "model_id": "44e736f18553490688a83b5af1d3eda7",
              "version_major": 2,
              "version_minor": 0
            },
            "text/plain": [
              "  0%|          | 0/84 [00:00<?, ?it/s]"
            ]
          },
          "metadata": {},
          "output_type": "display_data"
        },
        {
          "data": {
            "application/vnd.jupyter.widget-view+json": {
              "model_id": "4be4d31688a14d36b1eaa65c714dd078",
              "version_major": 2,
              "version_minor": 0
            },
            "text/plain": [
              "  0%|          | 0/93 [00:00<?, ?it/s]"
            ]
          },
          "metadata": {},
          "output_type": "display_data"
        },
        {
          "data": {
            "application/vnd.jupyter.widget-view+json": {
              "model_id": "b80076dc7f204c80b95a9cb4306fcb4d",
              "version_major": 2,
              "version_minor": 0
            },
            "text/plain": [
              "  0%|          | 0/84 [00:00<?, ?it/s]"
            ]
          },
          "metadata": {},
          "output_type": "display_data"
        },
        {
          "data": {
            "application/vnd.jupyter.widget-view+json": {
              "model_id": "5bdb7c634d3a4a52b7ced23a2f6b6ea1",
              "version_major": 2,
              "version_minor": 0
            },
            "text/plain": [
              "  0%|          | 0/93 [00:00<?, ?it/s]"
            ]
          },
          "metadata": {},
          "output_type": "display_data"
        },
        {
          "data": {
            "application/vnd.jupyter.widget-view+json": {
              "model_id": "edd4455fc38a445582219ef1d06c96f3",
              "version_major": 2,
              "version_minor": 0
            },
            "text/plain": [
              "  0%|          | 0/84 [00:00<?, ?it/s]"
            ]
          },
          "metadata": {},
          "output_type": "display_data"
        },
        {
          "data": {
            "application/vnd.jupyter.widget-view+json": {
              "model_id": "845386e19ce04016a28ec7bb2370f7a4",
              "version_major": 2,
              "version_minor": 0
            },
            "text/plain": [
              "  0%|          | 0/93 [00:00<?, ?it/s]"
            ]
          },
          "metadata": {},
          "output_type": "display_data"
        },
        {
          "data": {
            "application/vnd.jupyter.widget-view+json": {
              "model_id": "dfa38bbed60447c2b1b7f24f239628d7",
              "version_major": 2,
              "version_minor": 0
            },
            "text/plain": [
              "  0%|          | 0/84 [00:00<?, ?it/s]"
            ]
          },
          "metadata": {},
          "output_type": "display_data"
        },
        {
          "name": "stdout",
          "output_type": "stream",
          "text": [
            "personal best  [array([7.49841801e-04, 6.74450274e-01, 1.00000000e+02, 2.00000000e+01]), array([7.08454869e-04, 4.35989451e-01, 1.05000000e+02, 2.30000000e+01]), array([2.75370458e-04, 3.19271604e-01, 1.06000000e+02, 4.00000000e+01]), array([2.75370458e-04, 3.19271604e-01, 1.06000000e+02, 4.00000000e+01]), array([2.75370458e-04, 3.19271604e-01, 1.06000000e+02, 4.00000000e+01]), array([2.75370458e-04, 3.19271604e-01, 1.06000000e+02, 4.00000000e+01]), array([3.07126403e-04, 2.83968040e-01, 1.04000000e+02, 4.20000000e+01]), array([3.07126403e-04, 2.83968040e-01, 1.04000000e+02, 4.20000000e+01]), array([3.07126403e-04, 2.83968040e-01, 1.04000000e+02, 4.20000000e+01]), array([3.07126403e-04, 2.83968040e-01, 1.04000000e+02, 4.20000000e+01]), array([3.07126403e-04, 2.83968040e-01, 1.04000000e+02, 4.20000000e+01]), array([2.48213593e-04, 2.97007662e-01, 1.05000000e+02, 4.00000000e+01]), array([2.32671752e-04, 3.49445648e-01, 1.03000000e+02, 3.40000000e+01]), array([2.32671752e-04, 3.49445648e-01, 1.03000000e+02, 3.40000000e+01]), array([2.32671752e-04, 3.49445648e-01, 1.03000000e+02, 3.40000000e+01]), array([2.32671752e-04, 3.49445648e-01, 1.03000000e+02, 3.40000000e+01]), array([2.32671752e-04, 3.49445648e-01, 1.03000000e+02, 3.40000000e+01]), array([2.32671752e-04, 3.49445648e-01, 1.03000000e+02, 3.40000000e+01]), array([2.32671752e-04, 3.49445648e-01, 1.03000000e+02, 3.40000000e+01]), array([2.32671752e-04, 3.49445648e-01, 1.03000000e+02, 3.40000000e+01])]\n",
            "global best  [array([7.49841801e-04, 6.74450274e-01, 1.00000000e+02, 2.00000000e+01]), array([7.08454869e-04, 4.35989451e-01, 1.05000000e+02, 2.30000000e+01]), array([2.75370458e-04, 3.19271604e-01, 1.06000000e+02, 4.00000000e+01]), array([2.75370458e-04, 3.19271604e-01, 1.06000000e+02, 4.00000000e+01]), array([2.75370458e-04, 3.19271604e-01, 1.06000000e+02, 4.00000000e+01]), array([2.75370458e-04, 3.19271604e-01, 1.06000000e+02, 4.00000000e+01]), array([3.07126403e-04, 2.83968040e-01, 1.04000000e+02, 4.20000000e+01]), array([3.07126403e-04, 2.83968040e-01, 1.04000000e+02, 4.20000000e+01]), array([3.07126403e-04, 2.83968040e-01, 1.04000000e+02, 4.20000000e+01]), array([3.07126403e-04, 2.83968040e-01, 1.04000000e+02, 4.20000000e+01]), array([3.07126403e-04, 2.83968040e-01, 1.04000000e+02, 4.20000000e+01]), array([2.48213593e-04, 2.97007662e-01, 1.05000000e+02, 4.00000000e+01]), array([2.32671752e-04, 3.49445648e-01, 1.03000000e+02, 3.40000000e+01]), array([2.32671752e-04, 3.49445648e-01, 1.03000000e+02, 3.40000000e+01]), array([2.32671752e-04, 3.49445648e-01, 1.03000000e+02, 3.40000000e+01]), array([2.32671752e-04, 3.49445648e-01, 1.03000000e+02, 3.40000000e+01]), array([2.32671752e-04, 3.49445648e-01, 1.03000000e+02, 3.40000000e+01]), array([2.32671752e-04, 3.49445648e-01, 1.03000000e+02, 3.40000000e+01]), array([2.32671752e-04, 3.49445648e-01, 1.03000000e+02, 3.40000000e+01]), array([2.32671752e-04, 3.49445648e-01, 1.03000000e+02, 3.40000000e+01])]\n",
            "particle params:  [0.0002542358657736179, 0.3030466953620905, 101.0, 26.0]\n"
          ]
        },
        {
          "data": {
            "application/vnd.jupyter.widget-view+json": {
              "model_id": "0cb35671a065410b9b25a3a6b7d7c35a",
              "version_major": 2,
              "version_minor": 0
            },
            "text/plain": [
              "  0%|          | 0/93 [00:00<?, ?it/s]"
            ]
          },
          "metadata": {},
          "output_type": "display_data"
        },
        {
          "data": {
            "application/vnd.jupyter.widget-view+json": {
              "model_id": "1495cae222b74e1d8649664e9a3dc1e1",
              "version_major": 2,
              "version_minor": 0
            },
            "text/plain": [
              "  0%|          | 0/84 [00:00<?, ?it/s]"
            ]
          },
          "metadata": {},
          "output_type": "display_data"
        },
        {
          "data": {
            "application/vnd.jupyter.widget-view+json": {
              "model_id": "a7f9241a77234707a7040bef9291de46",
              "version_major": 2,
              "version_minor": 0
            },
            "text/plain": [
              "  0%|          | 0/93 [00:00<?, ?it/s]"
            ]
          },
          "metadata": {},
          "output_type": "display_data"
        },
        {
          "data": {
            "application/vnd.jupyter.widget-view+json": {
              "model_id": "da37f80243944001a5e810dcbeffe250",
              "version_major": 2,
              "version_minor": 0
            },
            "text/plain": [
              "  0%|          | 0/84 [00:00<?, ?it/s]"
            ]
          },
          "metadata": {},
          "output_type": "display_data"
        },
        {
          "data": {
            "application/vnd.jupyter.widget-view+json": {
              "model_id": "9692272749524f9bbf862d82c0ada338",
              "version_major": 2,
              "version_minor": 0
            },
            "text/plain": [
              "  0%|          | 0/93 [00:00<?, ?it/s]"
            ]
          },
          "metadata": {},
          "output_type": "display_data"
        },
        {
          "data": {
            "application/vnd.jupyter.widget-view+json": {
              "model_id": "7a1730f4dc9b41548c1115db86a87522",
              "version_major": 2,
              "version_minor": 0
            },
            "text/plain": [
              "  0%|          | 0/84 [00:00<?, ?it/s]"
            ]
          },
          "metadata": {},
          "output_type": "display_data"
        },
        {
          "data": {
            "application/vnd.jupyter.widget-view+json": {
              "model_id": "f718bc6e22c64a75888de91bed25fa88",
              "version_major": 2,
              "version_minor": 0
            },
            "text/plain": [
              "  0%|          | 0/93 [00:00<?, ?it/s]"
            ]
          },
          "metadata": {},
          "output_type": "display_data"
        },
        {
          "data": {
            "application/vnd.jupyter.widget-view+json": {
              "model_id": "26aedede45e74791bfee5a0d21d8f454",
              "version_major": 2,
              "version_minor": 0
            },
            "text/plain": [
              "  0%|          | 0/84 [00:00<?, ?it/s]"
            ]
          },
          "metadata": {},
          "output_type": "display_data"
        },
        {
          "data": {
            "application/vnd.jupyter.widget-view+json": {
              "model_id": "1512afa04e324430b1c5494b3d806a56",
              "version_major": 2,
              "version_minor": 0
            },
            "text/plain": [
              "  0%|          | 0/93 [00:00<?, ?it/s]"
            ]
          },
          "metadata": {},
          "output_type": "display_data"
        },
        {
          "data": {
            "application/vnd.jupyter.widget-view+json": {
              "model_id": "cffea36c337a4929a4720cf61e166df7",
              "version_major": 2,
              "version_minor": 0
            },
            "text/plain": [
              "  0%|          | 0/84 [00:00<?, ?it/s]"
            ]
          },
          "metadata": {},
          "output_type": "display_data"
        },
        {
          "name": "stdout",
          "output_type": "stream",
          "text": [
            "personal best  [array([5.87129720e-04, 8.55067083e-01, 1.06000000e+02, 1.00000000e+01]), array([3.82507046e-04, 7.80062843e-01, 1.00000000e+02, 3.40000000e+01]), array([3.82507046e-04, 7.80062843e-01, 1.00000000e+02, 3.40000000e+01]), array([3.82507046e-04, 7.80062843e-01, 1.00000000e+02, 3.40000000e+01]), array([2.08328216e-04, 2.39779914e-01, 1.00000000e+02, 1.00000000e+01]), array([2.08328216e-04, 2.39779914e-01, 1.00000000e+02, 1.00000000e+01]), array([2.08328216e-04, 2.39779914e-01, 1.00000000e+02, 1.00000000e+01]), array([2.08328216e-04, 2.39779914e-01, 1.00000000e+02, 1.00000000e+01]), array([2.08328216e-04, 2.39779914e-01, 1.00000000e+02, 1.00000000e+01]), array([2.08328216e-04, 2.39779914e-01, 1.00000000e+02, 1.00000000e+01]), array([2.08328216e-04, 2.39779914e-01, 1.00000000e+02, 1.00000000e+01]), array([2.08328216e-04, 2.39779914e-01, 1.00000000e+02, 1.00000000e+01]), array([2.08328216e-04, 2.39779914e-01, 1.00000000e+02, 1.00000000e+01]), array([2.08328216e-04, 2.39779914e-01, 1.00000000e+02, 1.00000000e+01]), array([2.08328216e-04, 2.39779914e-01, 1.00000000e+02, 1.00000000e+01]), array([2.08328216e-04, 2.39779914e-01, 1.00000000e+02, 1.00000000e+01]), array([2.08328216e-04, 2.39779914e-01, 1.00000000e+02, 1.00000000e+01]), array([2.08328216e-04, 2.39779914e-01, 1.00000000e+02, 1.00000000e+01]), array([2.08328216e-04, 2.39779914e-01, 1.00000000e+02, 1.00000000e+01]), array([2.08328216e-04, 2.39779914e-01, 1.00000000e+02, 1.00000000e+01])]\n",
            "global best  [array([5.87129720e-04, 8.55067083e-01, 1.06000000e+02, 1.00000000e+01]), array([3.82507046e-04, 7.80062843e-01, 1.00000000e+02, 3.40000000e+01]), array([3.82507046e-04, 7.80062843e-01, 1.00000000e+02, 3.40000000e+01]), array([3.82507046e-04, 7.80062843e-01, 1.00000000e+02, 3.40000000e+01]), array([2.08328216e-04, 2.39779914e-01, 1.00000000e+02, 1.00000000e+01]), array([2.08328216e-04, 2.39779914e-01, 1.00000000e+02, 1.00000000e+01]), array([2.08328216e-04, 2.39779914e-01, 1.00000000e+02, 1.00000000e+01]), array([2.08328216e-04, 2.39779914e-01, 1.00000000e+02, 1.00000000e+01]), array([2.08328216e-04, 2.39779914e-01, 1.00000000e+02, 1.00000000e+01]), array([2.08328216e-04, 2.39779914e-01, 1.00000000e+02, 1.00000000e+01]), array([2.08328216e-04, 2.39779914e-01, 1.00000000e+02, 1.00000000e+01]), array([2.08328216e-04, 2.39779914e-01, 1.00000000e+02, 1.00000000e+01]), array([2.08328216e-04, 2.39779914e-01, 1.00000000e+02, 1.00000000e+01]), array([2.08328216e-04, 2.39779914e-01, 1.00000000e+02, 1.00000000e+01]), array([2.08328216e-04, 2.39779914e-01, 1.00000000e+02, 1.00000000e+01]), array([2.08328216e-04, 2.39779914e-01, 1.00000000e+02, 1.00000000e+01]), array([2.08328216e-04, 2.39779914e-01, 1.00000000e+02, 1.00000000e+01]), array([2.08328216e-04, 2.39779914e-01, 1.00000000e+02, 1.00000000e+01]), array([2.08328216e-04, 2.39779914e-01, 1.00000000e+02, 1.00000000e+01]), array([2.08328216e-04, 2.39779914e-01, 1.00000000e+02, 1.00000000e+01])]\n",
            "particle params:  [0.0002672266223078442, 0.3300071144523835, 103.0, 39.0]\n"
          ]
        },
        {
          "data": {
            "application/vnd.jupyter.widget-view+json": {
              "model_id": "99c2c07bebfc4e76a8af5f118877277d",
              "version_major": 2,
              "version_minor": 0
            },
            "text/plain": [
              "  0%|          | 0/93 [00:00<?, ?it/s]"
            ]
          },
          "metadata": {},
          "output_type": "display_data"
        },
        {
          "data": {
            "application/vnd.jupyter.widget-view+json": {
              "model_id": "33e9f8658a6b439c99d1602bc8e085c7",
              "version_major": 2,
              "version_minor": 0
            },
            "text/plain": [
              "  0%|          | 0/84 [00:00<?, ?it/s]"
            ]
          },
          "metadata": {},
          "output_type": "display_data"
        },
        {
          "data": {
            "application/vnd.jupyter.widget-view+json": {
              "model_id": "8b2d0c78010d4162b69862ddcb78dbe9",
              "version_major": 2,
              "version_minor": 0
            },
            "text/plain": [
              "  0%|          | 0/93 [00:00<?, ?it/s]"
            ]
          },
          "metadata": {},
          "output_type": "display_data"
        },
        {
          "data": {
            "application/vnd.jupyter.widget-view+json": {
              "model_id": "88b9777212f149be8e1342af3b60a818",
              "version_major": 2,
              "version_minor": 0
            },
            "text/plain": [
              "  0%|          | 0/84 [00:00<?, ?it/s]"
            ]
          },
          "metadata": {},
          "output_type": "display_data"
        },
        {
          "data": {
            "application/vnd.jupyter.widget-view+json": {
              "model_id": "4fdce2b5d1fe4da0b980c947b7de6dbd",
              "version_major": 2,
              "version_minor": 0
            },
            "text/plain": [
              "  0%|          | 0/93 [00:00<?, ?it/s]"
            ]
          },
          "metadata": {},
          "output_type": "display_data"
        },
        {
          "data": {
            "application/vnd.jupyter.widget-view+json": {
              "model_id": "c21c2ec5c32c40768cf1496ca9b86dd2",
              "version_major": 2,
              "version_minor": 0
            },
            "text/plain": [
              "  0%|          | 0/84 [00:00<?, ?it/s]"
            ]
          },
          "metadata": {},
          "output_type": "display_data"
        },
        {
          "data": {
            "application/vnd.jupyter.widget-view+json": {
              "model_id": "33b7335417864c1c86f121b145ac9560",
              "version_major": 2,
              "version_minor": 0
            },
            "text/plain": [
              "  0%|          | 0/93 [00:00<?, ?it/s]"
            ]
          },
          "metadata": {},
          "output_type": "display_data"
        },
        {
          "data": {
            "application/vnd.jupyter.widget-view+json": {
              "model_id": "584a32886c3d4932b36d297515b83aaa",
              "version_major": 2,
              "version_minor": 0
            },
            "text/plain": [
              "  0%|          | 0/84 [00:00<?, ?it/s]"
            ]
          },
          "metadata": {},
          "output_type": "display_data"
        },
        {
          "data": {
            "application/vnd.jupyter.widget-view+json": {
              "model_id": "9474afee4ba048839bc124b1d5523cb9",
              "version_major": 2,
              "version_minor": 0
            },
            "text/plain": [
              "  0%|          | 0/93 [00:00<?, ?it/s]"
            ]
          },
          "metadata": {},
          "output_type": "display_data"
        },
        {
          "data": {
            "application/vnd.jupyter.widget-view+json": {
              "model_id": "b76e3ffd974249a1ac8545ec8e046443",
              "version_major": 2,
              "version_minor": 0
            },
            "text/plain": [
              "  0%|          | 0/84 [00:00<?, ?it/s]"
            ]
          },
          "metadata": {},
          "output_type": "display_data"
        },
        {
          "name": "stdout",
          "output_type": "stream",
          "text": [
            "personal best  [array([7.05736117e-04, 1.47053148e-01, 1.06000000e+02, 3.50000000e+01]), array([3.86384573e-04, 2.86634639e-01, 1.03000000e+02, 3.70000000e+01]), array([2.17358482e-04, 4.35151260e-01, 1.01000000e+02, 4.10000000e+01]), array([2.17358482e-04, 4.35151260e-01, 1.01000000e+02, 4.10000000e+01]), array([2.17358482e-04, 4.35151260e-01, 1.01000000e+02, 4.10000000e+01]), array([2.70597153e-04, 2.32790810e-01, 1.01000000e+02, 3.80000000e+01]), array([2.51706785e-04, 2.16479510e-01, 1.01000000e+02, 4.20000000e+01]), array([2.51706785e-04, 2.16479510e-01, 1.01000000e+02, 4.20000000e+01]), array([2.51706785e-04, 2.16479510e-01, 1.01000000e+02, 4.20000000e+01]), array([2.51706785e-04, 2.16479510e-01, 1.01000000e+02, 4.20000000e+01]), array([2.51706785e-04, 2.16479510e-01, 1.01000000e+02, 4.20000000e+01]), array([2.51706785e-04, 2.16479510e-01, 1.01000000e+02, 4.20000000e+01]), array([2.44483289e-04, 2.89744756e-01, 1.00000000e+02, 4.00000000e+01]), array([2.44483289e-04, 2.89744756e-01, 1.00000000e+02, 4.00000000e+01]), array([2.44483289e-04, 2.89744756e-01, 1.00000000e+02, 4.00000000e+01]), array([2.44483289e-04, 2.89744756e-01, 1.00000000e+02, 4.00000000e+01]), array([2.44483289e-04, 2.89744756e-01, 1.00000000e+02, 4.00000000e+01]), array([2.44483289e-04, 2.89744756e-01, 1.00000000e+02, 4.00000000e+01]), array([2.44483289e-04, 2.89744756e-01, 1.00000000e+02, 4.00000000e+01]), array([2.44483289e-04, 2.89744756e-01, 1.00000000e+02, 4.00000000e+01])]\n",
            "global best  [array([7.05736117e-04, 1.47053148e-01, 1.06000000e+02, 3.50000000e+01]), array([3.86384573e-04, 2.86634639e-01, 1.03000000e+02, 3.70000000e+01]), array([2.17358482e-04, 4.35151260e-01, 1.01000000e+02, 4.10000000e+01]), array([2.17358482e-04, 4.35151260e-01, 1.01000000e+02, 4.10000000e+01]), array([2.17358482e-04, 4.35151260e-01, 1.01000000e+02, 4.10000000e+01]), array([2.70597153e-04, 2.32790810e-01, 1.01000000e+02, 3.80000000e+01]), array([2.51706785e-04, 2.16479510e-01, 1.01000000e+02, 4.20000000e+01]), array([2.51706785e-04, 2.16479510e-01, 1.01000000e+02, 4.20000000e+01]), array([2.51706785e-04, 2.16479510e-01, 1.01000000e+02, 4.20000000e+01]), array([2.51706785e-04, 2.16479510e-01, 1.01000000e+02, 4.20000000e+01]), array([2.51706785e-04, 2.16479510e-01, 1.01000000e+02, 4.20000000e+01]), array([2.51706785e-04, 2.16479510e-01, 1.01000000e+02, 4.20000000e+01]), array([2.44483289e-04, 2.89744756e-01, 1.00000000e+02, 4.00000000e+01]), array([2.44483289e-04, 2.89744756e-01, 1.00000000e+02, 4.00000000e+01]), array([2.44483289e-04, 2.89744756e-01, 1.00000000e+02, 4.00000000e+01]), array([2.44483289e-04, 2.89744756e-01, 1.00000000e+02, 4.00000000e+01]), array([2.44483289e-04, 2.89744756e-01, 1.00000000e+02, 4.00000000e+01]), array([2.44483289e-04, 2.89744756e-01, 1.00000000e+02, 4.00000000e+01]), array([2.44483289e-04, 2.89744756e-01, 1.00000000e+02, 4.00000000e+01]), array([2.44483289e-04, 2.89744756e-01, 1.00000000e+02, 4.00000000e+01])]\n",
            "particle params:  [0.00027500671985951423, 0.25150983522030823, 104.0, 35.0]\n"
          ]
        },
        {
          "data": {
            "application/vnd.jupyter.widget-view+json": {
              "model_id": "81a82799bd3242239d3fa7db9fb3837d",
              "version_major": 2,
              "version_minor": 0
            },
            "text/plain": [
              "  0%|          | 0/93 [00:00<?, ?it/s]"
            ]
          },
          "metadata": {},
          "output_type": "display_data"
        },
        {
          "data": {
            "application/vnd.jupyter.widget-view+json": {
              "model_id": "4f8a1014eb614a60b4a314b5bca1fb19",
              "version_major": 2,
              "version_minor": 0
            },
            "text/plain": [
              "  0%|          | 0/84 [00:00<?, ?it/s]"
            ]
          },
          "metadata": {},
          "output_type": "display_data"
        },
        {
          "data": {
            "application/vnd.jupyter.widget-view+json": {
              "model_id": "256be7dfccda4f359a55ed6d352b7ad7",
              "version_major": 2,
              "version_minor": 0
            },
            "text/plain": [
              "  0%|          | 0/93 [00:00<?, ?it/s]"
            ]
          },
          "metadata": {},
          "output_type": "display_data"
        },
        {
          "data": {
            "application/vnd.jupyter.widget-view+json": {
              "model_id": "5a31b12e86d9403681007e2493d39f34",
              "version_major": 2,
              "version_minor": 0
            },
            "text/plain": [
              "  0%|          | 0/84 [00:00<?, ?it/s]"
            ]
          },
          "metadata": {},
          "output_type": "display_data"
        },
        {
          "data": {
            "application/vnd.jupyter.widget-view+json": {
              "model_id": "5e46119ec3b04f138116164e91b61634",
              "version_major": 2,
              "version_minor": 0
            },
            "text/plain": [
              "  0%|          | 0/93 [00:00<?, ?it/s]"
            ]
          },
          "metadata": {},
          "output_type": "display_data"
        },
        {
          "data": {
            "application/vnd.jupyter.widget-view+json": {
              "model_id": "6b70103d8ac543a49106431c5b608954",
              "version_major": 2,
              "version_minor": 0
            },
            "text/plain": [
              "  0%|          | 0/84 [00:00<?, ?it/s]"
            ]
          },
          "metadata": {},
          "output_type": "display_data"
        },
        {
          "data": {
            "application/vnd.jupyter.widget-view+json": {
              "model_id": "186c2bdea72b49a588f219397231bce7",
              "version_major": 2,
              "version_minor": 0
            },
            "text/plain": [
              "  0%|          | 0/93 [00:00<?, ?it/s]"
            ]
          },
          "metadata": {},
          "output_type": "display_data"
        },
        {
          "data": {
            "application/vnd.jupyter.widget-view+json": {
              "model_id": "79ec4f1be4d34971be59ca1fb2b156df",
              "version_major": 2,
              "version_minor": 0
            },
            "text/plain": [
              "  0%|          | 0/84 [00:00<?, ?it/s]"
            ]
          },
          "metadata": {},
          "output_type": "display_data"
        },
        {
          "data": {
            "application/vnd.jupyter.widget-view+json": {
              "model_id": "464c426584bc4a5f97240d57dc1ece6a",
              "version_major": 2,
              "version_minor": 0
            },
            "text/plain": [
              "  0%|          | 0/93 [00:00<?, ?it/s]"
            ]
          },
          "metadata": {},
          "output_type": "display_data"
        },
        {
          "data": {
            "application/vnd.jupyter.widget-view+json": {
              "model_id": "d39cc3f2bbd7449b82c3d0ddafea8725",
              "version_major": 2,
              "version_minor": 0
            },
            "text/plain": [
              "  0%|          | 0/84 [00:00<?, ?it/s]"
            ]
          },
          "metadata": {},
          "output_type": "display_data"
        },
        {
          "name": "stdout",
          "output_type": "stream",
          "text": [
            "personal best  [array([2.44908245e-04, 6.01489829e-01, 1.16000000e+02, 3.20000000e+01]), array([2.36643464e-04, 2.12173567e-01, 1.00000000e+02, 3.30000000e+01]), array([2.36643464e-04, 2.12173567e-01, 1.00000000e+02, 3.30000000e+01]), array([2.36293883e-04, 2.09092478e-01, 1.00000000e+02, 3.30000000e+01]), array([2.36293883e-04, 2.09092478e-01, 1.00000000e+02, 3.30000000e+01]), array([2.36293883e-04, 2.09092478e-01, 1.00000000e+02, 3.30000000e+01]), array([2.36293883e-04, 2.09092478e-01, 1.00000000e+02, 3.30000000e+01]), array([2.33175877e-04, 1.97397447e-01, 1.01000000e+02, 3.80000000e+01]), array([2.33175877e-04, 1.97397447e-01, 1.01000000e+02, 3.80000000e+01]), array([2.81218958e-04, 1.97901006e-01, 1.04000000e+02, 3.60000000e+01]), array([2.81218958e-04, 1.97901006e-01, 1.04000000e+02, 3.60000000e+01]), array([2.81218958e-04, 1.97901006e-01, 1.04000000e+02, 3.60000000e+01]), array([2.81218958e-04, 1.97901006e-01, 1.04000000e+02, 3.60000000e+01]), array([2.81218958e-04, 1.97901006e-01, 1.04000000e+02, 3.60000000e+01]), array([2.81218958e-04, 1.97901006e-01, 1.04000000e+02, 3.60000000e+01]), array([2.81218958e-04, 1.97901006e-01, 1.04000000e+02, 3.60000000e+01]), array([2.81218958e-04, 1.97901006e-01, 1.04000000e+02, 3.60000000e+01]), array([2.81218958e-04, 1.97901006e-01, 1.04000000e+02, 3.60000000e+01]), array([2.81218958e-04, 1.97901006e-01, 1.04000000e+02, 3.60000000e+01]), array([2.81218958e-04, 1.97901006e-01, 1.04000000e+02, 3.60000000e+01])]\n",
            "global best  [array([2.44908245e-04, 6.01489829e-01, 1.16000000e+02, 3.20000000e+01]), array([2.36643464e-04, 2.12173567e-01, 1.00000000e+02, 3.30000000e+01]), array([2.36643464e-04, 2.12173567e-01, 1.00000000e+02, 3.30000000e+01]), array([2.36293883e-04, 2.09092478e-01, 1.00000000e+02, 3.30000000e+01]), array([2.36293883e-04, 2.09092478e-01, 1.00000000e+02, 3.30000000e+01]), array([2.36293883e-04, 2.09092478e-01, 1.00000000e+02, 3.30000000e+01]), array([2.36293883e-04, 2.09092478e-01, 1.00000000e+02, 3.30000000e+01]), array([2.33175877e-04, 1.97397447e-01, 1.01000000e+02, 3.80000000e+01]), array([2.33175877e-04, 1.97397447e-01, 1.01000000e+02, 3.80000000e+01]), array([2.81218958e-04, 1.97901006e-01, 1.04000000e+02, 3.60000000e+01]), array([2.81218958e-04, 1.97901006e-01, 1.04000000e+02, 3.60000000e+01]), array([2.81218958e-04, 1.97901006e-01, 1.04000000e+02, 3.60000000e+01]), array([2.81218958e-04, 1.97901006e-01, 1.04000000e+02, 3.60000000e+01]), array([2.81218958e-04, 1.97901006e-01, 1.04000000e+02, 3.60000000e+01]), array([2.81218958e-04, 1.97901006e-01, 1.04000000e+02, 3.60000000e+01]), array([2.81218958e-04, 1.97901006e-01, 1.04000000e+02, 3.60000000e+01]), array([2.81218958e-04, 1.97901006e-01, 1.04000000e+02, 3.60000000e+01]), array([2.81218958e-04, 1.97901006e-01, 1.04000000e+02, 3.60000000e+01]), array([2.81218958e-04, 1.97901006e-01, 1.04000000e+02, 3.60000000e+01]), array([2.81218958e-04, 1.97901006e-01, 1.04000000e+02, 3.60000000e+01])]\n",
            "particle params:  [0.0002738470363564075, 0.3749367023669517, 104.0, 33.0]\n"
          ]
        },
        {
          "data": {
            "application/vnd.jupyter.widget-view+json": {
              "model_id": "fb1eda43feee476da74c8247a3e854c9",
              "version_major": 2,
              "version_minor": 0
            },
            "text/plain": [
              "  0%|          | 0/93 [00:00<?, ?it/s]"
            ]
          },
          "metadata": {},
          "output_type": "display_data"
        },
        {
          "data": {
            "application/vnd.jupyter.widget-view+json": {
              "model_id": "6798e1a6f5004aa3a3f945965b4b22e6",
              "version_major": 2,
              "version_minor": 0
            },
            "text/plain": [
              "  0%|          | 0/84 [00:00<?, ?it/s]"
            ]
          },
          "metadata": {},
          "output_type": "display_data"
        },
        {
          "data": {
            "application/vnd.jupyter.widget-view+json": {
              "model_id": "08c8b6ad4bec444992b64f7f667cb073",
              "version_major": 2,
              "version_minor": 0
            },
            "text/plain": [
              "  0%|          | 0/93 [00:00<?, ?it/s]"
            ]
          },
          "metadata": {},
          "output_type": "display_data"
        },
        {
          "data": {
            "application/vnd.jupyter.widget-view+json": {
              "model_id": "200ab7a9cf9a400bac0b56d7c525ec1b",
              "version_major": 2,
              "version_minor": 0
            },
            "text/plain": [
              "  0%|          | 0/84 [00:00<?, ?it/s]"
            ]
          },
          "metadata": {},
          "output_type": "display_data"
        },
        {
          "data": {
            "application/vnd.jupyter.widget-view+json": {
              "model_id": "f3412d25cb814a81aa5a7cba53a57b8d",
              "version_major": 2,
              "version_minor": 0
            },
            "text/plain": [
              "  0%|          | 0/93 [00:00<?, ?it/s]"
            ]
          },
          "metadata": {},
          "output_type": "display_data"
        },
        {
          "data": {
            "application/vnd.jupyter.widget-view+json": {
              "model_id": "eb9e5b019dea4bebbb6446148fda2c2a",
              "version_major": 2,
              "version_minor": 0
            },
            "text/plain": [
              "  0%|          | 0/84 [00:00<?, ?it/s]"
            ]
          },
          "metadata": {},
          "output_type": "display_data"
        },
        {
          "data": {
            "application/vnd.jupyter.widget-view+json": {
              "model_id": "bfe865df6f4043c7bcf1ef4d66733a4e",
              "version_major": 2,
              "version_minor": 0
            },
            "text/plain": [
              "  0%|          | 0/93 [00:00<?, ?it/s]"
            ]
          },
          "metadata": {},
          "output_type": "display_data"
        },
        {
          "data": {
            "application/vnd.jupyter.widget-view+json": {
              "model_id": "8c998a4c059a4cd2952e4aff5f74ef82",
              "version_major": 2,
              "version_minor": 0
            },
            "text/plain": [
              "  0%|          | 0/84 [00:00<?, ?it/s]"
            ]
          },
          "metadata": {},
          "output_type": "display_data"
        },
        {
          "data": {
            "application/vnd.jupyter.widget-view+json": {
              "model_id": "f85ac0ac8f3c40ada35a3da1d1ad689f",
              "version_major": 2,
              "version_minor": 0
            },
            "text/plain": [
              "  0%|          | 0/93 [00:00<?, ?it/s]"
            ]
          },
          "metadata": {},
          "output_type": "display_data"
        },
        {
          "data": {
            "application/vnd.jupyter.widget-view+json": {
              "model_id": "06ef433df7d84b88985325bebfde8686",
              "version_major": 2,
              "version_minor": 0
            },
            "text/plain": [
              "  0%|          | 0/84 [00:00<?, ?it/s]"
            ]
          },
          "metadata": {},
          "output_type": "display_data"
        },
        {
          "name": "stdout",
          "output_type": "stream",
          "text": [
            "personal best  [array([7.63695015e-05, 5.11396445e-01, 1.09000000e+02, 1.70000000e+01]), array([2.99218928e-04, 6.14941474e-01, 1.03000000e+02, 2.80000000e+01]), array([2.99218928e-04, 6.14941474e-01, 1.03000000e+02, 2.80000000e+01]), array([2.99218928e-04, 6.14941474e-01, 1.03000000e+02, 2.80000000e+01]), array([2.99218928e-04, 6.14941474e-01, 1.03000000e+02, 2.80000000e+01]), array([2.99218928e-04, 6.14941474e-01, 1.03000000e+02, 2.80000000e+01]), array([2.99218928e-04, 6.14941474e-01, 1.03000000e+02, 2.80000000e+01]), array([2.99218928e-04, 6.14941474e-01, 1.03000000e+02, 2.80000000e+01]), array([2.99218928e-04, 6.14941474e-01, 1.03000000e+02, 2.80000000e+01]), array([2.73185298e-04, 3.68418563e-01, 1.04000000e+02, 3.30000000e+01]), array([2.73185298e-04, 3.68418563e-01, 1.04000000e+02, 3.30000000e+01]), array([2.73185298e-04, 3.68418563e-01, 1.04000000e+02, 3.30000000e+01]), array([2.73185298e-04, 3.68418563e-01, 1.04000000e+02, 3.30000000e+01]), array([2.73185298e-04, 3.68418563e-01, 1.04000000e+02, 3.30000000e+01]), array([2.73185298e-04, 3.68418563e-01, 1.04000000e+02, 3.30000000e+01]), array([2.73185298e-04, 3.68418563e-01, 1.04000000e+02, 3.30000000e+01]), array([2.73185298e-04, 3.68418563e-01, 1.04000000e+02, 3.30000000e+01]), array([2.73185298e-04, 3.68418563e-01, 1.04000000e+02, 3.30000000e+01]), array([2.73185298e-04, 3.68418563e-01, 1.04000000e+02, 3.30000000e+01]), array([2.73185298e-04, 3.68418563e-01, 1.04000000e+02, 3.30000000e+01])]\n",
            "global best  [array([7.63695015e-05, 5.11396445e-01, 1.09000000e+02, 1.70000000e+01]), array([2.99218928e-04, 6.14941474e-01, 1.03000000e+02, 2.80000000e+01]), array([2.99218928e-04, 6.14941474e-01, 1.03000000e+02, 2.80000000e+01]), array([2.99218928e-04, 6.14941474e-01, 1.03000000e+02, 2.80000000e+01]), array([2.99218928e-04, 6.14941474e-01, 1.03000000e+02, 2.80000000e+01]), array([2.99218928e-04, 6.14941474e-01, 1.03000000e+02, 2.80000000e+01]), array([2.99218928e-04, 6.14941474e-01, 1.03000000e+02, 2.80000000e+01]), array([2.99218928e-04, 6.14941474e-01, 1.03000000e+02, 2.80000000e+01]), array([2.99218928e-04, 6.14941474e-01, 1.03000000e+02, 2.80000000e+01]), array([2.73185298e-04, 3.68418563e-01, 1.04000000e+02, 3.30000000e+01]), array([2.73185298e-04, 3.68418563e-01, 1.04000000e+02, 3.30000000e+01]), array([2.73185298e-04, 3.68418563e-01, 1.04000000e+02, 3.30000000e+01]), array([2.73185298e-04, 3.68418563e-01, 1.04000000e+02, 3.30000000e+01]), array([2.73185298e-04, 3.68418563e-01, 1.04000000e+02, 3.30000000e+01]), array([2.73185298e-04, 3.68418563e-01, 1.04000000e+02, 3.30000000e+01]), array([2.73185298e-04, 3.68418563e-01, 1.04000000e+02, 3.30000000e+01]), array([2.73185298e-04, 3.68418563e-01, 1.04000000e+02, 3.30000000e+01]), array([2.73185298e-04, 3.68418563e-01, 1.04000000e+02, 3.30000000e+01]), array([2.73185298e-04, 3.68418563e-01, 1.04000000e+02, 3.30000000e+01]), array([2.73185298e-04, 3.68418563e-01, 1.04000000e+02, 3.30000000e+01])]\n",
            "particle params:  [0.00031107101721713695, 0.3624015362671683, 105.0, 35.0]\n"
          ]
        },
        {
          "data": {
            "application/vnd.jupyter.widget-view+json": {
              "model_id": "94ea72ee1d1f4840baa97cb1e3fca15b",
              "version_major": 2,
              "version_minor": 0
            },
            "text/plain": [
              "  0%|          | 0/93 [00:00<?, ?it/s]"
            ]
          },
          "metadata": {},
          "output_type": "display_data"
        },
        {
          "data": {
            "application/vnd.jupyter.widget-view+json": {
              "model_id": "7260c9155ef34ab09407dd2d6f569e35",
              "version_major": 2,
              "version_minor": 0
            },
            "text/plain": [
              "  0%|          | 0/84 [00:00<?, ?it/s]"
            ]
          },
          "metadata": {},
          "output_type": "display_data"
        },
        {
          "data": {
            "application/vnd.jupyter.widget-view+json": {
              "model_id": "a2a4a6389ceb48af9257e9dd4d681a0a",
              "version_major": 2,
              "version_minor": 0
            },
            "text/plain": [
              "  0%|          | 0/93 [00:00<?, ?it/s]"
            ]
          },
          "metadata": {},
          "output_type": "display_data"
        },
        {
          "data": {
            "application/vnd.jupyter.widget-view+json": {
              "model_id": "132ae74a0af146f9b60856ef06615693",
              "version_major": 2,
              "version_minor": 0
            },
            "text/plain": [
              "  0%|          | 0/84 [00:00<?, ?it/s]"
            ]
          },
          "metadata": {},
          "output_type": "display_data"
        },
        {
          "data": {
            "application/vnd.jupyter.widget-view+json": {
              "model_id": "e49f4ca39ea04bd8965587f57e253fbb",
              "version_major": 2,
              "version_minor": 0
            },
            "text/plain": [
              "  0%|          | 0/93 [00:00<?, ?it/s]"
            ]
          },
          "metadata": {},
          "output_type": "display_data"
        },
        {
          "data": {
            "application/vnd.jupyter.widget-view+json": {
              "model_id": "a9da82625aa148c0b46daba7374aea94",
              "version_major": 2,
              "version_minor": 0
            },
            "text/plain": [
              "  0%|          | 0/84 [00:00<?, ?it/s]"
            ]
          },
          "metadata": {},
          "output_type": "display_data"
        },
        {
          "data": {
            "application/vnd.jupyter.widget-view+json": {
              "model_id": "23434ef5eca54b95b6fd69225b37079b",
              "version_major": 2,
              "version_minor": 0
            },
            "text/plain": [
              "  0%|          | 0/93 [00:00<?, ?it/s]"
            ]
          },
          "metadata": {},
          "output_type": "display_data"
        },
        {
          "data": {
            "application/vnd.jupyter.widget-view+json": {
              "model_id": "83ef9576208b4ba8a9bef28f4b397527",
              "version_major": 2,
              "version_minor": 0
            },
            "text/plain": [
              "  0%|          | 0/84 [00:00<?, ?it/s]"
            ]
          },
          "metadata": {},
          "output_type": "display_data"
        },
        {
          "data": {
            "application/vnd.jupyter.widget-view+json": {
              "model_id": "c5483ae0df1845a0adf37c6c286793cd",
              "version_major": 2,
              "version_minor": 0
            },
            "text/plain": [
              "  0%|          | 0/93 [00:00<?, ?it/s]"
            ]
          },
          "metadata": {},
          "output_type": "display_data"
        },
        {
          "data": {
            "application/vnd.jupyter.widget-view+json": {
              "model_id": "cd4618a202b44c8e8237736d4697c527",
              "version_major": 2,
              "version_minor": 0
            },
            "text/plain": [
              "  0%|          | 0/84 [00:00<?, ?it/s]"
            ]
          },
          "metadata": {},
          "output_type": "display_data"
        },
        {
          "name": "stdout",
          "output_type": "stream",
          "text": [
            "personal best  [array([6.96088433e-04, 3.69036300e-01, 1.21000000e+02, 4.80000000e+01]), array([6.93445998e-04, 5.52352815e-01, 1.08000000e+02, 3.50000000e+01]), array([6.93445998e-04, 5.52352815e-01, 1.08000000e+02, 3.50000000e+01]), array([6.93445998e-04, 5.52352815e-01, 1.08000000e+02, 3.50000000e+01]), array([6.93445998e-04, 5.52352815e-01, 1.08000000e+02, 3.50000000e+01]), array([6.93445998e-04, 5.52352815e-01, 1.08000000e+02, 3.50000000e+01]), array([6.93445998e-04, 5.52352815e-01, 1.08000000e+02, 3.50000000e+01]), array([3.20876308e-04, 1.97684185e-01, 1.07000000e+02, 3.70000000e+01]), array([3.20876308e-04, 1.97684185e-01, 1.07000000e+02, 3.70000000e+01]), array([3.20876308e-04, 1.97684185e-01, 1.07000000e+02, 3.70000000e+01]), array([3.20876308e-04, 1.97684185e-01, 1.07000000e+02, 3.70000000e+01]), array([3.20876308e-04, 1.97684185e-01, 1.07000000e+02, 3.70000000e+01]), array([3.20876308e-04, 1.97684185e-01, 1.07000000e+02, 3.70000000e+01]), array([3.20876308e-04, 1.97684185e-01, 1.07000000e+02, 3.70000000e+01]), array([3.20876308e-04, 1.97684185e-01, 1.07000000e+02, 3.70000000e+01]), array([3.20876308e-04, 1.97684185e-01, 1.07000000e+02, 3.70000000e+01]), array([3.20876308e-04, 1.97684185e-01, 1.07000000e+02, 3.70000000e+01]), array([3.20876308e-04, 1.97684185e-01, 1.07000000e+02, 3.70000000e+01]), array([3.20876308e-04, 1.97684185e-01, 1.07000000e+02, 3.70000000e+01]), array([3.20876308e-04, 1.97684185e-01, 1.07000000e+02, 3.70000000e+01])]\n",
            "global best  [array([6.96088433e-04, 3.69036300e-01, 1.21000000e+02, 4.80000000e+01]), array([6.93445998e-04, 5.52352815e-01, 1.08000000e+02, 3.50000000e+01]), array([6.93445998e-04, 5.52352815e-01, 1.08000000e+02, 3.50000000e+01]), array([6.93445998e-04, 5.52352815e-01, 1.08000000e+02, 3.50000000e+01]), array([6.93445998e-04, 5.52352815e-01, 1.08000000e+02, 3.50000000e+01]), array([6.93445998e-04, 5.52352815e-01, 1.08000000e+02, 3.50000000e+01]), array([6.93445998e-04, 5.52352815e-01, 1.08000000e+02, 3.50000000e+01]), array([3.20876308e-04, 1.97684185e-01, 1.07000000e+02, 3.70000000e+01]), array([3.20876308e-04, 1.97684185e-01, 1.07000000e+02, 3.70000000e+01]), array([3.20876308e-04, 1.97684185e-01, 1.07000000e+02, 3.70000000e+01]), array([3.20876308e-04, 1.97684185e-01, 1.07000000e+02, 3.70000000e+01]), array([3.20876308e-04, 1.97684185e-01, 1.07000000e+02, 3.70000000e+01]), array([3.20876308e-04, 1.97684185e-01, 1.07000000e+02, 3.70000000e+01]), array([3.20876308e-04, 1.97684185e-01, 1.07000000e+02, 3.70000000e+01]), array([3.20876308e-04, 1.97684185e-01, 1.07000000e+02, 3.70000000e+01]), array([3.20876308e-04, 1.97684185e-01, 1.07000000e+02, 3.70000000e+01]), array([3.20876308e-04, 1.97684185e-01, 1.07000000e+02, 3.70000000e+01]), array([3.20876308e-04, 1.97684185e-01, 1.07000000e+02, 3.70000000e+01]), array([3.20876308e-04, 1.97684185e-01, 1.07000000e+02, 3.70000000e+01]), array([3.20876308e-04, 1.97684185e-01, 1.07000000e+02, 3.70000000e+01])]\n"
          ]
        }
      ],
      "source": [
        "pso.run(train_function, generations=20)"
      ]
    },
    {
      "cell_type": "code",
      "execution_count": 16,
      "metadata": {},
      "outputs": [
        {
          "data": {
            "text/plain": [
              "[array([3.40137516e-04, 4.63241630e-01, 1.02000000e+02, 4.20000000e+01]),\n",
              " array([2.36643464e-04, 2.12173567e-01, 1.00000000e+02, 3.30000000e+01]),\n",
              " array([2.36643464e-04, 2.12173567e-01, 1.00000000e+02, 3.30000000e+01]),\n",
              " array([2.36293883e-04, 2.09092478e-01, 1.00000000e+02, 3.30000000e+01]),\n",
              " array([2.15016098e-04, 2.25545053e-01, 1.02000000e+02, 3.90000000e+01]),\n",
              " array([2.15016098e-04, 2.25545053e-01, 1.02000000e+02, 3.90000000e+01]),\n",
              " array([2.15016098e-04, 2.25545053e-01, 1.02000000e+02, 3.90000000e+01]),\n",
              " array([3.20876308e-04, 1.97684185e-01, 1.07000000e+02, 3.70000000e+01]),\n",
              " array([3.20876308e-04, 1.97684185e-01, 1.07000000e+02, 3.70000000e+01]),\n",
              " array([2.73185298e-04, 3.68418563e-01, 1.04000000e+02, 3.30000000e+01]),\n",
              " array([2.73185298e-04, 3.68418563e-01, 1.04000000e+02, 3.30000000e+01]),\n",
              " array([2.73185298e-04, 3.68418563e-01, 1.04000000e+02, 3.30000000e+01]),\n",
              " array([2.73185298e-04, 3.68418563e-01, 1.04000000e+02, 3.30000000e+01]),\n",
              " array([2.73185298e-04, 3.68418563e-01, 1.04000000e+02, 3.30000000e+01]),\n",
              " array([2.73185298e-04, 3.68418563e-01, 1.04000000e+02, 3.30000000e+01]),\n",
              " array([2.73185298e-04, 3.68418563e-01, 1.04000000e+02, 3.30000000e+01]),\n",
              " array([2.73185298e-04, 3.68418563e-01, 1.04000000e+02, 3.30000000e+01]),\n",
              " array([2.73185298e-04, 3.68418563e-01, 1.04000000e+02, 3.30000000e+01]),\n",
              " array([2.73185298e-04, 3.68418563e-01, 1.04000000e+02, 3.30000000e+01]),\n",
              " array([2.73185298e-04, 3.68418563e-01, 1.04000000e+02, 3.30000000e+01])]"
            ]
          },
          "execution_count": 16,
          "metadata": {},
          "output_type": "execute_result"
        }
      ],
      "source": [
        "pso.gbest"
      ]
    },
    {
      "cell_type": "code",
      "execution_count": 55,
      "metadata": {},
      "outputs": [],
      "source": [
        "gbest = pd.DataFrame(pso.gbest, columns=['lr', 'dropout', 'im_size', 'num_frames'])\n",
        "pbest = [pd.DataFrame(p.pbest, columns=['lr', 'dropout', 'im_size', 'num_frames']) for p in pso.particles]\n",
        "pos = [pd.DataFrame(p.pos, columns=['lr', 'dropout', 'im_size', 'num_frames']) for p in pso.particles]\n",
        "p = [pd.concat([pbest[i], pos[i]], axis=1) for i in range(len(pbest))]\n",
        "\n"
      ]
    },
    {
      "cell_type": "code",
      "execution_count": 58,
      "metadata": {},
      "outputs": [
        {
          "data": {
            "text/html": [
              "<div>\n",
              "<style scoped>\n",
              "    .dataframe tbody tr th:only-of-type {\n",
              "        vertical-align: middle;\n",
              "    }\n",
              "\n",
              "    .dataframe tbody tr th {\n",
              "        vertical-align: top;\n",
              "    }\n",
              "\n",
              "    .dataframe thead th {\n",
              "        text-align: right;\n",
              "    }\n",
              "</style>\n",
              "<table border=\"1\" class=\"dataframe\">\n",
              "  <thead>\n",
              "    <tr style=\"text-align: right;\">\n",
              "      <th></th>\n",
              "      <th>lr</th>\n",
              "      <th>dropout</th>\n",
              "      <th>im_size</th>\n",
              "      <th>num_frames</th>\n",
              "      <th>lr</th>\n",
              "      <th>dropout</th>\n",
              "      <th>im_size</th>\n",
              "      <th>num_frames</th>\n",
              "    </tr>\n",
              "  </thead>\n",
              "  <tbody>\n",
              "    <tr>\n",
              "      <th>0</th>\n",
              "      <td>0.000420</td>\n",
              "      <td>0.351159</td>\n",
              "      <td>109.0</td>\n",
              "      <td>41.0</td>\n",
              "      <td>0.000420</td>\n",
              "      <td>0.351159</td>\n",
              "      <td>109.0</td>\n",
              "      <td>41.0</td>\n",
              "    </tr>\n",
              "    <tr>\n",
              "      <th>1</th>\n",
              "      <td>0.000551</td>\n",
              "      <td>0.357552</td>\n",
              "      <td>109.0</td>\n",
              "      <td>34.0</td>\n",
              "      <td>0.000551</td>\n",
              "      <td>0.357552</td>\n",
              "      <td>109.0</td>\n",
              "      <td>34.0</td>\n",
              "    </tr>\n",
              "    <tr>\n",
              "      <th>2</th>\n",
              "      <td>0.000551</td>\n",
              "      <td>0.357552</td>\n",
              "      <td>109.0</td>\n",
              "      <td>34.0</td>\n",
              "      <td>0.000490</td>\n",
              "      <td>0.432131</td>\n",
              "      <td>104.0</td>\n",
              "      <td>32.0</td>\n",
              "    </tr>\n",
              "    <tr>\n",
              "      <th>3</th>\n",
              "      <td>0.000551</td>\n",
              "      <td>0.357552</td>\n",
              "      <td>109.0</td>\n",
              "      <td>34.0</td>\n",
              "      <td>0.000411</td>\n",
              "      <td>0.280301</td>\n",
              "      <td>104.0</td>\n",
              "      <td>31.0</td>\n",
              "    </tr>\n",
              "    <tr>\n",
              "      <th>4</th>\n",
              "      <td>0.000236</td>\n",
              "      <td>0.198008</td>\n",
              "      <td>101.0</td>\n",
              "      <td>32.0</td>\n",
              "      <td>0.000236</td>\n",
              "      <td>0.198008</td>\n",
              "      <td>101.0</td>\n",
              "      <td>32.0</td>\n",
              "    </tr>\n",
              "  </tbody>\n",
              "</table>\n",
              "</div>"
            ],
            "text/plain": [
              "         lr   dropout  im_size  num_frames        lr   dropout  im_size  \\\n",
              "0  0.000420  0.351159    109.0        41.0  0.000420  0.351159    109.0   \n",
              "1  0.000551  0.357552    109.0        34.0  0.000551  0.357552    109.0   \n",
              "2  0.000551  0.357552    109.0        34.0  0.000490  0.432131    104.0   \n",
              "3  0.000551  0.357552    109.0        34.0  0.000411  0.280301    104.0   \n",
              "4  0.000236  0.198008    101.0        32.0  0.000236  0.198008    101.0   \n",
              "\n",
              "   num_frames  \n",
              "0        41.0  \n",
              "1        34.0  \n",
              "2        32.0  \n",
              "3        31.0  \n",
              "4        32.0  "
            ]
          },
          "execution_count": 58,
          "metadata": {},
          "output_type": "execute_result"
        }
      ],
      "source": [
        "pos = [p.rename for p in pos]"
      ]
    },
    {
      "cell_type": "code",
      "execution_count": 40,
      "metadata": {},
      "outputs": [
        {
          "data": {
            "image/png": "[encoded data removed]",
            "text/plain": [
              "<Figure size 432x288 with 1 Axes>"
            ]
          },
          "metadata": {
            "needs_background": "light"
          },
          "output_type": "display_data"
        }
      ],
      "source": [
        "import seaborn as sns\n",
        "plt.figure()\n",
        "sns.lineplot(data=gbest.loc[:,0])\n",
        "for i,p in enumerate(pbest):\n",
        "    p.position = pos[i].loc[:,0]\n",
        "#    sns.lineplot(data=p.loc[:,0], hue='position' )"
      ]
    },
    {
      "cell_type": "code",
      "execution_count": 46,
      "metadata": {},
      "outputs": [],
      "source": [
        "pbest[0].pos = pos[0].loc[:,0].to_list()"
      ]
    },
    {
      "cell_type": "code",
      "execution_count": 45,
      "metadata": {},
      "outputs": [
        {
          "data": {
            "text/plain": [
              "[0.0004203068563018119,\n",
              " 0.0005507218318151613,\n",
              " 0.0004898184566098946,\n",
              " 0.0004114276029832419,\n",
              " 0.0002360178883625092,\n",
              " 0.00014838161284474045,\n",
              " 0.00011187860360666057,\n",
              " 0.00012565756759230708,\n",
              " 0.00019374155149520921,\n",
              " 0.00025348027495232376,\n",
              " 0.0002083493879886098,\n",
              " 0.00021210446681879484,\n",
              " 0.0001752530859749189,\n",
              " 0.00016888815772101747,\n",
              " 0.00013647377894215196,\n",
              " 0.00012623907654747834,\n",
              " 0.00013551476190384862,\n",
              " 0.00011752480329727869,\n",
              " 0.00015942010106676744,\n",
              " 0.0002910311041246405,\n",
              " 0.00032713956120736926]"
            ]
          },
          "execution_count": 45,
          "metadata": {},
          "output_type": "execute_result"
        }
      ],
      "source": [
        "pos[0].loc[:,0].to_list()"
      ]
    },
    {
      "cell_type": "markdown",
      "metadata": {},
      "source": [
        "with open('Python.txt', 'rb') as f:\n",
        "    dict = pickle.load(f)"
      ]
    },
    {
      "cell_type": "code",
      "execution_count": 5,
      "metadata": {},
      "outputs": [],
      "source": [
        "import pickle\n",
        "os.chdir('../')"
      ]
    },
    {
      "cell_type": "code",
      "execution_count": 65,
      "metadata": {},
      "outputs": [],
      "source": [
        "\n",
        "file = open('pso_pureeffnet.pickle', 'wb')\n",
        "pickle.dump((gbest, pbest, pos), file)\n",
        "file.close()\n",
        " \n"
      ]
    },
    {
      "cell_type": "code",
      "execution_count": 6,
      "metadata": {},
      "outputs": [],
      "source": [
        "gbest, pbest, pos = pickle.load(open(\"pso_pureeffnet.pickle\",\"rb\"))"
      ]
    },
    {
      "cell_type": "code",
      "execution_count": 1,
      "metadata": {},
      "outputs": [
        {
          "ename": "NameError",
          "evalue": "name 'gbest' is not defined",
          "output_type": "error",
          "traceback": [
            "\u001b[1;31m---------------------------------------------------------------------------\u001b[0m",
            "\u001b[1;31mNameError\u001b[0m                                 Traceback (most recent call last)",
            "\u001b[1;32mh:\\project\\notebook\\automatic_hyperparameter_tuning_PSO.ipynb Célula: 30\u001b[0m in \u001b[0;36m<cell line: 1>\u001b[1;34m()\u001b[0m\n\u001b[1;32m----> <a href='vscode-notebook-cell:/h%3A/project/notebook/automatic_hyperparameter_tuning_PSO.ipynb#X41sZmlsZQ%3D%3D?line=0'>1</a>\u001b[0m gbest\n",
            "\u001b[1;31mNameError\u001b[0m: name 'gbest' is not defined"
          ]
        }
      ],
      "source": [
        "gbest"
      ]
    }
  ],
  "metadata": {
    "accelerator": "GPU",
    "colab": {
      "collapsed_sections": [],
      "provenance": []
    },
    "kernelspec": {
      "display_name": "Python 3 (ipykernel)",
      "language": "python",
      "name": "python3"
    },
    "language_info": {
      "codemirror_mode": {
        "name": "ipython",
        "version": 3
      },
      "file_extension": ".py",
      "mimetype": "text/x-python",
      "name": "python",
      "nbconvert_exporter": "python",
      "pygments_lexer": "ipython3",
      "version": "3.10.8"
    },
    "vscode": {
      "interpreter": {
        "hash": "26959970ceefb5b5f99a01c3d76905e488a61c44c86b026fbb9613fa4784b10c"
      }
    },
    "widgets": {
      "application/vnd.jupyter.widget-state+json": {
        "2a2c729a627040eb8bbee0dadd6f009c": {
          "model_module": "@jupyter-widgets/controls",
          "model_module_version": "1.5.0",
          "model_name": "ProgressStyleModel",
          "state": {
            "_model_module": "@jupyter-widgets/controls",
            "_model_module_version": "1.5.0",
            "_model_name": "ProgressStyleModel",
            "_view_count": null,
            "_view_module": "@jupyter-widgets/base",
            "_view_module_version": "1.2.0",
            "_view_name": "StyleView",
            "bar_color": null,
            "description_width": ""
          }
        },
        "48b28a9d41e94c06b2a2bfee84680179": {
          "model_module": "@jupyter-widgets/controls",
          "model_module_version": "1.5.0",
          "model_name": "FloatProgressModel",
          "state": {
            "_dom_classes": [],
            "_model_module": "@jupyter-widgets/controls",
            "_model_module_version": "1.5.0",
            "_model_name": "FloatProgressModel",
            "_view_count": null,
            "_view_module": "@jupyter-widgets/controls",
            "_view_module_version": "1.5.0",
            "_view_name": "ProgressView",
            "bar_style": "success",
            "description": "",
            "description_tooltip": null,
            "layout": "IPY_MODEL_55ac171d66ee40dc850876367d712433",
            "max": 100441675,
            "min": 0,
            "orientation": "horizontal",
            "style": "IPY_MODEL_2a2c729a627040eb8bbee0dadd6f009c",
            "value": 100441675
          }
        },
        "4f5bb62b782e416a89e803b896e9b50c": {
          "model_module": "@jupyter-widgets/controls",
          "model_module_version": "1.5.0",
          "model_name": "DescriptionStyleModel",
          "state": {
            "_model_module": "@jupyter-widgets/controls",
            "_model_module_version": "1.5.0",
            "_model_name": "DescriptionStyleModel",
            "_view_count": null,
            "_view_module": "@jupyter-widgets/base",
            "_view_module_version": "1.2.0",
            "_view_name": "StyleView",
            "description_width": ""
          }
        },
        "548a28616c9b4e87b13bf3ba90e98854": {
          "model_module": "@jupyter-widgets/base",
          "model_module_version": "1.2.0",
          "model_name": "LayoutModel",
          "state": {
            "_model_module": "@jupyter-widgets/base",
            "_model_module_version": "1.2.0",
            "_model_name": "LayoutModel",
            "_view_count": null,
            "_view_module": "@jupyter-widgets/base",
            "_view_module_version": "1.2.0",
            "_view_name": "LayoutView",
            "align_content": null,
            "align_items": null,
            "align_self": null,
            "border": null,
            "bottom": null,
            "display": null,
            "flex": null,
            "flex_flow": null,
            "grid_area": null,
            "grid_auto_columns": null,
            "grid_auto_flow": null,
            "grid_auto_rows": null,
            "grid_column": null,
            "grid_gap": null,
            "grid_row": null,
            "grid_template_areas": null,
            "grid_template_columns": null,
            "grid_template_rows": null,
            "height": null,
            "justify_content": null,
            "justify_items": null,
            "left": null,
            "margin": null,
            "max_height": null,
            "max_width": null,
            "min_height": null,
            "min_width": null,
            "object_fit": null,
            "object_position": null,
            "order": null,
            "overflow": null,
            "overflow_x": null,
            "overflow_y": null,
            "padding": null,
            "right": null,
            "top": null,
            "visibility": null,
            "width": null
          }
        },
        "55ac171d66ee40dc850876367d712433": {
          "model_module": "@jupyter-widgets/base",
          "model_module_version": "1.2.0",
          "model_name": "LayoutModel",
          "state": {
            "_model_module": "@jupyter-widgets/base",
            "_model_module_version": "1.2.0",
            "_model_name": "LayoutModel",
            "_view_count": null,
            "_view_module": "@jupyter-widgets/base",
            "_view_module_version": "1.2.0",
            "_view_name": "LayoutView",
            "align_content": null,
            "align_items": null,
            "align_self": null,
            "border": null,
            "bottom": null,
            "display": null,
            "flex": null,
            "flex_flow": null,
            "grid_area": null,
            "grid_auto_columns": null,
            "grid_auto_flow": null,
            "grid_auto_rows": null,
            "grid_column": null,
            "grid_gap": null,
            "grid_row": null,
            "grid_template_areas": null,
            "grid_template_columns": null,
            "grid_template_rows": null,
            "height": null,
            "justify_content": null,
            "justify_items": null,
            "left": null,
            "margin": null,
            "max_height": null,
            "max_width": null,
            "min_height": null,
            "min_width": null,
            "object_fit": null,
            "object_position": null,
            "order": null,
            "overflow": null,
            "overflow_x": null,
            "overflow_y": null,
            "padding": null,
            "right": null,
            "top": null,
            "visibility": null,
            "width": null
          }
        },
        "6878c18d29844de0b95b008b98a9d6ba": {
          "model_module": "@jupyter-widgets/controls",
          "model_module_version": "1.5.0",
          "model_name": "HTMLModel",
          "state": {
            "_dom_classes": [],
            "_model_module": "@jupyter-widgets/controls",
            "_model_module_version": "1.5.0",
            "_model_name": "HTMLModel",
            "_view_count": null,
            "_view_module": "@jupyter-widgets/controls",
            "_view_module_version": "1.5.0",
            "_view_name": "HTMLView",
            "description": "",
            "description_tooltip": null,
            "layout": "IPY_MODEL_eeebe7bc19184527825ef87bdfec5b0e",
            "placeholder": "​",
            "style": "IPY_MODEL_85fc306ca1cf44e8ac98271ef15e01b4",
            "value": " 95.8M/95.8M [00:03&lt;00:00, 74.3MB/s]"
          }
        },
        "85fc306ca1cf44e8ac98271ef15e01b4": {
          "model_module": "@jupyter-widgets/controls",
          "model_module_version": "1.5.0",
          "model_name": "DescriptionStyleModel",
          "state": {
            "_model_module": "@jupyter-widgets/controls",
            "_model_module_version": "1.5.0",
            "_model_name": "DescriptionStyleModel",
            "_view_count": null,
            "_view_module": "@jupyter-widgets/base",
            "_view_module_version": "1.2.0",
            "_view_name": "StyleView",
            "description_width": ""
          }
        },
        "948e842185c34823bd87292d082a5bbb": {
          "model_module": "@jupyter-widgets/base",
          "model_module_version": "1.2.0",
          "model_name": "LayoutModel",
          "state": {
            "_model_module": "@jupyter-widgets/base",
            "_model_module_version": "1.2.0",
            "_model_name": "LayoutModel",
            "_view_count": null,
            "_view_module": "@jupyter-widgets/base",
            "_view_module_version": "1.2.0",
            "_view_name": "LayoutView",
            "align_content": null,
            "align_items": null,
            "align_self": null,
            "border": null,
            "bottom": null,
            "display": null,
            "flex": null,
            "flex_flow": null,
            "grid_area": null,
            "grid_auto_columns": null,
            "grid_auto_flow": null,
            "grid_auto_rows": null,
            "grid_column": null,
            "grid_gap": null,
            "grid_row": null,
            "grid_template_areas": null,
            "grid_template_columns": null,
            "grid_template_rows": null,
            "height": null,
            "justify_content": null,
            "justify_items": null,
            "left": null,
            "margin": null,
            "max_height": null,
            "max_width": null,
            "min_height": null,
            "min_width": null,
            "object_fit": null,
            "object_position": null,
            "order": null,
            "overflow": null,
            "overflow_x": null,
            "overflow_y": null,
            "padding": null,
            "right": null,
            "top": null,
            "visibility": null,
            "width": null
          }
        },
        "b03380f807d64d4cb634c795e7997026": {
          "model_module": "@jupyter-widgets/controls",
          "model_module_version": "1.5.0",
          "model_name": "HTMLModel",
          "state": {
            "_dom_classes": [],
            "_model_module": "@jupyter-widgets/controls",
            "_model_module_version": "1.5.0",
            "_model_name": "HTMLModel",
            "_view_count": null,
            "_view_module": "@jupyter-widgets/controls",
            "_view_module_version": "1.5.0",
            "_view_name": "HTMLView",
            "description": "",
            "description_tooltip": null,
            "layout": "IPY_MODEL_948e842185c34823bd87292d082a5bbb",
            "placeholder": "​",
            "style": "IPY_MODEL_4f5bb62b782e416a89e803b896e9b50c",
            "value": "100%"
          }
        },
        "eeebe7bc19184527825ef87bdfec5b0e": {
          "model_module": "@jupyter-widgets/base",
          "model_module_version": "1.2.0",
          "model_name": "LayoutModel",
          "state": {
            "_model_module": "@jupyter-widgets/base",
            "_model_module_version": "1.2.0",
            "_model_name": "LayoutModel",
            "_view_count": null,
            "_view_module": "@jupyter-widgets/base",
            "_view_module_version": "1.2.0",
            "_view_name": "LayoutView",
            "align_content": null,
            "align_items": null,
            "align_self": null,
            "border": null,
            "bottom": null,
            "display": null,
            "flex": null,
            "flex_flow": null,
            "grid_area": null,
            "grid_auto_columns": null,
            "grid_auto_flow": null,
            "grid_auto_rows": null,
            "grid_column": null,
            "grid_gap": null,
            "grid_row": null,
            "grid_template_areas": null,
            "grid_template_columns": null,
            "grid_template_rows": null,
            "height": null,
            "justify_content": null,
            "justify_items": null,
            "left": null,
            "margin": null,
            "max_height": null,
            "max_width": null,
            "min_height": null,
            "min_width": null,
            "object_fit": null,
            "object_position": null,
            "order": null,
            "overflow": null,
            "overflow_x": null,
            "overflow_y": null,
            "padding": null,
            "right": null,
            "top": null,
            "visibility": null,
            "width": null
          }
        },
        "f700981ba61d4915929a6ebf4075b9c3": {
          "model_module": "@jupyter-widgets/controls",
          "model_module_version": "1.5.0",
          "model_name": "HBoxModel",
          "state": {
            "_dom_classes": [],
            "_model_module": "@jupyter-widgets/controls",
            "_model_module_version": "1.5.0",
            "_model_name": "HBoxModel",
            "_view_count": null,
            "_view_module": "@jupyter-widgets/controls",
            "_view_module_version": "1.5.0",
            "_view_name": "HBoxView",
            "box_style": "",
            "children": [
              "IPY_MODEL_b03380f807d64d4cb634c795e7997026",
              "IPY_MODEL_48b28a9d41e94c06b2a2bfee84680179",
              "IPY_MODEL_6878c18d29844de0b95b008b98a9d6ba"
            ],
            "layout": "IPY_MODEL_548a28616c9b4e87b13bf3ba90e98854"
          }
        }
      }
    }
  },
  "nbformat": 4,
  "nbformat_minor": 0
}
