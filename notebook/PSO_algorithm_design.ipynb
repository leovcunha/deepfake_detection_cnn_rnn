{
 "cells": [
  {
   "attachments": {},
   "cell_type": "markdown",
   "metadata": {},
   "source": [
    "## PSO Algorithm Design"
   ]
  },
  {
   "attachments": {},
   "cell_type": "markdown",
   "metadata": {},
   "source": [
    "This notebook was used to design PSO algorithm and test it with dummy values"
   ]
  },
  {
   "cell_type": "code",
   "execution_count": 3,
   "metadata": {},
   "outputs": [],
   "source": [
    "import math\n",
    "import numpy as np"
   ]
  },
  {
   "cell_type": "code",
   "execution_count": 9,
   "metadata": {},
   "outputs": [],
   "source": [
    "\n",
    "class Particle(object):\n",
    "    '''\n",
    "    Particle class  \n",
    "    \n",
    "    Parameters:\n",
    "    lb: lower bound - list with size of hyperparameter numbers each element contain a lower limit\n",
    "    ub: upper \\bound - list with size of hyperparameter numbers each element contain a upper limit\n",
    "    types: list of types of each hyperparameter (if int or float)\n",
    "    '''\n",
    "    def __init__(self, lb, ub, types) -> None:\n",
    "        \n",
    "        assert len(lb) == len(ub),'different ranges for lb and ub'\n",
    "        assert len(lb) == len(types), 'types and bounds have diff range'\n",
    "        self.lb = np.array(lb)\n",
    "        self.ub = np.array(ub)\n",
    "        self.types = types\n",
    "        self.inttypes = [] #which hyperparam indexes are integer?\n",
    "        self.V = []      \n",
    "        self.pos = []\n",
    "        self.fitness_values = []\n",
    "        \n",
    "        #initialize first position\n",
    "        pos_1 = []\n",
    "        v_1 = []\n",
    "        for i in range(len(self.lb)):\n",
    "            assert self.lb[i] <= self.ub[i]\n",
    "            \n",
    "            if self.lb[i] == self.ub[i]:\n",
    "                pos_1.append(self.lb[i])\n",
    "                v_1.append(0)    \n",
    "                continue\n",
    "            rng = self.ub[i] - self.lb[i]\n",
    "            #position initialized randomly with uniform distr.\n",
    "            rand_pos = np.random.uniform(self.lb[i], self.ub[i])\n",
    "            \n",
    "            #velocity initialized with normal distribution and range of ub-lb as 3 standard deviations\n",
    "            rand_v = np.random.normal(0, rng/3)\n",
    "            if types[i] == int:\n",
    "                rand_pos = int(rand_pos)\n",
    "                rand_v = int(rand_v)\n",
    "                self.inttypes.append(i)\n",
    "            pos_1.append(rand_pos)\n",
    "            v_1.append(rand_v)\n",
    "                \n",
    "\n",
    "        self.pos.append(np.array(pos_1))\n",
    "        self.V.append(np.array(v_1))      \n",
    "        self.pbest = []\n",
    "        self.pbest_score = []\n",
    "\n",
    "    def update_pbest(self, fitness_val):\n",
    "        '''\n",
    "        Compares fitness value with current pbest_Score if smaller updates pbest\n",
    "        \n",
    "        Parameters:\n",
    "        fitness_val: loss score from the model training\n",
    "        '''        \n",
    "        self.fitness_values.append(fitness_val)\n",
    "        \n",
    "        if not self.pbest_score or fitness_val < self.pbest_score[-1]:\n",
    "            self.pbest_score.append(fitness_val)\n",
    "            self.pbest.append(self.pos[-1])\n",
    "        else: \n",
    "            self.pbest_score.append(self.pbest_score[-1])\n",
    "            self.pbest.append(self.pbest[-1])\n",
    "        \n",
    "    def update_V(self, w, c1, c2, gbest):\n",
    "        '''\n",
    "        Update velocity according with classic PSO algorithm\n",
    "                \n",
    "        Parameters:\n",
    "        w: inercia\n",
    "        c1: acceleration for cognitive component\n",
    "        c2: acceleration for social component\n",
    "        gbest: global best position\n",
    "        '''  \n",
    "        r1 = np.random.uniform(size=np.array(self.pos[-1]).shape)\n",
    "        r2 = np.random.uniform(size=np.array(self.pos[-1]).shape)\n",
    "        print(r2) \n",
    "        print(r1)\n",
    "        print(self.pbest[-1] - self.pos[-1])\n",
    "        print(gbest - self.pos[-1])\n",
    "        self.V.append(w*self.V[-1] + c1*r1*(self.pbest[-1] - self.pos[-1]) \n",
    "        + c2*r2*(gbest - self.pos[-1]))\n",
    "        \n",
    "    def update_pos(self):\n",
    "        '''\n",
    "        Updates position according with classic PSO algorithm\n",
    "                \n",
    "        '''  \n",
    "        self.pos.append(self.pos[-1] + self.V[-1])\n",
    "        \n",
    "        for idx in self.inttypes:\n",
    "            self.pos[-1][idx] = int(self.pos[-1][idx])\n",
    "            \n",
    "        # if position values gets larger or smaller than limits clip the value\n",
    "        clip_lower = self.pos[-1] < self.lb\n",
    "        clip_upper = self.pos[-1] > self.ub\n",
    "        \n",
    "        self.pos[-1][clip_lower] = self.lb[clip_lower]            \n",
    "        self.pos[-1][clip_upper] = self.lb[clip_upper]\n",
    "                     \n",
    "      \n",
    "            \n",
    "\n",
    "\n",
    "\n",
    "\n",
    "class PSO(object):\n",
    "    '''\n",
    "    Update velocity according with classic PSO algorithm\n",
    "            \n",
    "    Parameters:\n",
    "    w: inercia\n",
    "    hyperparam: dictionary with keys as names and value as lists lowest and highest\\n \n",
    "    value for each hyperparameters\n",
    "    c1: acceleration for cognitive component\n",
    "    c2: acceleration for social component\n",
    "    num particles: integer number \n",
    "    '''     \n",
    "    def __init__(self, w: float, hyperparam: dict,  c1=0.5, c2=0.5, num_particles=20 ):\n",
    "        #initial paramters\n",
    "        self.w = w  #inertia weight\n",
    "        self.c1 = c1 #acceleration 1\n",
    "        self.c2 = c2 #acceleration 2\n",
    "        #particles info\n",
    "        self.hyperparam = hyperparam\n",
    "        #get type int or float of each hyperparam to use later \n",
    "        self.hyperparam_types = []\n",
    "        for param_space in self.hyperparam.values():\n",
    "            if  type(param_space[1]) == int:\n",
    "                self.hyperparam_types.append(int)\n",
    "            else:\n",
    "                self.hyperparam_types.append(float)\n",
    "                            \n",
    "        self.num_particles = num_particles\n",
    "        self.particles = []\n",
    "        self.gbest = []\n",
    "        self.gbest_score = []\n",
    "        #defining lower and upper bounds for each hyperparam\n",
    "        self.lb = [hyperparam[i][0] for i in hyperparam]\n",
    "        self.ub = [hyperparam[i][-1] for i in hyperparam]\n",
    "        \n",
    "    def initialize_particles(self):\n",
    "\n",
    "\n",
    "        for i in range(self.num_particles):\n",
    "            self.particles.append(Particle(self.lb, self.ub, self.hyperparam_types))\n",
    "\n",
    "    def update_gbest(self, g, position, fitness_val):\n",
    "        '''\n",
    "        Update global best if fitness_val < gbest_score looking at current\\n and future generations\n",
    "        \n",
    "        Parameters:\n",
    "        \n",
    "        g - generation\n",
    "        position - current particle position\n",
    "        fitness_val - value of current particle_position \n",
    "        \n",
    "        '''    \n",
    "        if fitness_val < self.gbest_score[g]:\n",
    "            self.gbest_score[g] = fitness_val\n",
    "            self.gbest[g] = position\n",
    "            for i in range(g+1,len(self.gbest)): \n",
    "                self.gbest_score[i] = self.gbest_score[g]\n",
    "                self.gbest[i] = self.gbest[g]\n",
    "\n",
    "    def run(self, train_model, generations: int):\n",
    "        '''\n",
    "        Run the complete PSO generations finding best hyperparameter combination\n",
    "            \n",
    "        Parameters:\n",
    "\n",
    "        train_model - function to train model and return loss_val        \n",
    "        generations - integer number of \n",
    "\n",
    "        \n",
    "        '''\n",
    "        self.gbest = [0 for g in range(generations)]\n",
    "        self.gbest_score = [math.inf for g in range(generations)]\n",
    "        \n",
    "        for g in range(generations):\n",
    "            #fitness function \n",
    "            \n",
    "            \n",
    "            for particle in self.particles:\n",
    "                #calculate loss error for each particle\n",
    "                fitness_value = train_model(particle.pos[-1])\n",
    "                \n",
    "                #update local and global best \n",
    "                particle.update_pbest(fitness_value)\n",
    "                self.update_gbest(g, particle.pos[-1], fitness_value)               \n",
    "                \n",
    "                #update V\n",
    "                particle.update_V(self.w, self.c1, self.c2, self.gbest[-1])\n",
    "                particle.update_pos()\n",
    "        \n",
    "        \n",
    "     "
   ]
  },
  {
   "attachments": {},
   "cell_type": "markdown",
   "metadata": {},
   "source": [
    "### dummy values test"
   ]
  },
  {
   "cell_type": "code",
   "execution_count": 10,
   "metadata": {},
   "outputs": [],
   "source": [
    "\n",
    "lower_bound, upper_bound = np.array([1,2,0.18,4]), np.array([14,15,16,17])\n",
    "types = [int, int, float, int]"
   ]
  },
  {
   "cell_type": "code",
   "execution_count": 11,
   "metadata": {},
   "outputs": [
    {
     "data": {
      "text/plain": [
       "array([1.  , 2.  , 0.18, 4.  ])"
      ]
     },
     "execution_count": 11,
     "metadata": {},
     "output_type": "execute_result"
    }
   ],
   "source": [
    "lower_bound"
   ]
  },
  {
   "cell_type": "code",
   "execution_count": 12,
   "metadata": {},
   "outputs": [],
   "source": [
    "pso = PSO(w=0.5, hyperparam= {'dropout':[0.1, 0.9], 'lr':[1e-5, 1e-3], 'image_size': [100, 160]}, c1=0.5, c2=0.5, num_particles=5 )"
   ]
  },
  {
   "cell_type": "code",
   "execution_count": 13,
   "metadata": {},
   "outputs": [],
   "source": [
    "pso.initialize_particles()"
   ]
  },
  {
   "cell_type": "code",
   "execution_count": 254,
   "metadata": {},
   "outputs": [
    {
     "data": {
      "text/plain": [
       "[<__main__.Particle at 0x267f507d180>,\n",
       " <__main__.Particle at 0x267f507e020>,\n",
       " <__main__.Particle at 0x267f507c880>,\n",
       " <__main__.Particle at 0x267f507f8b0>,\n",
       " <__main__.Particle at 0x267f507c190>]"
      ]
     },
     "execution_count": 254,
     "metadata": {},
     "output_type": "execute_result"
    }
   ],
   "source": [
    "pso.particles"
   ]
  },
  {
   "cell_type": "code",
   "execution_count": 272,
   "metadata": {},
   "outputs": [],
   "source": [
    "pso.gbest = [0 for g in range(3)]\n",
    "pso.gbest_score = [math.inf for g in range(3)]"
   ]
  },
  {
   "cell_type": "code",
   "execution_count": 273,
   "metadata": {},
   "outputs": [
    {
     "data": {
      "text/plain": [
       "[0, 0, 0]"
      ]
     },
     "execution_count": 273,
     "metadata": {},
     "output_type": "execute_result"
    }
   ],
   "source": [
    "pso.gbest"
   ]
  },
  {
   "cell_type": "code",
   "execution_count": 274,
   "metadata": {},
   "outputs": [
    {
     "name": "stdout",
     "output_type": "stream",
     "text": [
      "[0.75524978 0.5090871  0.97248172]\n",
      "[0.31935729 0.58677436 0.17068822]\n",
      "[0. 0. 0.]\n",
      "[0. 0. 0.]\n",
      "[array([8.54274987e-01, 2.68815508e-04, 1.12000000e+02])]\n",
      "v  [array([ 1.5289885e-01, -3.9721238e-04, -1.0000000e+01]), array([ 7.64494252e-02, -1.98606190e-04, -5.00000000e+00])]\n",
      "[array([8.54274987e-01, 2.68815508e-04, 1.12000000e+02]), array([9.30724412e-01, 7.02093179e-05, 1.07000000e+02])]\n",
      "[0.0605243  0.14397636 0.90456134]\n",
      "[0.23993522 0.59878868 0.77062362]\n",
      "[0. 0. 0.]\n",
      "[0. 0. 0.]\n",
      "[array([7.40020916e-01, 8.52007175e-04, 1.35000000e+02])]\n",
      "v  [array([ 2.98919304e-01,  1.74470697e-04, -3.50000000e+01]), array([ 1.49459652e-01,  8.72353484e-05, -1.75000000e+01])]\n",
      "[array([7.40020916e-01, 8.52007175e-04, 1.35000000e+02]), array([8.89480568e-01, 9.39242523e-04, 1.17500000e+02])]\n",
      "[0.70615634 0.13966564 0.77873873]\n",
      "[0.92787272 0.38719943 0.38639559]\n",
      "[0. 0. 0.]\n",
      "[0. 0. 0.]\n",
      "[array([2.80270616e-01, 8.10573291e-04, 1.22000000e+02])]\n",
      "v  [array([-3.55882436e-01, -2.73221638e-04,  0.00000000e+00]), array([-1.77941218e-01, -1.36610819e-04,  0.00000000e+00])]\n",
      "[array([2.80270616e-01, 8.10573291e-04, 1.22000000e+02]), array([1.02329398e-01, 6.73962472e-04, 1.22000000e+02])]\n",
      "[0.90029671 0.55592618 0.87456015]\n",
      "[0.59461813 0.63882873 0.47322412]\n",
      "[0. 0. 0.]\n",
      "[0. 0. 0.]\n",
      "[array([2.55121100e-01, 9.68480171e-04, 1.22000000e+02])]\n",
      "v  [array([ 3.98320503e-01,  2.24874858e-04, -5.00000000e+00]), array([ 1.99160251e-01,  1.12437429e-04, -2.50000000e+00])]\n",
      "[array([2.55121100e-01, 9.68480171e-04, 1.22000000e+02]), array([4.54281352e-01, 1.08091760e-03, 1.19500000e+02])]\n",
      "[0.85139555 0.30167108 0.91696526]\n",
      "[0.20182331 0.43516676 0.56750867]\n",
      "[0. 0. 0.]\n",
      "[0. 0. 0.]\n",
      "[array([1.26331923e-01, 2.77524149e-04, 1.11000000e+02])]\n",
      "v  [array([-1.25010587e-01,  4.07634738e-04,  1.60000000e+01]), array([-6.25052937e-02,  2.03817369e-04,  8.00000000e+00])]\n",
      "[array([1.26331923e-01, 2.77524149e-04, 1.11000000e+02]), array([6.38266295e-02, 4.81341518e-04, 1.19000000e+02])]\n",
      "[0.77293646 0.63071722 0.59907477]\n",
      "[0.53344289 0.67690644 0.32923105]\n",
      "[0. 0. 0.]\n",
      "[0. 0. 0.]\n",
      "[array([8.54274987e-01, 2.68815508e-04, 1.12000000e+02]), array([1.00000000e-01, 7.02093179e-05, 1.07000000e+02])]\n",
      "v  [array([ 1.5289885e-01, -3.9721238e-04, -1.0000000e+01]), array([ 7.64494252e-02, -1.98606190e-04, -5.00000000e+00]), array([ 3.82247126e-02, -9.93030949e-05, -2.50000000e+00])]\n",
      "[array([8.54274987e-01, 2.68815508e-04, 1.12000000e+02]), array([1.00000000e-01, 7.02093179e-05, 1.07000000e+02]), array([ 1.38224713e-01, -2.90937770e-05,  1.04500000e+02])]\n",
      "[0.13717519 0.60142456 0.41452527]\n",
      "[0.8919867  0.07535947 0.8684667 ]\n",
      "[0. 0. 0.]\n",
      "[0. 0. 0.]\n",
      "[array([7.40020916e-01, 8.52007175e-04, 1.35000000e+02]), array([8.89480568e-01, 9.39242523e-04, 1.17000000e+02])]\n",
      "v  [array([ 2.98919304e-01,  1.74470697e-04, -3.50000000e+01]), array([ 1.49459652e-01,  8.72353484e-05, -1.75000000e+01]), array([ 7.47298260e-02,  4.36176742e-05, -8.75000000e+00])]\n",
      "[array([7.40020916e-01, 8.52007175e-04, 1.35000000e+02]), array([8.89480568e-01, 9.39242523e-04, 1.17000000e+02]), array([9.64210394e-01, 9.82860197e-04, 1.08250000e+02])]\n",
      "[0.43743133 0.00555713 0.44571948]\n",
      "[0.58509272 0.64556532 0.73262288]\n",
      "[0. 0. 0.]\n",
      "[0. 0. 0.]\n",
      "[array([2.80270616e-01, 8.10573291e-04, 1.22000000e+02]), array([1.02329398e-01, 6.73962472e-04, 1.22000000e+02])]\n",
      "v  [array([-3.55882436e-01, -2.73221638e-04,  0.00000000e+00]), array([-1.77941218e-01, -1.36610819e-04,  0.00000000e+00]), array([-8.89706090e-02, -6.83054096e-05,  0.00000000e+00])]\n",
      "[array([2.80270616e-01, 8.10573291e-04, 1.22000000e+02]), array([1.02329398e-01, 6.73962472e-04, 1.22000000e+02]), array([1.33587888e-02, 6.05657062e-04, 1.22000000e+02])]\n",
      "[0.26313685 0.84281578 0.02623639]\n",
      "[0.36184254 0.94146275 0.85390538]\n",
      "[0. 0. 0.]\n",
      "[0. 0. 0.]\n",
      "[array([2.55121100e-01, 9.68480171e-04, 1.22000000e+02]), array([4.54281352e-01, 1.00000000e-05, 1.19000000e+02])]\n",
      "v  [array([ 3.98320503e-01,  2.24874858e-04, -5.00000000e+00]), array([ 1.99160251e-01,  1.12437429e-04, -2.50000000e+00]), array([ 9.95801257e-02,  5.62187146e-05, -1.25000000e+00])]\n",
      "[array([2.55121100e-01, 9.68480171e-04, 1.22000000e+02]), array([4.54281352e-01, 1.00000000e-05, 1.19000000e+02]), array([5.53861477e-01, 6.62187146e-05, 1.17750000e+02])]\n",
      "[0.80976466 0.0319074  0.51800573]\n",
      "[0.35478751 0.18236218 0.8168055 ]\n",
      "[0. 0. 0.]\n",
      "[0. 0. 0.]\n",
      "[array([1.26331923e-01, 2.77524149e-04, 1.11000000e+02]), array([1.00000000e-01, 4.81341518e-04, 1.19000000e+02])]\n",
      "v  [array([-1.25010587e-01,  4.07634738e-04,  1.60000000e+01]), array([-6.25052937e-02,  2.03817369e-04,  8.00000000e+00]), array([-3.12526468e-02,  1.01908685e-04,  4.00000000e+00])]\n",
      "[array([1.26331923e-01, 2.77524149e-04, 1.11000000e+02]), array([1.00000000e-01, 4.81341518e-04, 1.19000000e+02]), array([6.87473532e-02, 5.83250202e-04, 1.23000000e+02])]\n",
      "[0.25574205 0.31606103 0.58435402]\n",
      "[0.29318875 0.41281622 0.99435969]\n",
      "[0. 0. 0.]\n",
      "[0. 0. 0.]\n",
      "[array([8.54274987e-01, 2.68815508e-04, 1.12000000e+02]), array([1.00000000e-01, 7.02093179e-05, 1.07000000e+02]), array([1.38224713e-01, 1.00000000e-05, 1.04000000e+02])]\n",
      "v  [array([ 1.5289885e-01, -3.9721238e-04, -1.0000000e+01]), array([ 7.64494252e-02, -1.98606190e-04, -5.00000000e+00]), array([ 3.82247126e-02, -9.93030949e-05, -2.50000000e+00]), array([ 1.91123563e-02, -4.96515474e-05, -1.25000000e+00])]\n",
      "[array([8.54274987e-01, 2.68815508e-04, 1.12000000e+02]), array([1.00000000e-01, 7.02093179e-05, 1.07000000e+02]), array([1.38224713e-01, 1.00000000e-05, 1.04000000e+02]), array([ 1.57337069e-01, -3.96515474e-05,  1.02750000e+02])]\n",
      "[0.23607051 0.34404577 0.87964715]\n",
      "[0.19295458 0.39123043 0.27502018]\n",
      "[0. 0. 0.]\n",
      "[0. 0. 0.]\n",
      "[array([7.40020916e-01, 8.52007175e-04, 1.35000000e+02]), array([8.89480568e-01, 9.39242523e-04, 1.17000000e+02]), array([1.00000000e-01, 9.82860197e-04, 1.08000000e+02])]\n",
      "v  [array([ 2.98919304e-01,  1.74470697e-04, -3.50000000e+01]), array([ 1.49459652e-01,  8.72353484e-05, -1.75000000e+01]), array([ 7.47298260e-02,  4.36176742e-05, -8.75000000e+00]), array([ 3.73649130e-02,  2.18088371e-05, -4.37500000e+00])]\n",
      "[array([7.40020916e-01, 8.52007175e-04, 1.35000000e+02]), array([8.89480568e-01, 9.39242523e-04, 1.17000000e+02]), array([1.00000000e-01, 9.82860197e-04, 1.08000000e+02]), array([1.37364913e-01, 1.00466903e-03, 1.03625000e+02])]\n",
      "[0.06322064 0.85216174 0.4553612 ]\n",
      "[0.68967382 0.59893851 0.14203109]\n",
      "[0. 0. 0.]\n",
      "[0. 0. 0.]\n",
      "[array([2.80270616e-01, 8.10573291e-04, 1.22000000e+02]), array([1.02329398e-01, 6.73962472e-04, 1.22000000e+02]), array([1.00000000e-01, 6.05657062e-04, 1.22000000e+02])]\n",
      "v  [array([-3.55882436e-01, -2.73221638e-04,  0.00000000e+00]), array([-1.77941218e-01, -1.36610819e-04,  0.00000000e+00]), array([-8.89706090e-02, -6.83054096e-05,  0.00000000e+00]), array([-4.44853045e-02, -3.41527048e-05,  0.00000000e+00])]\n",
      "[array([2.80270616e-01, 8.10573291e-04, 1.22000000e+02]), array([1.02329398e-01, 6.73962472e-04, 1.22000000e+02]), array([1.00000000e-01, 6.05657062e-04, 1.22000000e+02]), array([5.55146955e-02, 5.71504357e-04, 1.22000000e+02])]\n",
      "[0.62862231 0.74274416 0.9111312 ]\n",
      "[0.34085579 0.32281652 0.8948211 ]\n",
      "[0. 0. 0.]\n",
      "[0. 0. 0.]\n",
      "[array([2.55121100e-01, 9.68480171e-04, 1.22000000e+02]), array([4.54281352e-01, 1.00000000e-05, 1.19000000e+02]), array([5.53861477e-01, 6.62187146e-05, 1.17000000e+02])]\n",
      "v  [array([ 3.98320503e-01,  2.24874858e-04, -5.00000000e+00]), array([ 1.99160251e-01,  1.12437429e-04, -2.50000000e+00]), array([ 9.95801257e-02,  5.62187146e-05, -1.25000000e+00]), array([ 4.97900628e-02,  2.81093573e-05, -6.25000000e-01])]\n",
      "[array([2.55121100e-01, 9.68480171e-04, 1.22000000e+02]), array([4.54281352e-01, 1.00000000e-05, 1.19000000e+02]), array([5.53861477e-01, 6.62187146e-05, 1.17000000e+02]), array([6.03651540e-01, 9.43280718e-05, 1.16375000e+02])]\n",
      "[0.81544763 0.1082054  0.29459841]\n",
      "[0.73889456 0.01543382 0.89272167]\n",
      "[0. 0. 0.]\n",
      "[0. 0. 0.]\n",
      "[array([1.26331923e-01, 2.77524149e-04, 1.11000000e+02]), array([1.00000000e-01, 4.81341518e-04, 1.19000000e+02]), array([1.00000000e-01, 5.83250202e-04, 1.23000000e+02])]\n",
      "v  [array([-1.25010587e-01,  4.07634738e-04,  1.60000000e+01]), array([-6.25052937e-02,  2.03817369e-04,  8.00000000e+00]), array([-3.12526468e-02,  1.01908685e-04,  4.00000000e+00]), array([-1.56263234e-02,  5.09543423e-05,  2.00000000e+00])]\n",
      "[array([1.26331923e-01, 2.77524149e-04, 1.11000000e+02]), array([1.00000000e-01, 4.81341518e-04, 1.19000000e+02]), array([1.00000000e-01, 5.83250202e-04, 1.23000000e+02]), array([8.43736766e-02, 6.34204545e-04, 1.25000000e+02])]\n"
     ]
    }
   ],
   "source": [
    "fv = 0.999\n",
    "for g in range(3):\n",
    "    \n",
    "    for p in pso.particles:\n",
    "        fv = fv - 0.1*np.random.random()\n",
    "        p.update_pbest(fv)\n",
    "        pso.update_gbest(g, p.pos[-1], fv)\n",
    "        p.update_V(0.5, 1.1, 1.1, pso.gbest[-1])\n",
    "        p.update_pos()"
   ]
  },
  {
   "cell_type": "code",
   "execution_count": 275,
   "metadata": {},
   "outputs": [
    {
     "data": {
      "text/plain": [
       "[array([7.40020916e-01, 8.52007175e-04, 1.35000000e+02]),\n",
       " array([8.89480568e-01, 9.39242523e-04, 1.17000000e+02]),\n",
       " array([1.00000000e-01, 9.82860197e-04, 1.08000000e+02])]"
      ]
     },
     "execution_count": 275,
     "metadata": {},
     "output_type": "execute_result"
    }
   ],
   "source": [
    "pso.particles[1].pbest"
   ]
  },
  {
   "cell_type": "code",
   "execution_count": 276,
   "metadata": {},
   "outputs": [
    {
     "data": {
      "text/plain": [
       "[array([2.55121100e-01, 9.68480171e-04, 1.22000000e+02]),\n",
       " array([4.54281352e-01, 1.00000000e-05, 1.19000000e+02]),\n",
       " array([5.53861477e-01, 6.62187146e-05, 1.17000000e+02])]"
      ]
     },
     "execution_count": 276,
     "metadata": {},
     "output_type": "execute_result"
    }
   ],
   "source": [
    "pso.particles[3].pbest"
   ]
  },
  {
   "cell_type": "code",
   "execution_count": 277,
   "metadata": {},
   "outputs": [
    {
     "data": {
      "text/plain": [
       "[array([1.26331923e-01, 2.77524149e-04, 1.11000000e+02]),\n",
       " array([1.00000000e-01, 4.81341518e-04, 1.19000000e+02]),\n",
       " array([1.00000000e-01, 5.83250202e-04, 1.23000000e+02])]"
      ]
     },
     "execution_count": 277,
     "metadata": {},
     "output_type": "execute_result"
    }
   ],
   "source": [
    "pso.gbest"
   ]
  },
  {
   "cell_type": "code",
   "execution_count": 263,
   "metadata": {},
   "outputs": [
    {
     "data": {
      "text/plain": [
       "[0.721766040110506, 0.5679765362999213, 0.2485090411479492]"
      ]
     },
     "execution_count": 263,
     "metadata": {},
     "output_type": "execute_result"
    }
   ],
   "source": [
    "pso.gbest_score"
   ]
  },
  {
   "cell_type": "code",
   "execution_count": 148,
   "metadata": {},
   "outputs": [
    {
     "data": {
      "text/plain": [
       "0.4442079005160786"
      ]
     },
     "execution_count": 148,
     "metadata": {},
     "output_type": "execute_result"
    }
   ],
   "source": [
    "np.random.random()"
   ]
  }
 ],
 "metadata": {
  "kernelspec": {
   "display_name": "Python 3 (ipykernel)",
   "language": "python",
   "name": "python3"
  },
  "language_info": {
   "codemirror_mode": {
    "name": "ipython",
    "version": 3
   },
   "file_extension": ".py",
   "mimetype": "text/x-python",
   "name": "python",
   "nbconvert_exporter": "python",
   "pygments_lexer": "ipython3",
   "version": "3.10.8"
  },
  "orig_nbformat": 4,
  "vscode": {
   "interpreter": {
    "hash": "26959970ceefb5b5f99a01c3d76905e488a61c44c86b026fbb9613fa4784b10c"
   }
  }
 },
 "nbformat": 4,
 "nbformat_minor": 2
}
